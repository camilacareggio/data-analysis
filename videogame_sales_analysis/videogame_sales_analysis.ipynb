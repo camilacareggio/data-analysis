{
 "cells": [
  {
   "cell_type": "markdown",
   "id": "631aa406",
   "metadata": {},
   "source": [
    "# Videogame Sales analysis"
   ]
  },
  {
   "cell_type": "markdown",
   "id": "0859ba65",
   "metadata": {},
   "source": [
    "## Data"
   ]
  },
  {
   "cell_type": "code",
   "execution_count": 1,
   "id": "6e73254b",
   "metadata": {},
   "outputs": [],
   "source": [
    "import pandas as pd\n",
    "import matplotlib.pyplot as plt"
   ]
  },
  {
   "cell_type": "code",
   "execution_count": 2,
   "id": "c9169122",
   "metadata": {},
   "outputs": [],
   "source": [
    "# Read the CSV file from https://www.kaggle.com/datasets/holmjason2/videogamedata\n",
    "df1 = pd.read_csv('game_sales_data.csv', encoding='latin-1')"
   ]
  },
  {
   "cell_type": "code",
   "execution_count": 3,
   "id": "6b64c6d4",
   "metadata": {},
   "outputs": [],
   "source": [
    "df2 = pd.read_csv('vgsales.csv')"
   ]
  },
  {
   "cell_type": "code",
   "execution_count": 4,
   "id": "db41da6f",
   "metadata": {
    "scrolled": false
   },
   "outputs": [
    {
     "data": {
      "text/html": [
       "<div>\n",
       "<style scoped>\n",
       "    .dataframe tbody tr th:only-of-type {\n",
       "        vertical-align: middle;\n",
       "    }\n",
       "\n",
       "    .dataframe tbody tr th {\n",
       "        vertical-align: top;\n",
       "    }\n",
       "\n",
       "    .dataframe thead th {\n",
       "        text-align: right;\n",
       "    }\n",
       "</style>\n",
       "<table border=\"1\" class=\"dataframe\">\n",
       "  <thead>\n",
       "    <tr style=\"text-align: right;\">\n",
       "      <th></th>\n",
       "      <th>Rank</th>\n",
       "      <th>Name</th>\n",
       "      <th>Platform</th>\n",
       "      <th>Publisher</th>\n",
       "      <th>Developer</th>\n",
       "      <th>Critic_Score</th>\n",
       "      <th>User_Score</th>\n",
       "      <th>Total_Shipped</th>\n",
       "      <th>Year</th>\n",
       "    </tr>\n",
       "  </thead>\n",
       "  <tbody>\n",
       "    <tr>\n",
       "      <th>0</th>\n",
       "      <td>1</td>\n",
       "      <td>Wii Sports</td>\n",
       "      <td>Wii</td>\n",
       "      <td>Nintendo</td>\n",
       "      <td>Nintendo EAD</td>\n",
       "      <td>7.7</td>\n",
       "      <td>8.0</td>\n",
       "      <td>82.90</td>\n",
       "      <td>2006</td>\n",
       "    </tr>\n",
       "    <tr>\n",
       "      <th>1</th>\n",
       "      <td>2</td>\n",
       "      <td>Super Mario Bros.</td>\n",
       "      <td>NES</td>\n",
       "      <td>Nintendo</td>\n",
       "      <td>Nintendo EAD</td>\n",
       "      <td>10.0</td>\n",
       "      <td>8.2</td>\n",
       "      <td>40.24</td>\n",
       "      <td>1985</td>\n",
       "    </tr>\n",
       "    <tr>\n",
       "      <th>2</th>\n",
       "      <td>3</td>\n",
       "      <td>Counter-Strike: Global Offensive</td>\n",
       "      <td>PC</td>\n",
       "      <td>Valve</td>\n",
       "      <td>Valve Corporation</td>\n",
       "      <td>8.0</td>\n",
       "      <td>7.5</td>\n",
       "      <td>40.00</td>\n",
       "      <td>2012</td>\n",
       "    </tr>\n",
       "    <tr>\n",
       "      <th>3</th>\n",
       "      <td>4</td>\n",
       "      <td>Mario Kart Wii</td>\n",
       "      <td>Wii</td>\n",
       "      <td>Nintendo</td>\n",
       "      <td>Nintendo EAD</td>\n",
       "      <td>8.2</td>\n",
       "      <td>9.1</td>\n",
       "      <td>37.32</td>\n",
       "      <td>2008</td>\n",
       "    </tr>\n",
       "    <tr>\n",
       "      <th>4</th>\n",
       "      <td>5</td>\n",
       "      <td>PLAYERUNKNOWN'S BATTLEGROUNDS</td>\n",
       "      <td>PC</td>\n",
       "      <td>PUBG Corporation</td>\n",
       "      <td>PUBG Corporation</td>\n",
       "      <td>8.6</td>\n",
       "      <td>4.7</td>\n",
       "      <td>36.60</td>\n",
       "      <td>2017</td>\n",
       "    </tr>\n",
       "  </tbody>\n",
       "</table>\n",
       "</div>"
      ],
      "text/plain": [
       "   Rank                              Name Platform         Publisher  \\\n",
       "0     1                        Wii Sports      Wii          Nintendo   \n",
       "1     2                 Super Mario Bros.      NES          Nintendo   \n",
       "2     3  Counter-Strike: Global Offensive       PC             Valve   \n",
       "3     4                    Mario Kart Wii      Wii          Nintendo   \n",
       "4     5     PLAYERUNKNOWN'S BATTLEGROUNDS       PC  PUBG Corporation   \n",
       "\n",
       "           Developer  Critic_Score  User_Score  Total_Shipped  Year  \n",
       "0       Nintendo EAD           7.7         8.0          82.90  2006  \n",
       "1       Nintendo EAD          10.0         8.2          40.24  1985  \n",
       "2  Valve Corporation           8.0         7.5          40.00  2012  \n",
       "3       Nintendo EAD           8.2         9.1          37.32  2008  \n",
       "4   PUBG Corporation           8.6         4.7          36.60  2017  "
      ]
     },
     "execution_count": 4,
     "metadata": {},
     "output_type": "execute_result"
    }
   ],
   "source": [
    "df1.head()"
   ]
  },
  {
   "cell_type": "code",
   "execution_count": 5,
   "id": "ecd886a7",
   "metadata": {
    "scrolled": true
   },
   "outputs": [
    {
     "data": {
      "text/plain": [
       "(19600, 9)"
      ]
     },
     "execution_count": 5,
     "metadata": {},
     "output_type": "execute_result"
    }
   ],
   "source": [
    "df1.shape"
   ]
  },
  {
   "cell_type": "code",
   "execution_count": 6,
   "id": "d2595ce1",
   "metadata": {
    "scrolled": true
   },
   "outputs": [
    {
     "data": {
      "text/plain": [
       "Index(['Rank', 'Name', 'Platform', 'Publisher', 'Developer', 'Critic_Score',\n",
       "       'User_Score', 'Total_Shipped', 'Year'],\n",
       "      dtype='object')"
      ]
     },
     "execution_count": 6,
     "metadata": {},
     "output_type": "execute_result"
    }
   ],
   "source": [
    "df1.columns"
   ]
  },
  {
   "cell_type": "markdown",
   "id": "0994d93c",
   "metadata": {},
   "source": [
    "## Preparing an cleaning Data"
   ]
  },
  {
   "cell_type": "markdown",
   "id": "28e311b7",
   "metadata": {},
   "source": [
    "Checking for null values"
   ]
  },
  {
   "cell_type": "code",
   "execution_count": 7,
   "id": "af2889e6",
   "metadata": {
    "scrolled": true
   },
   "outputs": [
    {
     "data": {
      "text/html": [
       "<div>\n",
       "<style scoped>\n",
       "    .dataframe tbody tr th:only-of-type {\n",
       "        vertical-align: middle;\n",
       "    }\n",
       "\n",
       "    .dataframe tbody tr th {\n",
       "        vertical-align: top;\n",
       "    }\n",
       "\n",
       "    .dataframe thead th {\n",
       "        text-align: right;\n",
       "    }\n",
       "</style>\n",
       "<table border=\"1\" class=\"dataframe\">\n",
       "  <thead>\n",
       "    <tr style=\"text-align: right;\">\n",
       "      <th></th>\n",
       "      <th>Rank</th>\n",
       "      <th>Name</th>\n",
       "      <th>Platform</th>\n",
       "      <th>Publisher</th>\n",
       "      <th>Developer</th>\n",
       "      <th>Critic_Score</th>\n",
       "      <th>User_Score</th>\n",
       "      <th>Total_Shipped</th>\n",
       "      <th>Year</th>\n",
       "    </tr>\n",
       "  </thead>\n",
       "  <tbody>\n",
       "  </tbody>\n",
       "</table>\n",
       "</div>"
      ],
      "text/plain": [
       "Empty DataFrame\n",
       "Columns: [Rank, Name, Platform, Publisher, Developer, Critic_Score, User_Score, Total_Shipped, Year]\n",
       "Index: []"
      ]
     },
     "execution_count": 7,
     "metadata": {},
     "output_type": "execute_result"
    }
   ],
   "source": [
    "df1[df1.Platform.isnull() | df1.Name.isnull()]"
   ]
  },
  {
   "cell_type": "code",
   "execution_count": 8,
   "id": "6e7b8fe3",
   "metadata": {
    "scrolled": true
   },
   "outputs": [
    {
     "data": {
      "text/html": [
       "<div>\n",
       "<style scoped>\n",
       "    .dataframe tbody tr th:only-of-type {\n",
       "        vertical-align: middle;\n",
       "    }\n",
       "\n",
       "    .dataframe tbody tr th {\n",
       "        vertical-align: top;\n",
       "    }\n",
       "\n",
       "    .dataframe thead th {\n",
       "        text-align: right;\n",
       "    }\n",
       "</style>\n",
       "<table border=\"1\" class=\"dataframe\">\n",
       "  <thead>\n",
       "    <tr style=\"text-align: right;\">\n",
       "      <th></th>\n",
       "      <th>Rank</th>\n",
       "      <th>Name</th>\n",
       "      <th>Platform</th>\n",
       "      <th>Publisher</th>\n",
       "      <th>Developer</th>\n",
       "      <th>Critic_Score</th>\n",
       "      <th>User_Score</th>\n",
       "      <th>Total_Shipped</th>\n",
       "      <th>Year</th>\n",
       "    </tr>\n",
       "  </thead>\n",
       "  <tbody>\n",
       "    <tr>\n",
       "      <th>10540</th>\n",
       "      <td>10539</td>\n",
       "      <td>Gourmet Chef: Cook Your Way to Fame</td>\n",
       "      <td>DS</td>\n",
       "      <td>Ubisoft</td>\n",
       "      <td>NaN</td>\n",
       "      <td>7.0</td>\n",
       "      <td>NaN</td>\n",
       "      <td>0.14</td>\n",
       "      <td>2008</td>\n",
       "    </tr>\n",
       "    <tr>\n",
       "      <th>12501</th>\n",
       "      <td>12500</td>\n",
       "      <td>Wordmaster</td>\n",
       "      <td>DS</td>\n",
       "      <td>Destination Software, Inc</td>\n",
       "      <td>NaN</td>\n",
       "      <td>5.8</td>\n",
       "      <td>NaN</td>\n",
       "      <td>0.09</td>\n",
       "      <td>2008</td>\n",
       "    </tr>\n",
       "  </tbody>\n",
       "</table>\n",
       "</div>"
      ],
      "text/plain": [
       "        Rank                                 Name Platform  \\\n",
       "10540  10539  Gourmet Chef: Cook Your Way to Fame       DS   \n",
       "12501  12500                           Wordmaster       DS   \n",
       "\n",
       "                       Publisher Developer  Critic_Score  User_Score  \\\n",
       "10540                    Ubisoft       NaN           7.0         NaN   \n",
       "12501  Destination Software, Inc       NaN           5.8         NaN   \n",
       "\n",
       "       Total_Shipped  Year  \n",
       "10540           0.14  2008  \n",
       "12501           0.09  2008  "
      ]
     },
     "execution_count": 8,
     "metadata": {},
     "output_type": "execute_result"
    }
   ],
   "source": [
    "df1[df1.Publisher.isnull() | df1.Developer.isnull()]"
   ]
  },
  {
   "cell_type": "code",
   "execution_count": 9,
   "id": "f551f29d",
   "metadata": {
    "scrolled": false
   },
   "outputs": [
    {
     "data": {
      "text/plain": [
       "9631"
      ]
     },
     "execution_count": 9,
     "metadata": {},
     "output_type": "execute_result"
    }
   ],
   "source": [
    "len(df1[df1.Critic_Score.isnull()])"
   ]
  },
  {
   "cell_type": "code",
   "execution_count": 10,
   "id": "e41c4424",
   "metadata": {
    "scrolled": true
   },
   "outputs": [
    {
     "data": {
      "text/plain": [
       "17377"
      ]
     },
     "execution_count": 10,
     "metadata": {},
     "output_type": "execute_result"
    }
   ],
   "source": [
    "len(df1[df1.User_Score.isnull()])"
   ]
  },
  {
   "cell_type": "markdown",
   "id": "92602741",
   "metadata": {},
   "source": [
    "I don't need the \"Rank\" column since it is the same as the index"
   ]
  },
  {
   "cell_type": "code",
   "execution_count": 11,
   "id": "7c77cb19",
   "metadata": {},
   "outputs": [],
   "source": [
    "df1 = df1.drop('Rank', axis=1)"
   ]
  },
  {
   "cell_type": "code",
   "execution_count": 12,
   "id": "1dbc8712",
   "metadata": {
    "scrolled": true
   },
   "outputs": [
    {
     "data": {
      "text/plain": [
       "(19600, 8)"
      ]
     },
     "execution_count": 12,
     "metadata": {},
     "output_type": "execute_result"
    }
   ],
   "source": [
    "df1.shape"
   ]
  },
  {
   "cell_type": "markdown",
   "id": "6e5cba87",
   "metadata": {},
   "source": [
    "## Sales analysis"
   ]
  },
  {
   "cell_type": "markdown",
   "id": "201213e2",
   "metadata": {},
   "source": [
    "### Sales per Year"
   ]
  },
  {
   "cell_type": "code",
   "execution_count": 17,
   "id": "2d2d2696",
   "metadata": {},
   "outputs": [],
   "source": [
    "sales_per_year = df1.groupby(\"Year\")[\"Total_Shipped\"].sum().sort_values(ascending=False)"
   ]
  },
  {
   "cell_type": "code",
   "execution_count": 18,
   "id": "5628a3d8",
   "metadata": {
    "scrolled": false
   },
   "outputs": [
    {
     "data": {
      "image/png": "[encoded data removed]",
      "text/plain": [
       "<Figure size 800x600 with 1 Axes>"
      ]
     },
     "metadata": {},
     "output_type": "display_data"
    }
   ],
   "source": [
    "# Set the figsize\n",
    "fig, ax = plt.subplots(figsize=(8, 6))\n",
    "\n",
    "# Plot a bar plot\n",
    "ax.bar(sales_per_year.index, sales_per_year)\n",
    "\n",
    "# Set labels and title\n",
    "ax.set_xlabel(\"Year\")\n",
    "ax.set_ylabel(\"Total Shipped\")\n",
    "ax.set_title(\"Sales per Year\")\n",
    "\n",
    "# Adjusting x labels\n",
    "ax.xaxis.set_major_locator(plt.MaxNLocator(10))\n",
    "plt.xticks(rotation=45)\n",
    "\n",
    "plt.show()"
   ]
  },
  {
   "cell_type": "markdown",
   "id": "5dd43cf3",
   "metadata": {},
   "source": [
    "Checking the year of maximum and minimun sales"
   ]
  },
  {
   "cell_type": "code",
   "execution_count": 19,
   "id": "c6e84fbf",
   "metadata": {
    "scrolled": true
   },
   "outputs": [
    {
     "name": "stdout",
     "output_type": "stream",
     "text": [
      "Maximum Sales: 734.62\n",
      "Year of Maximum Sales: 2008\n",
      "Minumium Sales: 0.31\n",
      "Year of Minimum Sales: 1979\n"
     ]
    }
   ],
   "source": [
    "max_sales_value = sales_per_year.max()\n",
    "max_sales_year = sales_per_year.idxmax()\n",
    "\n",
    "min_sales_value = sales_per_year.min()\n",
    "min_sales_year = sales_per_year.idxmin()\n",
    "\n",
    "# Print\n",
    "print(\"Maximum Sales:\", max_sales_value)\n",
    "print(\"Year of Maximum Sales:\", max_sales_year)\n",
    "\n",
    "print(\"Minumium Sales:\", min_sales_value)\n",
    "print(\"Year of Minimum Sales:\", min_sales_year)"
   ]
  },
  {
   "cell_type": "markdown",
   "id": "f99b020b",
   "metadata": {},
   "source": [
    "## Platform analysis"
   ]
  },
  {
   "cell_type": "markdown",
   "id": "f2947b88",
   "metadata": {},
   "source": [
    "Checking how many games and how many sales there are per platform"
   ]
  },
  {
   "cell_type": "code",
   "execution_count": 13,
   "id": "154f09d4",
   "metadata": {
    "scrolled": false
   },
   "outputs": [
    {
     "data": {
      "text/html": [
       "<div>\n",
       "<style scoped>\n",
       "    .dataframe tbody tr th:only-of-type {\n",
       "        vertical-align: middle;\n",
       "    }\n",
       "\n",
       "    .dataframe tbody tr th {\n",
       "        vertical-align: top;\n",
       "    }\n",
       "\n",
       "    .dataframe thead th {\n",
       "        text-align: right;\n",
       "    }\n",
       "</style>\n",
       "<table border=\"1\" class=\"dataframe\">\n",
       "  <thead>\n",
       "    <tr style=\"text-align: right;\">\n",
       "      <th></th>\n",
       "      <th>Cant_Games</th>\n",
       "      <th>Total_Shipped</th>\n",
       "    </tr>\n",
       "    <tr>\n",
       "      <th>Platform</th>\n",
       "      <th></th>\n",
       "      <th></th>\n",
       "    </tr>\n",
       "  </thead>\n",
       "  <tbody>\n",
       "    <tr>\n",
       "      <th>PS2</th>\n",
       "      <td>2214</td>\n",
       "      <td>1257.71</td>\n",
       "    </tr>\n",
       "    <tr>\n",
       "      <th>PC</th>\n",
       "      <td>1913</td>\n",
       "      <td>1107.02</td>\n",
       "    </tr>\n",
       "    <tr>\n",
       "      <th>X360</th>\n",
       "      <td>1302</td>\n",
       "      <td>982.82</td>\n",
       "    </tr>\n",
       "    <tr>\n",
       "      <th>PS3</th>\n",
       "      <td>1368</td>\n",
       "      <td>965.52</td>\n",
       "    </tr>\n",
       "    <tr>\n",
       "      <th>Wii</th>\n",
       "      <td>1352</td>\n",
       "      <td>897.23</td>\n",
       "    </tr>\n",
       "  </tbody>\n",
       "</table>\n",
       "</div>"
      ],
      "text/plain": [
       "          Cant_Games  Total_Shipped\n",
       "Platform                           \n",
       "PS2             2214        1257.71\n",
       "PC              1913        1107.02\n",
       "X360            1302         982.82\n",
       "PS3             1368         965.52\n",
       "Wii             1352         897.23"
      ]
     },
     "execution_count": 13,
     "metadata": {},
     "output_type": "execute_result"
    }
   ],
   "source": [
    "# pivot table\n",
    "pivot_platform = df1.pivot_table(\n",
    "    index=\"Platform\", \n",
    "    values=[\"Total_Shipped\"], \n",
    "    aggfunc={\"Total_Shipped\": \"sum\", \n",
    "             \"Platform\": \"count\"}\n",
    ")\n",
    "\n",
    "# ordering and renaming\n",
    "pivot_platform = pivot_platform.sort_values(\"Total_Shipped\", ascending=False).rename(\n",
    "    columns={'Platform': 'Cant_Games'})\n",
    "\n",
    "pivot_platform.head()"
   ]
  },
  {
   "cell_type": "code",
   "execution_count": 14,
   "id": "99fc7ddd",
   "metadata": {
    "scrolled": false
   },
   "outputs": [
    {
     "data": {
      "image/png": "[encoded data removed]",
      "text/plain": [
       "<Figure size 1200x600 with 1 Axes>"
      ]
     },
     "metadata": {},
     "output_type": "display_data"
    }
   ],
   "source": [
    "fig, ax = plt.subplots(figsize=(12, 6))\n",
    "\n",
    "# Create a bar plot of the pivot table\n",
    "pivot_platform.plot(kind='bar', ax=ax)\n",
    "\n",
    "# Set labels and title\n",
    "plt.xlabel('Platform')\n",
    "plt.ylabel('Count')\n",
    "plt.title('Total Sales and Game Count per Platform')\n",
    "\n",
    "# Display the plot\n",
    "plt.show()"
   ]
  },
  {
   "cell_type": "markdown",
   "id": "3829a563",
   "metadata": {},
   "source": [
    "We can see that **PS2, PC** and **DS** are the platforms with more games released  \n",
    "and **PS2, PC, X360, PS3** and **Wii** are the platforms with most sales"
   ]
  },
  {
   "cell_type": "markdown",
   "id": "9f2b3c44",
   "metadata": {},
   "source": [
    "We could check the average of sales per game for each platform"
   ]
  },
  {
   "cell_type": "code",
   "execution_count": 15,
   "id": "8ffa5fcf",
   "metadata": {},
   "outputs": [],
   "source": [
    "avg_shipped = df1.groupby(\"Platform\")[\"Total_Shipped\"].mean().sort_values(ascending=False)"
   ]
  },
  {
   "cell_type": "code",
   "execution_count": 16,
   "id": "49fb47f8",
   "metadata": {
    "scrolled": true
   },
   "outputs": [
    {
     "data": {
      "image/png": "[encoded data removed]",
      "text/plain": [
       "<Figure size 1200x600 with 1 Axes>"
      ]
     },
     "metadata": {},
     "output_type": "display_data"
    }
   ],
   "source": [
    "# Set the figsize\n",
    "fig, ax = plt.subplots(figsize=(12, 6))\n",
    "\n",
    "# Plot a bar plot\n",
    "ax.bar(avg_shipped.index, avg_shipped)\n",
    "\n",
    "# Set labels and title\n",
    "ax.set_xlabel(\"Platform\")\n",
    "ax.set_ylabel(\"Shipped/Games\")\n",
    "ax.set_title(\"Sales per Game for each platform\")\n",
    "\n",
    "# Adjusting x labels\n",
    "plt.xticks(rotation=90)\n",
    "\n",
    "plt.show()"
   ]
  },
  {
   "cell_type": "markdown",
   "id": "150bcdd4",
   "metadata": {},
   "source": [
    "We can see that **GBC, GB, NES** and **GEN** are the Platforms that make the most sales per game released"
   ]
  },
  {
   "cell_type": "markdown",
   "id": "c3c76f14",
   "metadata": {},
   "source": [
    "## Platforms life"
   ]
  },
  {
   "cell_type": "code",
   "execution_count": 20,
   "id": "72dc80ac",
   "metadata": {
    "scrolled": true
   },
   "outputs": [],
   "source": [
    "import altair as alt"
   ]
  },
  {
   "cell_type": "markdown",
   "id": "486003e9",
   "metadata": {},
   "source": [
    "Check from which year up to which year there are games released for the platform"
   ]
  },
  {
   "cell_type": "code",
   "execution_count": 42,
   "id": "d547d2f2",
   "metadata": {
    "scrolled": true
   },
   "outputs": [
    {
     "data": {
      "text/html": [
       "<div>\n",
       "<style scoped>\n",
       "    .dataframe tbody tr th:only-of-type {\n",
       "        vertical-align: middle;\n",
       "    }\n",
       "\n",
       "    .dataframe tbody tr th {\n",
       "        vertical-align: top;\n",
       "    }\n",
       "\n",
       "    .dataframe thead th {\n",
       "        text-align: right;\n",
       "    }\n",
       "</style>\n",
       "<table border=\"1\" class=\"dataframe\">\n",
       "  <thead>\n",
       "    <tr style=\"text-align: right;\">\n",
       "      <th></th>\n",
       "      <th>Platform</th>\n",
       "      <th>from</th>\n",
       "      <th>to</th>\n",
       "    </tr>\n",
       "  </thead>\n",
       "  <tbody>\n",
       "    <tr>\n",
       "      <th>0</th>\n",
       "      <td>2600</td>\n",
       "      <td>1977</td>\n",
       "      <td>1990</td>\n",
       "    </tr>\n",
       "    <tr>\n",
       "      <th>1</th>\n",
       "      <td>3DO</td>\n",
       "      <td>1994</td>\n",
       "      <td>1995</td>\n",
       "    </tr>\n",
       "    <tr>\n",
       "      <th>2</th>\n",
       "      <td>3DS</td>\n",
       "      <td>2011</td>\n",
       "      <td>2019</td>\n",
       "    </tr>\n",
       "    <tr>\n",
       "      <th>3</th>\n",
       "      <td>Amig</td>\n",
       "      <td>2018</td>\n",
       "      <td>2018</td>\n",
       "    </tr>\n",
       "    <tr>\n",
       "      <th>4</th>\n",
       "      <td>DC</td>\n",
       "      <td>1998</td>\n",
       "      <td>2008</td>\n",
       "    </tr>\n",
       "  </tbody>\n",
       "</table>\n",
       "</div>"
      ],
      "text/plain": [
       "  Platform  from    to\n",
       "0     2600  1977  1990\n",
       "1      3DO  1994  1995\n",
       "2      3DS  2011  2019\n",
       "3     Amig  2018  2018\n",
       "4       DC  1998  2008"
      ]
     },
     "execution_count": 42,
     "metadata": {},
     "output_type": "execute_result"
    }
   ],
   "source": [
    "# pivot table\n",
    "pivot_years = df1.pivot_table(\n",
    "    index=\"Platform\", \n",
    "    values=\"Year\", \n",
    "   aggfunc={\"Year\": [\"max\", \"min\"]}\n",
    ")\n",
    "\n",
    "# change name\n",
    "pivot_years = pivot_years.rename(columns={'min': 'from',\n",
    "                                         'max': \"to\"})\n",
    "\n",
    "# Reorder the columns\n",
    "pivot_years = pivot_years[[\"from\", \"to\"]]\n",
    "pivot_years = pivot_years.reset_index()\n",
    "\n",
    "pivot_years.head()"
   ]
  },
  {
   "cell_type": "markdown",
   "id": "76c67c5b",
   "metadata": {},
   "source": [
    "Timeline of the years a platform has been active"
   ]
  },
  {
   "cell_type": "code",
   "execution_count": 66,
   "id": "7a99cf8a",
   "metadata": {
    "scrolled": true
   },
   "outputs": [
    {
     "data": {
      "text/html": [
       "\n",
       "<style>\n",
       "  #altair-viz-59e4a6a4167f4bec8a15decfa21563db.vega-embed {\n",
       "    width: 100%;\n",
       "    display: flex;\n",
       "  }\n",
       "\n",
       "  #altair-viz-59e4a6a4167f4bec8a15decfa21563db.vega-embed details,\n",
       "  #altair-viz-59e4a6a4167f4bec8a15decfa21563db.vega-embed details summary {\n",
       "    position: relative;\n",
       "  }\n",
       "</style>\n",
       "<div id=\"altair-viz-59e4a6a4167f4bec8a15decfa21563db\"></div>\n",
       "<script type=\"text/javascript\">\n",
       "  var VEGA_DEBUG = (typeof VEGA_DEBUG == \"undefined\") ? {} : VEGA_DEBUG;\n",
       "  (function(spec, embedOpt){\n",
       "    let outputDiv = document.currentScript.previousElementSibling;\n",
       "    if (outputDiv.id !== \"altair-viz-59e4a6a4167f4bec8a15decfa21563db\") {\n",
       "      outputDiv = document.getElementById(\"altair-viz-59e4a6a4167f4bec8a15decfa21563db\");\n",
       "    }\n",
       "    const paths = {\n",
       "      \"vega\": \"https://cdn.jsdelivr.net/npm/vega@5?noext\",\n",
       "      \"vega-lib\": \"https://cdn.jsdelivr.net/npm/vega-lib?noext\",\n",
       "      \"vega-lite\": \"https://cdn.jsdelivr.net/npm/vega-lite@5.8.0?noext\",\n",
       "      \"vega-embed\": \"https://cdn.jsdelivr.net/npm/vega-embed@6?noext\",\n",
       "    };\n",
       "\n",
       "    function maybeLoadScript(lib, version) {\n",
       "      var key = `${lib.replace(\"-\", \"\")}_version`;\n",
       "      return (VEGA_DEBUG[key] == version) ?\n",
       "        Promise.resolve(paths[lib]) :\n",
       "        new Promise(function(resolve, reject) {\n",
       "          var s = document.createElement('script');\n",
       "          document.getElementsByTagName(\"head\")[0].appendChild(s);\n",
       "          s.async = true;\n",
       "          s.onload = () => {\n",
       "            VEGA_DEBUG[key] = version;\n",
       "            return resolve(paths[lib]);\n",
       "          };\n",
       "          s.onerror = () => reject(`Error loading script: ${paths[lib]}`);\n",
       "          s.src = paths[lib];\n",
       "        });\n",
       "    }\n",
       "\n",
       "    function showError(err) {\n",
       "      outputDiv.innerHTML = `<div class=\"error\" style=\"color:red;\">${err}</div>`;\n",
       "      throw err;\n",
       "    }\n",
       "\n",
       "    function displayChart(vegaEmbed) {\n",
       "      vegaEmbed(outputDiv, spec, embedOpt)\n",
       "        .catch(err => showError(`Javascript Error: ${err.message}<br>This usually means there's a typo in your chart specification. See the javascript console for the full traceback.`));\n",
       "    }\n",
       "\n",
       "    if(typeof define === \"function\" && define.amd) {\n",
       "      requirejs.config({paths});\n",
       "      require([\"vega-embed\"], displayChart, err => showError(`Error loading script: ${err.message}`));\n",
       "    } else {\n",
       "      maybeLoadScript(\"vega\", \"5\")\n",
       "        .then(() => maybeLoadScript(\"vega-lite\", \"5.8.0\"))\n",
       "        .then(() => maybeLoadScript(\"vega-embed\", \"6\"))\n",
       "        .catch(showError)\n",
       "        .then(() => displayChart(vegaEmbed));\n",
       "    }\n",
       "  })({\"config\": {\"view\": {\"continuousWidth\": 300, \"continuousHeight\": 300}, \"axis\": {\"labelFontSize\": 12, \"titleFontSize\": 14}}, \"data\": {\"name\": \"data-9be1053763847126be1e203459bd8acf\"}, \"mark\": {\"type\": \"bar\"}, \"encoding\": {\"x\": {\"field\": \"from\", \"scale\": {\"domain\": [1985, 2020]}, \"type\": \"quantitative\"}, \"x2\": {\"field\": \"to\"}, \"y\": {\"field\": \"Platform\", \"type\": \"nominal\"}}, \"title\": \"Top 10 platforms lifeterm\", \"width\": 900, \"$schema\": \"https://vega.github.io/schema/vega-lite/v5.8.0.json\", \"datasets\": {\"data-9be1053763847126be1e203459bd8acf\": [{\"Platform\": \"3DS\", \"from\": 2011, \"to\": 2019}, {\"Platform\": \"DS\", \"from\": 2004, \"to\": 2016}, {\"Platform\": \"GBA\", \"from\": 2001, \"to\": 2007}, {\"Platform\": \"PC\", \"from\": 1986, \"to\": 2020}, {\"Platform\": \"PS\", \"from\": 1994, \"to\": 2004}, {\"Platform\": \"PS2\", \"from\": 2000, \"to\": 2016}, {\"Platform\": \"PS3\", \"from\": 2006, \"to\": 2018}, {\"Platform\": \"PS4\", \"from\": 2013, \"to\": 2020}, {\"Platform\": \"Wii\", \"from\": 2005, \"to\": 2018}, {\"Platform\": \"X360\", \"from\": 2005, \"to\": 2018}]}}, {\"mode\": \"vega-lite\"});\n",
       "</script>"
      ],
      "text/plain": [
       "alt.Chart(...)"
      ]
     },
     "execution_count": 66,
     "metadata": {},
     "output_type": "execute_result"
    }
   ],
   "source": [
    "# Get the platforms from the first 10 rows of pivot_platform\n",
    "top_platforms = pivot_platform.index[:10]\n",
    "\n",
    "# Filter the pivot_years DataFrame to include only the top platforms\n",
    "filtered_years = pivot_years[pivot_years['Platform'].isin(top_platforms)]\n",
    "\n",
    "chart = alt.Chart(filtered_years).mark_bar().encode(\n",
    "    x=alt.X('from:Q', scale=alt.Scale(domain=[1985, 2020])),\n",
    "    x2='to:Q',\n",
    "    y = alt.Y('Platform')\n",
    ")\n",
    "\n",
    "# configure chart\n",
    "chart = chart.configure_axis(\n",
    "    labelFontSize=12,\n",
    "    titleFontSize=14\n",
    ").properties(\n",
    "    width=900,  # Set the desired width\n",
    "    title='Top 10 platforms lifeterm'\n",
    ")\n",
    "\n",
    "chart"
   ]
  },
  {
   "cell_type": "markdown",
   "id": "89843351",
   "metadata": {},
   "source": [
    "## Scores"
   ]
  },
  {
   "cell_type": "markdown",
   "id": "8f8f3ab7",
   "metadata": {},
   "source": [
    "Best rated games by critics"
   ]
  },
  {
   "cell_type": "code",
   "execution_count": 73,
   "id": "a801f011",
   "metadata": {},
   "outputs": [
    {
     "data": {
      "text/plain": [
       "10.0"
      ]
     },
     "execution_count": 73,
     "metadata": {},
     "output_type": "execute_result"
    }
   ],
   "source": [
    "max_critics_score = df1.Critic_Score.max()\n",
    "max_critics_score"
   ]
  },
  {
   "cell_type": "code",
   "execution_count": 81,
   "id": "d0fae644",
   "metadata": {
    "scrolled": false
   },
   "outputs": [
    {
     "data": {
      "text/html": [
       "<div>\n",
       "<style scoped>\n",
       "    .dataframe tbody tr th:only-of-type {\n",
       "        vertical-align: middle;\n",
       "    }\n",
       "\n",
       "    .dataframe tbody tr th {\n",
       "        vertical-align: top;\n",
       "    }\n",
       "\n",
       "    .dataframe thead th {\n",
       "        text-align: right;\n",
       "    }\n",
       "</style>\n",
       "<table border=\"1\" class=\"dataframe\">\n",
       "  <thead>\n",
       "    <tr style=\"text-align: right;\">\n",
       "      <th></th>\n",
       "      <th>Name</th>\n",
       "      <th>Platform</th>\n",
       "      <th>Publisher</th>\n",
       "      <th>Developer</th>\n",
       "      <th>Critic_Score</th>\n",
       "      <th>User_Score</th>\n",
       "      <th>Total_Shipped</th>\n",
       "      <th>Year</th>\n",
       "    </tr>\n",
       "  </thead>\n",
       "  <tbody>\n",
       "    <tr>\n",
       "      <th>1</th>\n",
       "      <td>Super Mario Bros.</td>\n",
       "      <td>NES</td>\n",
       "      <td>Nintendo</td>\n",
       "      <td>Nintendo EAD</td>\n",
       "      <td>10.0</td>\n",
       "      <td>8.2</td>\n",
       "      <td>40.24</td>\n",
       "      <td>1985</td>\n",
       "    </tr>\n",
       "    <tr>\n",
       "      <th>5</th>\n",
       "      <td>Minecraft</td>\n",
       "      <td>PC</td>\n",
       "      <td>Mojang</td>\n",
       "      <td>Mojang AB</td>\n",
       "      <td>10.0</td>\n",
       "      <td>7.8</td>\n",
       "      <td>33.15</td>\n",
       "      <td>2010</td>\n",
       "    </tr>\n",
       "    <tr>\n",
       "      <th>40</th>\n",
       "      <td>Grand Theft Auto V</td>\n",
       "      <td>X360</td>\n",
       "      <td>Rockstar Games</td>\n",
       "      <td>Rockstar North</td>\n",
       "      <td>10.0</td>\n",
       "      <td>NaN</td>\n",
       "      <td>15.86</td>\n",
       "      <td>2013</td>\n",
       "    </tr>\n",
       "    <tr>\n",
       "      <th>85</th>\n",
       "      <td>Grand Theft Auto IV</td>\n",
       "      <td>X360</td>\n",
       "      <td>Rockstar Games</td>\n",
       "      <td>Rockstar North</td>\n",
       "      <td>10.0</td>\n",
       "      <td>NaN</td>\n",
       "      <td>11.09</td>\n",
       "      <td>2008</td>\n",
       "    </tr>\n",
       "    <tr>\n",
       "      <th>93</th>\n",
       "      <td>Grand Theft Auto IV</td>\n",
       "      <td>PS3</td>\n",
       "      <td>Rockstar Games</td>\n",
       "      <td>Rockstar North</td>\n",
       "      <td>10.0</td>\n",
       "      <td>9.0</td>\n",
       "      <td>10.57</td>\n",
       "      <td>2008</td>\n",
       "    </tr>\n",
       "    <tr>\n",
       "      <th>121</th>\n",
       "      <td>Super Mario Kart</td>\n",
       "      <td>SNES</td>\n",
       "      <td>Nintendo</td>\n",
       "      <td>Nintendo EAD</td>\n",
       "      <td>10.0</td>\n",
       "      <td>NaN</td>\n",
       "      <td>8.76</td>\n",
       "      <td>1992</td>\n",
       "    </tr>\n",
       "    <tr>\n",
       "      <th>300</th>\n",
       "      <td>The Legend of Zelda: A Link to the Past</td>\n",
       "      <td>SNES</td>\n",
       "      <td>Nintendo</td>\n",
       "      <td>Nintendo EAD</td>\n",
       "      <td>10.0</td>\n",
       "      <td>NaN</td>\n",
       "      <td>4.61</td>\n",
       "      <td>1992</td>\n",
       "    </tr>\n",
       "    <tr>\n",
       "      <th>1285</th>\n",
       "      <td>Final Fantasy II</td>\n",
       "      <td>SNES</td>\n",
       "      <td>Square</td>\n",
       "      <td>Square</td>\n",
       "      <td>10.0</td>\n",
       "      <td>NaN</td>\n",
       "      <td>1.70</td>\n",
       "      <td>1991</td>\n",
       "    </tr>\n",
       "    <tr>\n",
       "      <th>1327</th>\n",
       "      <td>The Legend of Zelda: Breath of the Wild</td>\n",
       "      <td>WiiU</td>\n",
       "      <td>Nintendo</td>\n",
       "      <td>Nintendo EPD</td>\n",
       "      <td>10.0</td>\n",
       "      <td>10.0</td>\n",
       "      <td>1.67</td>\n",
       "      <td>2017</td>\n",
       "    </tr>\n",
       "    <tr>\n",
       "      <th>1545</th>\n",
       "      <td>Final Fight</td>\n",
       "      <td>SNES</td>\n",
       "      <td>Capcom</td>\n",
       "      <td>Capcom</td>\n",
       "      <td>10.0</td>\n",
       "      <td>NaN</td>\n",
       "      <td>1.48</td>\n",
       "      <td>1991</td>\n",
       "    </tr>\n",
       "    <tr>\n",
       "      <th>2026</th>\n",
       "      <td>Red Dead Redemption: Undead Nightmare</td>\n",
       "      <td>PS3</td>\n",
       "      <td>Rockstar Games</td>\n",
       "      <td>Rockstar San Diego</td>\n",
       "      <td>10.0</td>\n",
       "      <td>NaN</td>\n",
       "      <td>1.18</td>\n",
       "      <td>2010</td>\n",
       "    </tr>\n",
       "    <tr>\n",
       "      <th>2168</th>\n",
       "      <td>Red Dead Redemption: Undead Nightmare</td>\n",
       "      <td>X360</td>\n",
       "      <td>Rockstar Games</td>\n",
       "      <td>Rockstar San Diego</td>\n",
       "      <td>10.0</td>\n",
       "      <td>NaN</td>\n",
       "      <td>1.11</td>\n",
       "      <td>2010</td>\n",
       "    </tr>\n",
       "  </tbody>\n",
       "</table>\n",
       "</div>"
      ],
      "text/plain": [
       "                                         Name Platform       Publisher  \\\n",
       "1                           Super Mario Bros.      NES        Nintendo   \n",
       "5                                   Minecraft       PC          Mojang   \n",
       "40                         Grand Theft Auto V     X360  Rockstar Games   \n",
       "85                        Grand Theft Auto IV     X360  Rockstar Games   \n",
       "93                        Grand Theft Auto IV      PS3  Rockstar Games   \n",
       "121                          Super Mario Kart     SNES        Nintendo   \n",
       "300   The Legend of Zelda: A Link to the Past     SNES        Nintendo   \n",
       "1285                         Final Fantasy II     SNES          Square   \n",
       "1327  The Legend of Zelda: Breath of the Wild     WiiU        Nintendo   \n",
       "1545                              Final Fight     SNES          Capcom   \n",
       "2026    Red Dead Redemption: Undead Nightmare      PS3  Rockstar Games   \n",
       "2168    Red Dead Redemption: Undead Nightmare     X360  Rockstar Games   \n",
       "\n",
       "               Developer  Critic_Score  User_Score  Total_Shipped  Year  \n",
       "1           Nintendo EAD          10.0         8.2          40.24  1985  \n",
       "5              Mojang AB          10.0         7.8          33.15  2010  \n",
       "40        Rockstar North          10.0         NaN          15.86  2013  \n",
       "85        Rockstar North          10.0         NaN          11.09  2008  \n",
       "93        Rockstar North          10.0         9.0          10.57  2008  \n",
       "121         Nintendo EAD          10.0         NaN           8.76  1992  \n",
       "300         Nintendo EAD          10.0         NaN           4.61  1992  \n",
       "1285              Square          10.0         NaN           1.70  1991  \n",
       "1327        Nintendo EPD          10.0        10.0           1.67  2017  \n",
       "1545              Capcom          10.0         NaN           1.48  1991  \n",
       "2026  Rockstar San Diego          10.0         NaN           1.18  2010  \n",
       "2168  Rockstar San Diego          10.0         NaN           1.11  2010  "
      ]
     },
     "execution_count": 81,
     "metadata": {},
     "output_type": "execute_result"
    }
   ],
   "source": [
    "df1.loc[df1.Critic_Score == max_critics_score]"
   ]
  },
  {
   "cell_type": "markdown",
   "id": "0f4fd5b0",
   "metadata": {},
   "source": [
    "Best rated games by users"
   ]
  },
  {
   "cell_type": "code",
   "execution_count": 79,
   "id": "c1ddc5de",
   "metadata": {
    "scrolled": true
   },
   "outputs": [
    {
     "data": {
      "text/plain": [
       "10.0"
      ]
     },
     "execution_count": 79,
     "metadata": {},
     "output_type": "execute_result"
    }
   ],
   "source": [
    "max_user_score = df1.User_Score.max()\n",
    "max_user_score"
   ]
  },
  {
   "cell_type": "code",
   "execution_count": 80,
   "id": "ec946211",
   "metadata": {
    "scrolled": false
   },
   "outputs": [
    {
     "data": {
      "text/html": [
       "<div>\n",
       "<style scoped>\n",
       "    .dataframe tbody tr th:only-of-type {\n",
       "        vertical-align: middle;\n",
       "    }\n",
       "\n",
       "    .dataframe tbody tr th {\n",
       "        vertical-align: top;\n",
       "    }\n",
       "\n",
       "    .dataframe thead th {\n",
       "        text-align: right;\n",
       "    }\n",
       "</style>\n",
       "<table border=\"1\" class=\"dataframe\">\n",
       "  <thead>\n",
       "    <tr style=\"text-align: right;\">\n",
       "      <th></th>\n",
       "      <th>Name</th>\n",
       "      <th>Platform</th>\n",
       "      <th>Publisher</th>\n",
       "      <th>Developer</th>\n",
       "      <th>Critic_Score</th>\n",
       "      <th>User_Score</th>\n",
       "      <th>Total_Shipped</th>\n",
       "      <th>Year</th>\n",
       "    </tr>\n",
       "  </thead>\n",
       "  <tbody>\n",
       "    <tr>\n",
       "      <th>30</th>\n",
       "      <td>The Legend of Zelda: Breath of the Wild</td>\n",
       "      <td>NS</td>\n",
       "      <td>Nintendo</td>\n",
       "      <td>Nintendo EPD</td>\n",
       "      <td>9.9</td>\n",
       "      <td>10.0</td>\n",
       "      <td>17.41</td>\n",
       "      <td>2017</td>\n",
       "    </tr>\n",
       "    <tr>\n",
       "      <th>87</th>\n",
       "      <td>God of War (2018)</td>\n",
       "      <td>PS4</td>\n",
       "      <td>Sony Interactive Entertainment</td>\n",
       "      <td>SIE Santa Monica Studio</td>\n",
       "      <td>9.7</td>\n",
       "      <td>10.0</td>\n",
       "      <td>11.00</td>\n",
       "      <td>2018</td>\n",
       "    </tr>\n",
       "    <tr>\n",
       "      <th>124</th>\n",
       "      <td>Final Fantasy X</td>\n",
       "      <td>PS2</td>\n",
       "      <td>Square</td>\n",
       "      <td>SquareSoft</td>\n",
       "      <td>9.0</td>\n",
       "      <td>10.0</td>\n",
       "      <td>8.60</td>\n",
       "      <td>2001</td>\n",
       "    </tr>\n",
       "    <tr>\n",
       "      <th>142</th>\n",
       "      <td>The Legend of Zelda: Ocarina of Time</td>\n",
       "      <td>N64</td>\n",
       "      <td>Nintendo</td>\n",
       "      <td>Nintendo EAD</td>\n",
       "      <td>9.9</td>\n",
       "      <td>10.0</td>\n",
       "      <td>7.60</td>\n",
       "      <td>1998</td>\n",
       "    </tr>\n",
       "    <tr>\n",
       "      <th>178</th>\n",
       "      <td>Red Dead Redemption</td>\n",
       "      <td>X360</td>\n",
       "      <td>Rockstar Games</td>\n",
       "      <td>Rockstar San Diego</td>\n",
       "      <td>9.5</td>\n",
       "      <td>10.0</td>\n",
       "      <td>6.50</td>\n",
       "      <td>2010</td>\n",
       "    </tr>\n",
       "    <tr>\n",
       "      <th>747</th>\n",
       "      <td>Kirby Star Allies</td>\n",
       "      <td>NS</td>\n",
       "      <td>Nintendo</td>\n",
       "      <td>HAL Laboratory</td>\n",
       "      <td>8.1</td>\n",
       "      <td>10.0</td>\n",
       "      <td>2.56</td>\n",
       "      <td>2018</td>\n",
       "    </tr>\n",
       "    <tr>\n",
       "      <th>930</th>\n",
       "      <td>Star Wars: Knights of the Old Republic</td>\n",
       "      <td>XB</td>\n",
       "      <td>LucasArts</td>\n",
       "      <td>BioWare Corp.</td>\n",
       "      <td>9.4</td>\n",
       "      <td>10.0</td>\n",
       "      <td>2.19</td>\n",
       "      <td>2003</td>\n",
       "    </tr>\n",
       "    <tr>\n",
       "      <th>1123</th>\n",
       "      <td>Dissidia: Final Fantasy</td>\n",
       "      <td>PSP</td>\n",
       "      <td>Square Enix</td>\n",
       "      <td>Square Enix</td>\n",
       "      <td>8.1</td>\n",
       "      <td>10.0</td>\n",
       "      <td>1.90</td>\n",
       "      <td>2009</td>\n",
       "    </tr>\n",
       "    <tr>\n",
       "      <th>1125</th>\n",
       "      <td>Monster Hunter Tri</td>\n",
       "      <td>Wii</td>\n",
       "      <td>Capcom</td>\n",
       "      <td>Capcom Production Studio 1</td>\n",
       "      <td>8.1</td>\n",
       "      <td>10.0</td>\n",
       "      <td>1.90</td>\n",
       "      <td>2010</td>\n",
       "    </tr>\n",
       "    <tr>\n",
       "      <th>1327</th>\n",
       "      <td>The Legend of Zelda: Breath of the Wild</td>\n",
       "      <td>WiiU</td>\n",
       "      <td>Nintendo</td>\n",
       "      <td>Nintendo EPD</td>\n",
       "      <td>10.0</td>\n",
       "      <td>10.0</td>\n",
       "      <td>1.67</td>\n",
       "      <td>2017</td>\n",
       "    </tr>\n",
       "    <tr>\n",
       "      <th>2226</th>\n",
       "      <td>Bully: Scholarship Edition</td>\n",
       "      <td>X360</td>\n",
       "      <td>Rockstar Games</td>\n",
       "      <td>Rockstar Vancouver/Mad Doc Software</td>\n",
       "      <td>8.1</td>\n",
       "      <td>10.0</td>\n",
       "      <td>1.09</td>\n",
       "      <td>2008</td>\n",
       "    </tr>\n",
       "    <tr>\n",
       "      <th>4193</th>\n",
       "      <td>Lunar: Silver Star Story Complete</td>\n",
       "      <td>PS</td>\n",
       "      <td>Working Designs</td>\n",
       "      <td>Game Arts</td>\n",
       "      <td>7.6</td>\n",
       "      <td>10.0</td>\n",
       "      <td>0.55</td>\n",
       "      <td>1999</td>\n",
       "    </tr>\n",
       "    <tr>\n",
       "      <th>7581</th>\n",
       "      <td>Hollow Knight</td>\n",
       "      <td>NS</td>\n",
       "      <td>Team Cherry</td>\n",
       "      <td>Team Cherry</td>\n",
       "      <td>9.0</td>\n",
       "      <td>10.0</td>\n",
       "      <td>0.25</td>\n",
       "      <td>2018</td>\n",
       "    </tr>\n",
       "    <tr>\n",
       "      <th>15696</th>\n",
       "      <td>Okami HD</td>\n",
       "      <td>NS</td>\n",
       "      <td>Capcom</td>\n",
       "      <td>Capcom</td>\n",
       "      <td>8.9</td>\n",
       "      <td>10.0</td>\n",
       "      <td>0.04</td>\n",
       "      <td>2018</td>\n",
       "    </tr>\n",
       "  </tbody>\n",
       "</table>\n",
       "</div>"
      ],
      "text/plain": [
       "                                          Name Platform  \\\n",
       "30     The Legend of Zelda: Breath of the Wild       NS   \n",
       "87                           God of War (2018)      PS4   \n",
       "124                            Final Fantasy X      PS2   \n",
       "142       The Legend of Zelda: Ocarina of Time      N64   \n",
       "178                        Red Dead Redemption     X360   \n",
       "747                          Kirby Star Allies       NS   \n",
       "930     Star Wars: Knights of the Old Republic       XB   \n",
       "1123                   Dissidia: Final Fantasy      PSP   \n",
       "1125                        Monster Hunter Tri      Wii   \n",
       "1327   The Legend of Zelda: Breath of the Wild     WiiU   \n",
       "2226                Bully: Scholarship Edition     X360   \n",
       "4193         Lunar: Silver Star Story Complete       PS   \n",
       "7581                             Hollow Knight       NS   \n",
       "15696                                 Okami HD       NS   \n",
       "\n",
       "                            Publisher                            Developer  \\\n",
       "30                           Nintendo                         Nintendo EPD   \n",
       "87     Sony Interactive Entertainment              SIE Santa Monica Studio   \n",
       "124                            Square                           SquareSoft   \n",
       "142                          Nintendo                         Nintendo EAD   \n",
       "178                    Rockstar Games                   Rockstar San Diego   \n",
       "747                          Nintendo                       HAL Laboratory   \n",
       "930                         LucasArts                        BioWare Corp.   \n",
       "1123                      Square Enix                          Square Enix   \n",
       "1125                           Capcom           Capcom Production Studio 1   \n",
       "1327                         Nintendo                         Nintendo EPD   \n",
       "2226                   Rockstar Games  Rockstar Vancouver/Mad Doc Software   \n",
       "4193                  Working Designs                            Game Arts   \n",
       "7581                      Team Cherry                          Team Cherry   \n",
       "15696                          Capcom                               Capcom   \n",
       "\n",
       "       Critic_Score  User_Score  Total_Shipped  Year  \n",
       "30              9.9        10.0          17.41  2017  \n",
       "87              9.7        10.0          11.00  2018  \n",
       "124             9.0        10.0           8.60  2001  \n",
       "142             9.9        10.0           7.60  1998  \n",
       "178             9.5        10.0           6.50  2010  \n",
       "747             8.1        10.0           2.56  2018  \n",
       "930             9.4        10.0           2.19  2003  \n",
       "1123            8.1        10.0           1.90  2009  \n",
       "1125            8.1        10.0           1.90  2010  \n",
       "1327           10.0        10.0           1.67  2017  \n",
       "2226            8.1        10.0           1.09  2008  \n",
       "4193            7.6        10.0           0.55  1999  \n",
       "7581            9.0        10.0           0.25  2018  \n",
       "15696           8.9        10.0           0.04  2018  "
      ]
     },
     "execution_count": 80,
     "metadata": {},
     "output_type": "execute_result"
    }
   ],
   "source": [
    "df1.loc[df1.User_Score == max_user_score]"
   ]
  },
  {
   "cell_type": "markdown",
   "id": "77d13bcc",
   "metadata": {},
   "source": [
    "Critics and users agree this is a tiop game:"
   ]
  },
  {
   "cell_type": "code",
   "execution_count": 83,
   "id": "7bd72860",
   "metadata": {},
   "outputs": [
    {
     "data": {
      "text/html": [
       "<div>\n",
       "<style scoped>\n",
       "    .dataframe tbody tr th:only-of-type {\n",
       "        vertical-align: middle;\n",
       "    }\n",
       "\n",
       "    .dataframe tbody tr th {\n",
       "        vertical-align: top;\n",
       "    }\n",
       "\n",
       "    .dataframe thead th {\n",
       "        text-align: right;\n",
       "    }\n",
       "</style>\n",
       "<table border=\"1\" class=\"dataframe\">\n",
       "  <thead>\n",
       "    <tr style=\"text-align: right;\">\n",
       "      <th></th>\n",
       "      <th>Name</th>\n",
       "      <th>Platform</th>\n",
       "      <th>Publisher</th>\n",
       "      <th>Developer</th>\n",
       "      <th>Critic_Score</th>\n",
       "      <th>User_Score</th>\n",
       "      <th>Total_Shipped</th>\n",
       "      <th>Year</th>\n",
       "    </tr>\n",
       "  </thead>\n",
       "  <tbody>\n",
       "    <tr>\n",
       "      <th>1327</th>\n",
       "      <td>The Legend of Zelda: Breath of the Wild</td>\n",
       "      <td>WiiU</td>\n",
       "      <td>Nintendo</td>\n",
       "      <td>Nintendo EPD</td>\n",
       "      <td>10.0</td>\n",
       "      <td>10.0</td>\n",
       "      <td>1.67</td>\n",
       "      <td>2017</td>\n",
       "    </tr>\n",
       "  </tbody>\n",
       "</table>\n",
       "</div>"
      ],
      "text/plain": [
       "                                         Name Platform Publisher  \\\n",
       "1327  The Legend of Zelda: Breath of the Wild     WiiU  Nintendo   \n",
       "\n",
       "         Developer  Critic_Score  User_Score  Total_Shipped  Year  \n",
       "1327  Nintendo EPD          10.0        10.0           1.67  2017  "
      ]
     },
     "execution_count": 83,
     "metadata": {},
     "output_type": "execute_result"
    }
   ],
   "source": [
    "df1[(df1.User_Score == max_user_score) & (df1.Critic_Score == max_critics_score)]"
   ]
  }
 ],
 "metadata": {
  "kernelspec": {
   "display_name": "Python 3 (ipykernel)",
   "language": "python",
   "name": "python3"
  },
  "language_info": {
   "codemirror_mode": {
    "name": "ipython",
    "version": 3
   },
   "file_extension": ".py",
   "mimetype": "text/x-python",
   "name": "python",
   "nbconvert_exporter": "python",
   "pygments_lexer": "ipython3",
   "version": "3.9.13"
  }
 },
 "nbformat": 4,
 "nbformat_minor": 5
}
