{
 "cells": [
  {
   "cell_type": "code",
   "execution_count": 3,
   "id": "d20aae5a",
   "metadata": {},
   "outputs": [],
   "source": [
    "import pandas as pd\n",
    "import numpy as np"
   ]
  },
  {
   "cell_type": "code",
   "execution_count": 4,
   "id": "1f6aefdd",
   "metadata": {},
   "outputs": [],
   "source": [
    "df = pd.read_csv('http://cdn.buenosaires.gob.ar/datosabiertos/datasets/sueldo-funcionarios/sueldo_funcionarios_2019.csv')"
   ]
  },
  {
   "cell_type": "code",
   "execution_count": 5,
   "id": "821b2446",
   "metadata": {},
   "outputs": [
    {
     "data": {
      "text/plain": [
       "Index(['cuil', 'anio', 'mes', 'funcionario_apellido', 'funcionario_nombre',\n",
       "       'reparticion', 'asignacion_por_cargo_i', 'aguinaldo_ii',\n",
       "       'total_salario_bruto_i_+_ii', 'observaciones'],\n",
       "      dtype='object')"
      ]
     },
     "execution_count": 5,
     "metadata": {},
     "output_type": "execute_result"
    }
   ],
   "source": [
    "df.columns\n",
    "#devuelve un valor tipo Index"
   ]
  },
  {
   "cell_type": "code",
   "execution_count": 6,
   "id": "211b6b23",
   "metadata": {},
   "outputs": [
    {
     "data": {
      "text/html": [
       "<div>\n",
       "<style scoped>\n",
       "    .dataframe tbody tr th:only-of-type {\n",
       "        vertical-align: middle;\n",
       "    }\n",
       "\n",
       "    .dataframe tbody tr th {\n",
       "        vertical-align: top;\n",
       "    }\n",
       "\n",
       "    .dataframe thead th {\n",
       "        text-align: right;\n",
       "    }\n",
       "</style>\n",
       "<table border=\"1\" class=\"dataframe\">\n",
       "  <thead>\n",
       "    <tr style=\"text-align: right;\">\n",
       "      <th></th>\n",
       "      <th>cuil</th>\n",
       "      <th>anio</th>\n",
       "      <th>mes</th>\n",
       "      <th>funcionario_apellido</th>\n",
       "      <th>funcionario_nombre</th>\n",
       "      <th>reparticion</th>\n",
       "      <th>asignacion_por_cargo_i</th>\n",
       "      <th>aguinaldo_ii</th>\n",
       "      <th>total_salario_bruto_i_+_ii</th>\n",
       "      <th>observaciones</th>\n",
       "    </tr>\n",
       "  </thead>\n",
       "  <tbody>\n",
       "    <tr>\n",
       "      <th>194</th>\n",
       "      <td>27-13092400-5</td>\n",
       "      <td>2019</td>\n",
       "      <td>7</td>\n",
       "      <td>FREDA</td>\n",
       "      <td>MONICA BEATRIZ</td>\n",
       "      <td>Sindicatura General de la Ciudad de Buenos Aires</td>\n",
       "      <td>263531.98</td>\n",
       "      <td>0.0</td>\n",
       "      <td>263531.98</td>\n",
       "      <td>NaN</td>\n",
       "    </tr>\n",
       "    <tr>\n",
       "      <th>161</th>\n",
       "      <td>20-25641207-2</td>\n",
       "      <td>2019</td>\n",
       "      <td>6</td>\n",
       "      <td>AVOGADRO</td>\n",
       "      <td>ENRIQUE LUIS</td>\n",
       "      <td>Ministerio de Cultura</td>\n",
       "      <td>249661.60</td>\n",
       "      <td>124830.8</td>\n",
       "      <td>374492.40</td>\n",
       "      <td>NaN</td>\n",
       "    </tr>\n",
       "    <tr>\n",
       "      <th>330</th>\n",
       "      <td>20-22366623-0</td>\n",
       "      <td>2019</td>\n",
       "      <td>11</td>\n",
       "      <td>COSTANTINO</td>\n",
       "      <td>SERGIO GABRIEL</td>\n",
       "      <td>SECR Integración Social Para Personas Mayores</td>\n",
       "      <td>249972.87</td>\n",
       "      <td>0.0</td>\n",
       "      <td>249972.87</td>\n",
       "      <td>NaN</td>\n",
       "    </tr>\n",
       "    <tr>\n",
       "      <th>281</th>\n",
       "      <td>20-17692128-6</td>\n",
       "      <td>2019</td>\n",
       "      <td>10</td>\n",
       "      <td>RODRIGUEZ LARRETA</td>\n",
       "      <td>HORACIO ANTONIO</td>\n",
       "      <td>Jefe de Gobierno</td>\n",
       "      <td>245811.62</td>\n",
       "      <td>0.0</td>\n",
       "      <td>245811.62</td>\n",
       "      <td>NaN</td>\n",
       "    </tr>\n",
       "    <tr>\n",
       "      <th>226</th>\n",
       "      <td>20-17110752-1</td>\n",
       "      <td>2019</td>\n",
       "      <td>8</td>\n",
       "      <td>MACCHIAVELLI</td>\n",
       "      <td>EDUARDO ALBERTO</td>\n",
       "      <td>Ministerio de Ambiente y Espacio Público</td>\n",
       "      <td>263531.98</td>\n",
       "      <td>0.0</td>\n",
       "      <td>263531.98</td>\n",
       "      <td>NaN</td>\n",
       "    </tr>\n",
       "  </tbody>\n",
       "</table>\n",
       "</div>"
      ],
      "text/plain": [
       "              cuil  anio  mes funcionario_apellido funcionario_nombre  \\\n",
       "194  27-13092400-5  2019    7                FREDA     MONICA BEATRIZ   \n",
       "161  20-25641207-2  2019    6             AVOGADRO       ENRIQUE LUIS   \n",
       "330  20-22366623-0  2019   11           COSTANTINO     SERGIO GABRIEL   \n",
       "281  20-17692128-6  2019   10    RODRIGUEZ LARRETA    HORACIO ANTONIO   \n",
       "226  20-17110752-1  2019    8         MACCHIAVELLI    EDUARDO ALBERTO   \n",
       "\n",
       "                                          reparticion  asignacion_por_cargo_i  \\\n",
       "194  Sindicatura General de la Ciudad de Buenos Aires               263531.98   \n",
       "161                             Ministerio de Cultura               249661.60   \n",
       "330     SECR Integración Social Para Personas Mayores               249972.87   \n",
       "281                                  Jefe de Gobierno               245811.62   \n",
       "226          Ministerio de Ambiente y Espacio Público               263531.98   \n",
       "\n",
       "     aguinaldo_ii  total_salario_bruto_i_+_ii observaciones  \n",
       "194           0.0                   263531.98           NaN  \n",
       "161      124830.8                   374492.40           NaN  \n",
       "330           0.0                   249972.87           NaN  \n",
       "281           0.0                   245811.62           NaN  \n",
       "226           0.0                   263531.98           NaN  "
      ]
     },
     "execution_count": 6,
     "metadata": {},
     "output_type": "execute_result"
    }
   ],
   "source": [
    "# extraer muestra al azar\n",
    "df.sample(5)\n",
    "#es aplicar un metodo a la tabla"
   ]
  },
  {
   "cell_type": "code",
   "execution_count": 7,
   "id": "674bbced",
   "metadata": {},
   "outputs": [
    {
     "data": {
      "text/plain": [
       "(385, 10)"
      ]
     },
     "execution_count": 7,
     "metadata": {},
     "output_type": "execute_result"
    }
   ],
   "source": [
    "#ver tamaño de tabla (filas, cols)\n",
    "df.shape"
   ]
  },
  {
   "cell_type": "markdown",
   "id": "4ea76015",
   "metadata": {},
   "source": [
    "## Pandas"
   ]
  },
  {
   "cell_type": "markdown",
   "id": "1e07cf5c",
   "metadata": {},
   "source": [
    "Hace operaciones vectorizadas (no una por una, sino en bloques)"
   ]
  },
  {
   "cell_type": "code",
   "execution_count": 10,
   "id": "3cd2efec",
   "metadata": {},
   "outputs": [
    {
     "data": {
      "text/html": [
       "<div>\n",
       "<style scoped>\n",
       "    .dataframe tbody tr th:only-of-type {\n",
       "        vertical-align: middle;\n",
       "    }\n",
       "\n",
       "    .dataframe tbody tr th {\n",
       "        vertical-align: top;\n",
       "    }\n",
       "\n",
       "    .dataframe thead th {\n",
       "        text-align: right;\n",
       "    }\n",
       "</style>\n",
       "<table border=\"1\" class=\"dataframe\">\n",
       "  <thead>\n",
       "    <tr style=\"text-align: right;\">\n",
       "      <th></th>\n",
       "      <th>cuil</th>\n",
       "      <th>anio</th>\n",
       "      <th>mes</th>\n",
       "      <th>funcionario_apellido</th>\n",
       "      <th>funcionario_nombre</th>\n",
       "      <th>reparticion</th>\n",
       "      <th>asignacion_por_cargo_i</th>\n",
       "      <th>aguinaldo_ii</th>\n",
       "      <th>total_salario_bruto_i_+_ii</th>\n",
       "      <th>observaciones</th>\n",
       "      <th>aguinaldo_porcentaje</th>\n",
       "    </tr>\n",
       "  </thead>\n",
       "  <tbody>\n",
       "    <tr>\n",
       "      <th>380</th>\n",
       "      <td>20-26735689-1</td>\n",
       "      <td>2019</td>\n",
       "      <td>12</td>\n",
       "      <td>MENDEZ</td>\n",
       "      <td>JUAN JOSE</td>\n",
       "      <td>SECR Transporte y Obras Públicas</td>\n",
       "      <td>249972.86</td>\n",
       "      <td>124986.43</td>\n",
       "      <td>374959.29</td>\n",
       "      <td>NaN</td>\n",
       "      <td>50.000000</td>\n",
       "    </tr>\n",
       "    <tr>\n",
       "      <th>381</th>\n",
       "      <td>20-23864572-8</td>\n",
       "      <td>2019</td>\n",
       "      <td>12</td>\n",
       "      <td>STRAFACE</td>\n",
       "      <td>FERNANDO DIEGO</td>\n",
       "      <td>SECR General y Relaciones Internacionales</td>\n",
       "      <td>275089.75</td>\n",
       "      <td>137544.87</td>\n",
       "      <td>412634.62</td>\n",
       "      <td>NaN</td>\n",
       "      <td>49.999998</td>\n",
       "    </tr>\n",
       "    <tr>\n",
       "      <th>382</th>\n",
       "      <td>20-21981279-6</td>\n",
       "      <td>2019</td>\n",
       "      <td>12</td>\n",
       "      <td>SCRENCI SILVA</td>\n",
       "      <td>BRUNO GUIDO</td>\n",
       "      <td>Ministerio de Gobierno</td>\n",
       "      <td>275089.75</td>\n",
       "      <td>137544.87</td>\n",
       "      <td>412634.62</td>\n",
       "      <td>NaN</td>\n",
       "      <td>49.999998</td>\n",
       "    </tr>\n",
       "    <tr>\n",
       "      <th>383</th>\n",
       "      <td>20-30593774-7</td>\n",
       "      <td>2019</td>\n",
       "      <td>12</td>\n",
       "      <td>AVELLANEDA</td>\n",
       "      <td>PATRICIO IGNACIO</td>\n",
       "      <td>SECR Planificación, Evaluación y Coordinación ...</td>\n",
       "      <td>249972.86</td>\n",
       "      <td>124986.43</td>\n",
       "      <td>374959.29</td>\n",
       "      <td>NaN</td>\n",
       "      <td>50.000000</td>\n",
       "    </tr>\n",
       "    <tr>\n",
       "      <th>384</th>\n",
       "      <td>27-27011181-0</td>\n",
       "      <td>2019</td>\n",
       "      <td>12</td>\n",
       "      <td>FERNANDEZ</td>\n",
       "      <td>KARINA BEATRIZ</td>\n",
       "      <td>SECR Asuntos Estratégicos</td>\n",
       "      <td>187539.45</td>\n",
       "      <td>15628.29</td>\n",
       "      <td>203167.74</td>\n",
       "      <td>alta desde el 10/12</td>\n",
       "      <td>8.333335</td>\n",
       "    </tr>\n",
       "  </tbody>\n",
       "</table>\n",
       "</div>"
      ],
      "text/plain": [
       "              cuil  anio  mes funcionario_apellido funcionario_nombre  \\\n",
       "380  20-26735689-1  2019   12               MENDEZ          JUAN JOSE   \n",
       "381  20-23864572-8  2019   12             STRAFACE     FERNANDO DIEGO   \n",
       "382  20-21981279-6  2019   12        SCRENCI SILVA        BRUNO GUIDO   \n",
       "383  20-30593774-7  2019   12           AVELLANEDA   PATRICIO IGNACIO   \n",
       "384  27-27011181-0  2019   12            FERNANDEZ     KARINA BEATRIZ   \n",
       "\n",
       "                                           reparticion  \\\n",
       "380                   SECR Transporte y Obras Públicas   \n",
       "381          SECR General y Relaciones Internacionales   \n",
       "382                             Ministerio de Gobierno   \n",
       "383  SECR Planificación, Evaluación y Coordinación ...   \n",
       "384                          SECR Asuntos Estratégicos   \n",
       "\n",
       "     asignacion_por_cargo_i  aguinaldo_ii  total_salario_bruto_i_+_ii  \\\n",
       "380               249972.86     124986.43                   374959.29   \n",
       "381               275089.75     137544.87                   412634.62   \n",
       "382               275089.75     137544.87                   412634.62   \n",
       "383               249972.86     124986.43                   374959.29   \n",
       "384               187539.45      15628.29                   203167.74   \n",
       "\n",
       "           observaciones  aguinaldo_porcentaje  \n",
       "380                  NaN             50.000000  \n",
       "381                  NaN             49.999998  \n",
       "382                  NaN             49.999998  \n",
       "383                  NaN             50.000000  \n",
       "384  alta desde el 10/12              8.333335  "
      ]
     },
     "execution_count": 10,
     "metadata": {},
     "output_type": "execute_result"
    }
   ],
   "source": [
    "# agrego nueva columna\n",
    "df[\"aguinaldo_porcentaje\"] = df[\"aguinaldo_ii\"] * 100 / df[\"asignacion_por_cargo_i\"]\n",
    "df.tail()"
   ]
  },
  {
   "cell_type": "markdown",
   "id": "33284aff",
   "metadata": {},
   "source": [
    "## Series"
   ]
  },
  {
   "cell_type": "markdown",
   "id": "83ae47b8",
   "metadata": {},
   "source": [
    "Son columnas asociadas a un indice y un nombre"
   ]
  },
  {
   "cell_type": "code",
   "execution_count": 11,
   "id": "d927ecdd",
   "metadata": {},
   "outputs": [],
   "source": [
    "# se crean a partir de una lista\n",
    "serie = pd.Series(['a', 'b', 'c'])"
   ]
  },
  {
   "cell_type": "code",
   "execution_count": 12,
   "id": "30363861",
   "metadata": {},
   "outputs": [
    {
     "name": "stdout",
     "output_type": "stream",
     "text": [
      "Tipo de objeto que tiene  object\n",
      "Nombre None\n",
      "Index RangeIndex(start=0, stop=3, step=1)\n",
      "Valores ['a' 'b' 'c']\n"
     ]
    }
   ],
   "source": [
    "# propiedades\n",
    "print('Tipo de objeto que tiene ', serie.dtype)\n",
    "print('Nombre', serie.name)\n",
    "print('Index', serie.index)\n",
    "print('Valores', serie.values)"
   ]
  },
  {
   "cell_type": "markdown",
   "id": "9ccb104f",
   "metadata": {},
   "source": [
    "## Dataframe"
   ]
  },
  {
   "cell_type": "markdown",
   "id": "add64cee",
   "metadata": {},
   "source": [
    "Son trablas con varias columnas o series con un mismo indice (csv o json)"
   ]
  },
  {
   "cell_type": "code",
   "execution_count": 13,
   "id": "e3e86acf",
   "metadata": {
    "scrolled": false
   },
   "outputs": [
    {
     "name": "stdout",
     "output_type": "stream",
     "text": [
      "Columnas Index(['cuil', 'anio', 'mes', 'funcionario_apellido', 'funcionario_nombre',\n",
      "       'reparticion', 'asignacion_por_cargo_i', 'aguinaldo_ii',\n",
      "       'total_salario_bruto_i_+_ii', 'observaciones', 'aguinaldo_porcentaje'],\n",
      "      dtype='object')\n",
      "Index RangeIndex(start=0, stop=385, step=1)\n",
      "Dimensiones (385, 11)\n"
     ]
    }
   ],
   "source": [
    "print('Columnas', df.columns)\n",
    "print('Index', df.index)\n",
    "print('Dimensiones', df.shape)"
   ]
  },
  {
   "cell_type": "code",
   "execution_count": 14,
   "id": "cc2ef239",
   "metadata": {
    "scrolled": false
   },
   "outputs": [
    {
     "data": {
      "text/html": [
       "<div>\n",
       "<style scoped>\n",
       "    .dataframe tbody tr th:only-of-type {\n",
       "        vertical-align: middle;\n",
       "    }\n",
       "\n",
       "    .dataframe tbody tr th {\n",
       "        vertical-align: top;\n",
       "    }\n",
       "\n",
       "    .dataframe thead th {\n",
       "        text-align: right;\n",
       "    }\n",
       "</style>\n",
       "<table border=\"1\" class=\"dataframe\">\n",
       "  <thead>\n",
       "    <tr style=\"text-align: right;\">\n",
       "      <th></th>\n",
       "      <th>cuil</th>\n",
       "      <th>anio</th>\n",
       "      <th>mes</th>\n",
       "      <th>funcionario_apellido</th>\n",
       "      <th>funcionario_nombre</th>\n",
       "      <th>reparticion</th>\n",
       "      <th>asignacion_por_cargo_i</th>\n",
       "      <th>aguinaldo_ii</th>\n",
       "      <th>total_salario_bruto_i_+_ii</th>\n",
       "      <th>observaciones</th>\n",
       "      <th>aguinaldo_porcentaje</th>\n",
       "    </tr>\n",
       "  </thead>\n",
       "  <tbody>\n",
       "    <tr>\n",
       "      <th>0</th>\n",
       "      <td>20-17692128-6</td>\n",
       "      <td>2019</td>\n",
       "      <td>1</td>\n",
       "      <td>RODRIGUEZ LARRETA</td>\n",
       "      <td>HORACIO ANTONIO</td>\n",
       "      <td>Jefe de Gobierno</td>\n",
       "      <td>197745.80</td>\n",
       "      <td>0.0</td>\n",
       "      <td>197745.80</td>\n",
       "      <td>NaN</td>\n",
       "      <td>0.0</td>\n",
       "    </tr>\n",
       "    <tr>\n",
       "      <th>1</th>\n",
       "      <td>20-17735449-0</td>\n",
       "      <td>2019</td>\n",
       "      <td>1</td>\n",
       "      <td>SANTILLI</td>\n",
       "      <td>DIEGO CESAR</td>\n",
       "      <td>Vicejefatura de Gobierno</td>\n",
       "      <td>197745.80</td>\n",
       "      <td>0.0</td>\n",
       "      <td>197745.80</td>\n",
       "      <td>NaN</td>\n",
       "      <td>0.0</td>\n",
       "    </tr>\n",
       "    <tr>\n",
       "      <th>2</th>\n",
       "      <td>27-24483014-0</td>\n",
       "      <td>2019</td>\n",
       "      <td>1</td>\n",
       "      <td>ACUÑA</td>\n",
       "      <td>MARIA SOLEDAD</td>\n",
       "      <td>Ministerio de Educación e Innovación</td>\n",
       "      <td>224516.62</td>\n",
       "      <td>0.0</td>\n",
       "      <td>224516.62</td>\n",
       "      <td>NaN</td>\n",
       "      <td>0.0</td>\n",
       "    </tr>\n",
       "    <tr>\n",
       "      <th>3</th>\n",
       "      <td>20-13872301-2</td>\n",
       "      <td>2019</td>\n",
       "      <td>1</td>\n",
       "      <td>ASTARLOA</td>\n",
       "      <td>GABRIEL MARIA</td>\n",
       "      <td>Procuración General de la Ciudad de Buenos Aires</td>\n",
       "      <td>224516.62</td>\n",
       "      <td>0.0</td>\n",
       "      <td>224516.62</td>\n",
       "      <td>NaN</td>\n",
       "      <td>0.0</td>\n",
       "    </tr>\n",
       "    <tr>\n",
       "      <th>4</th>\n",
       "      <td>20-25641207-2</td>\n",
       "      <td>2019</td>\n",
       "      <td>1</td>\n",
       "      <td>AVOGADRO</td>\n",
       "      <td>ENRIQUE LUIS</td>\n",
       "      <td>Ministerio de Cultura</td>\n",
       "      <td>224516.62</td>\n",
       "      <td>0.0</td>\n",
       "      <td>224516.62</td>\n",
       "      <td>NaN</td>\n",
       "      <td>0.0</td>\n",
       "    </tr>\n",
       "  </tbody>\n",
       "</table>\n",
       "</div>"
      ],
      "text/plain": [
       "            cuil  anio  mes funcionario_apellido funcionario_nombre  \\\n",
       "0  20-17692128-6  2019    1    RODRIGUEZ LARRETA    HORACIO ANTONIO   \n",
       "1  20-17735449-0  2019    1             SANTILLI        DIEGO CESAR   \n",
       "2  27-24483014-0  2019    1                ACUÑA      MARIA SOLEDAD   \n",
       "3  20-13872301-2  2019    1             ASTARLOA      GABRIEL MARIA   \n",
       "4  20-25641207-2  2019    1             AVOGADRO       ENRIQUE LUIS   \n",
       "\n",
       "                                        reparticion  asignacion_por_cargo_i  \\\n",
       "0                                  Jefe de Gobierno               197745.80   \n",
       "1                          Vicejefatura de Gobierno               197745.80   \n",
       "2              Ministerio de Educación e Innovación               224516.62   \n",
       "3  Procuración General de la Ciudad de Buenos Aires               224516.62   \n",
       "4                             Ministerio de Cultura               224516.62   \n",
       "\n",
       "   aguinaldo_ii  total_salario_bruto_i_+_ii observaciones  \\\n",
       "0           0.0                   197745.80           NaN   \n",
       "1           0.0                   197745.80           NaN   \n",
       "2           0.0                   224516.62           NaN   \n",
       "3           0.0                   224516.62           NaN   \n",
       "4           0.0                   224516.62           NaN   \n",
       "\n",
       "   aguinaldo_porcentaje  \n",
       "0                   0.0  \n",
       "1                   0.0  \n",
       "2                   0.0  \n",
       "3                   0.0  \n",
       "4                   0.0  "
      ]
     },
     "execution_count": 14,
     "metadata": {},
     "output_type": "execute_result"
    }
   ],
   "source": [
    "df.head()"
   ]
  },
  {
   "cell_type": "code",
   "execution_count": 15,
   "id": "d4dd5535",
   "metadata": {},
   "outputs": [],
   "source": [
    "serie_mes = df[\"mes\"]"
   ]
  },
  {
   "cell_type": "code",
   "execution_count": 16,
   "id": "dd147015",
   "metadata": {},
   "outputs": [
    {
     "data": {
      "text/plain": [
       "pandas.core.series.Series"
      ]
     },
     "execution_count": 16,
     "metadata": {},
     "output_type": "execute_result"
    }
   ],
   "source": [
    "type(serie_mes)"
   ]
  },
  {
   "cell_type": "markdown",
   "id": "c136b5ad",
   "metadata": {},
   "source": [
    "## Indices"
   ]
  },
  {
   "cell_type": "code",
   "execution_count": 17,
   "id": "1177d579",
   "metadata": {},
   "outputs": [
    {
     "data": {
      "text/plain": [
       "RangeIndex(start=0, stop=385, step=1)"
      ]
     },
     "execution_count": 17,
     "metadata": {},
     "output_type": "execute_result"
    }
   ],
   "source": [
    "df.index"
   ]
  },
  {
   "cell_type": "code",
   "execution_count": 18,
   "id": "862a05c6",
   "metadata": {},
   "outputs": [
    {
     "data": {
      "text/plain": [
       "Int64Index([2, 3, 4, 7, 11], dtype='int64')"
      ]
     },
     "execution_count": 18,
     "metadata": {},
     "output_type": "execute_result"
    }
   ],
   "source": [
    "ind = pd.Index([2, 3, 4, 7, 11])\n",
    "ind"
   ]
  },
  {
   "cell_type": "code",
   "execution_count": 19,
   "id": "dc32da1d",
   "metadata": {},
   "outputs": [
    {
     "ename": "TypeError",
     "evalue": "Index does not support mutable operations",
     "output_type": "error",
     "traceback": [
      "\u001b[1;31m---------------------------------------------------------------------------\u001b[0m",
      "\u001b[1;31mTypeError\u001b[0m                                 Traceback (most recent call last)",
      "\u001b[1;32m~\\AppData\\Local\\Temp\\ipykernel_5740\\727531025.py\u001b[0m in \u001b[0;36m<module>\u001b[1;34m\u001b[0m\n\u001b[0;32m      1\u001b[0m \u001b[1;31m# no se pueden modificar los index\u001b[0m\u001b[1;33m\u001b[0m\u001b[1;33m\u001b[0m\u001b[0m\n\u001b[1;32m----> 2\u001b[1;33m \u001b[0mind\u001b[0m\u001b[1;33m[\u001b[0m\u001b[1;36m1\u001b[0m\u001b[1;33m]\u001b[0m \u001b[1;33m=\u001b[0m \u001b[1;36m0\u001b[0m\u001b[1;33m\u001b[0m\u001b[1;33m\u001b[0m\u001b[0m\n\u001b[0m",
      "\u001b[1;32m~\\anaconda3\\lib\\site-packages\\pandas\\core\\indexes\\base.py\u001b[0m in \u001b[0;36m__setitem__\u001b[1;34m(self, key, value)\u001b[0m\n\u001b[0;32m   5033\u001b[0m     \u001b[1;33m@\u001b[0m\u001b[0mfinal\u001b[0m\u001b[1;33m\u001b[0m\u001b[1;33m\u001b[0m\u001b[0m\n\u001b[0;32m   5034\u001b[0m     \u001b[1;32mdef\u001b[0m \u001b[0m__setitem__\u001b[0m\u001b[1;33m(\u001b[0m\u001b[0mself\u001b[0m\u001b[1;33m,\u001b[0m \u001b[0mkey\u001b[0m\u001b[1;33m,\u001b[0m \u001b[0mvalue\u001b[0m\u001b[1;33m)\u001b[0m\u001b[1;33m:\u001b[0m\u001b[1;33m\u001b[0m\u001b[1;33m\u001b[0m\u001b[0m\n\u001b[1;32m-> 5035\u001b[1;33m         \u001b[1;32mraise\u001b[0m \u001b[0mTypeError\u001b[0m\u001b[1;33m(\u001b[0m\u001b[1;34m\"Index does not support mutable operations\"\u001b[0m\u001b[1;33m)\u001b[0m\u001b[1;33m\u001b[0m\u001b[1;33m\u001b[0m\u001b[0m\n\u001b[0m\u001b[0;32m   5036\u001b[0m \u001b[1;33m\u001b[0m\u001b[0m\n\u001b[0;32m   5037\u001b[0m     \u001b[1;32mdef\u001b[0m \u001b[0m__getitem__\u001b[0m\u001b[1;33m(\u001b[0m\u001b[0mself\u001b[0m\u001b[1;33m,\u001b[0m \u001b[0mkey\u001b[0m\u001b[1;33m)\u001b[0m\u001b[1;33m:\u001b[0m\u001b[1;33m\u001b[0m\u001b[1;33m\u001b[0m\u001b[0m\n",
      "\u001b[1;31mTypeError\u001b[0m: Index does not support mutable operations"
     ]
    }
   ],
   "source": [
    "# no se pueden modificar los index\n",
    "ind[1] = 0"
   ]
  },
  {
   "cell_type": "markdown",
   "id": "4c6e19cd",
   "metadata": {},
   "source": [
    "## Ejercicio"
   ]
  },
  {
   "cell_type": "markdown",
   "id": "ef84d2c2",
   "metadata": {},
   "source": [
    "Exploren el dataset público que se encuentra en la siguiente url: https://datasets-humai.s3.amazonaws.com/datasets/titanic.csv ¿De qué se trata? ¿Cuántas filas tiene? ¿Cuántas columnas? Al leerlo, pueden almacenarlo en la variable df_titanic."
   ]
  },
  {
   "cell_type": "code",
   "execution_count": 33,
   "id": "8667707b",
   "metadata": {},
   "outputs": [],
   "source": [
    "df_titanic = pd.read_csv(\"https://datasets-humai.s3.amazonaws.com/datasets/titanic.csv\", sep = \"|\")"
   ]
  },
  {
   "cell_type": "code",
   "execution_count": 31,
   "id": "ff747724",
   "metadata": {},
   "outputs": [
    {
     "name": "stdout",
     "output_type": "stream",
     "text": [
      "Cantidad de filas:  891\n",
      "Cantidad de cols:  12\n"
     ]
    }
   ],
   "source": [
    "print('Cantidad de filas: ', df_titanic.shape[0])\n",
    "print('Cantidad de cols: ', df_titanic.shape[1])"
   ]
  },
  {
   "cell_type": "code",
   "execution_count": 33,
   "id": "1f0e0518",
   "metadata": {},
   "outputs": [
    {
     "data": {
      "text/html": [
       "<div>\n",
       "<style scoped>\n",
       "    .dataframe tbody tr th:only-of-type {\n",
       "        vertical-align: middle;\n",
       "    }\n",
       "\n",
       "    .dataframe tbody tr th {\n",
       "        vertical-align: top;\n",
       "    }\n",
       "\n",
       "    .dataframe thead th {\n",
       "        text-align: right;\n",
       "    }\n",
       "</style>\n",
       "<table border=\"1\" class=\"dataframe\">\n",
       "  <thead>\n",
       "    <tr style=\"text-align: right;\">\n",
       "      <th></th>\n",
       "      <th>PassengerId</th>\n",
       "      <th>Survived</th>\n",
       "      <th>Pclass</th>\n",
       "      <th>Name</th>\n",
       "      <th>Sex</th>\n",
       "      <th>Age</th>\n",
       "      <th>SibSp</th>\n",
       "      <th>Parch</th>\n",
       "      <th>Ticket</th>\n",
       "      <th>Fare</th>\n",
       "      <th>Cabin</th>\n",
       "      <th>Embarked</th>\n",
       "    </tr>\n",
       "  </thead>\n",
       "  <tbody>\n",
       "    <tr>\n",
       "      <th>0</th>\n",
       "      <td>1</td>\n",
       "      <td>0</td>\n",
       "      <td>3</td>\n",
       "      <td>Braund, Mr. Owen Harris</td>\n",
       "      <td>male</td>\n",
       "      <td>22.0</td>\n",
       "      <td>1</td>\n",
       "      <td>0</td>\n",
       "      <td>A/5 21171</td>\n",
       "      <td>7.2500</td>\n",
       "      <td>NaN</td>\n",
       "      <td>S</td>\n",
       "    </tr>\n",
       "    <tr>\n",
       "      <th>1</th>\n",
       "      <td>2</td>\n",
       "      <td>1</td>\n",
       "      <td>1</td>\n",
       "      <td>Cumings, Mrs. John Bradley (Florence Briggs Th...</td>\n",
       "      <td>female</td>\n",
       "      <td>38.0</td>\n",
       "      <td>1</td>\n",
       "      <td>0</td>\n",
       "      <td>PC 17599</td>\n",
       "      <td>71.2833</td>\n",
       "      <td>C85</td>\n",
       "      <td>C</td>\n",
       "    </tr>\n",
       "    <tr>\n",
       "      <th>2</th>\n",
       "      <td>3</td>\n",
       "      <td>1</td>\n",
       "      <td>3</td>\n",
       "      <td>Heikkinen, Miss. Laina</td>\n",
       "      <td>female</td>\n",
       "      <td>26.0</td>\n",
       "      <td>0</td>\n",
       "      <td>0</td>\n",
       "      <td>STON/O2. 3101282</td>\n",
       "      <td>7.9250</td>\n",
       "      <td>NaN</td>\n",
       "      <td>S</td>\n",
       "    </tr>\n",
       "    <tr>\n",
       "      <th>3</th>\n",
       "      <td>4</td>\n",
       "      <td>1</td>\n",
       "      <td>1</td>\n",
       "      <td>Futrelle, Mrs. Jacques Heath (Lily May Peel)</td>\n",
       "      <td>female</td>\n",
       "      <td>35.0</td>\n",
       "      <td>1</td>\n",
       "      <td>0</td>\n",
       "      <td>113803</td>\n",
       "      <td>53.1000</td>\n",
       "      <td>C123</td>\n",
       "      <td>S</td>\n",
       "    </tr>\n",
       "    <tr>\n",
       "      <th>4</th>\n",
       "      <td>5</td>\n",
       "      <td>0</td>\n",
       "      <td>3</td>\n",
       "      <td>Allen, Mr. William Henry</td>\n",
       "      <td>male</td>\n",
       "      <td>35.0</td>\n",
       "      <td>0</td>\n",
       "      <td>0</td>\n",
       "      <td>373450</td>\n",
       "      <td>8.0500</td>\n",
       "      <td>NaN</td>\n",
       "      <td>S</td>\n",
       "    </tr>\n",
       "  </tbody>\n",
       "</table>\n",
       "</div>"
      ],
      "text/plain": [
       "   PassengerId  Survived  Pclass  \\\n",
       "0            1         0       3   \n",
       "1            2         1       1   \n",
       "2            3         1       3   \n",
       "3            4         1       1   \n",
       "4            5         0       3   \n",
       "\n",
       "                                                Name     Sex   Age  SibSp  \\\n",
       "0                            Braund, Mr. Owen Harris    male  22.0      1   \n",
       "1  Cumings, Mrs. John Bradley (Florence Briggs Th...  female  38.0      1   \n",
       "2                             Heikkinen, Miss. Laina  female  26.0      0   \n",
       "3       Futrelle, Mrs. Jacques Heath (Lily May Peel)  female  35.0      1   \n",
       "4                           Allen, Mr. William Henry    male  35.0      0   \n",
       "\n",
       "   Parch            Ticket     Fare Cabin Embarked  \n",
       "0      0         A/5 21171   7.2500   NaN        S  \n",
       "1      0          PC 17599  71.2833   C85        C  \n",
       "2      0  STON/O2. 3101282   7.9250   NaN        S  \n",
       "3      0            113803  53.1000  C123        S  \n",
       "4      0            373450   8.0500   NaN        S  "
      ]
     },
     "execution_count": 33,
     "metadata": {},
     "output_type": "execute_result"
    }
   ],
   "source": [
    "df_titanic.head(5)"
   ]
  },
  {
   "cell_type": "markdown",
   "id": "4c82f11b",
   "metadata": {},
   "source": [
    "## Filtrado de Dataframe (Indexing)"
   ]
  },
  {
   "attachments": {
    "image.png": {
     "image/png": "[encoded data removed]"
    }
   },
   "cell_type": "markdown",
   "id": "aa08c6e7",
   "metadata": {},
   "source": [
    "Hay muchas técnicas para filtrar un DataFrame. Podemos querer filtrar por columnas o por filas, por posición o por nombre. También podemos querer filtrar por condiciones que se cumplen o no. Cuando no queremos filtrar sobre una dimensión (filas o columnas) usamos \":\" para seleccionar todo.\n",
    "![image.png](attachment:image.png)"
   ]
  },
  {
   "cell_type": "markdown",
   "id": "f4888d5d",
   "metadata": {},
   "source": [
    "### Boolean Indexing"
   ]
  },
  {
   "cell_type": "code",
   "execution_count": 35,
   "id": "ceb3adaa",
   "metadata": {},
   "outputs": [],
   "source": [
    "mascara_booleana = df[\"anio\"] != 2019"
   ]
  },
  {
   "cell_type": "code",
   "execution_count": 37,
   "id": "bec7f7b8",
   "metadata": {
    "scrolled": true
   },
   "outputs": [
    {
     "data": {
      "text/plain": [
       "0      False\n",
       "1      False\n",
       "2      False\n",
       "3      False\n",
       "4      False\n",
       "       ...  \n",
       "380    False\n",
       "381    False\n",
       "382    False\n",
       "383    False\n",
       "384    False\n",
       "Name: anio, Length: 385, dtype: bool"
      ]
     },
     "execution_count": 37,
     "metadata": {},
     "output_type": "execute_result"
    }
   ],
   "source": [
    "mascara_booleana # es una serie de tipo bool"
   ]
  },
  {
   "cell_type": "code",
   "execution_count": 38,
   "id": "000b52bb",
   "metadata": {},
   "outputs": [],
   "source": [
    "# filtro para ver solo los que trabajan en el Ministerio de Cultura\n",
    "df_min_cul = df.loc[df[\"reparticion\"] == \"Ministerio de Cultura\"]"
   ]
  },
  {
   "cell_type": "code",
   "execution_count": 40,
   "id": "88dcf197",
   "metadata": {},
   "outputs": [
    {
     "data": {
      "text/plain": [
       "(12, 11)"
      ]
     },
     "execution_count": 40,
     "metadata": {},
     "output_type": "execute_result"
    }
   ],
   "source": [
    "df_min_cul.shape"
   ]
  },
  {
   "cell_type": "markdown",
   "id": "2f7a62ef",
   "metadata": {},
   "source": [
    "## Ejercicio"
   ]
  },
  {
   "cell_type": "markdown",
   "id": "cf15398f",
   "metadata": {},
   "source": [
    "Traer sueldos de la segunda mitad del año"
   ]
  },
  {
   "cell_type": "code",
   "execution_count": 41,
   "id": "2c0cd439",
   "metadata": {},
   "outputs": [],
   "source": [
    "df_segunda_mitad = df[df[\"mes\"] > 6]"
   ]
  },
  {
   "cell_type": "code",
   "execution_count": 42,
   "id": "f580ee5a",
   "metadata": {},
   "outputs": [
    {
     "data": {
      "text/plain": [
       "(197, 11)"
      ]
     },
     "execution_count": 42,
     "metadata": {},
     "output_type": "execute_result"
    }
   ],
   "source": [
    "df_segunda_mitad.shape"
   ]
  },
  {
   "cell_type": "markdown",
   "id": "e2ebed0f",
   "metadata": {},
   "source": [
    "Cuantos sobrevivieron? y Cuantos pagaron menos de 25"
   ]
  },
  {
   "cell_type": "code",
   "execution_count": 43,
   "id": "b38372cf",
   "metadata": {
    "scrolled": true
   },
   "outputs": [
    {
     "data": {
      "text/html": [
       "<div>\n",
       "<style scoped>\n",
       "    .dataframe tbody tr th:only-of-type {\n",
       "        vertical-align: middle;\n",
       "    }\n",
       "\n",
       "    .dataframe tbody tr th {\n",
       "        vertical-align: top;\n",
       "    }\n",
       "\n",
       "    .dataframe thead th {\n",
       "        text-align: right;\n",
       "    }\n",
       "</style>\n",
       "<table border=\"1\" class=\"dataframe\">\n",
       "  <thead>\n",
       "    <tr style=\"text-align: right;\">\n",
       "      <th></th>\n",
       "      <th>PassengerId</th>\n",
       "      <th>Survived</th>\n",
       "      <th>Pclass</th>\n",
       "      <th>Name</th>\n",
       "      <th>Sex</th>\n",
       "      <th>Age</th>\n",
       "      <th>SibSp</th>\n",
       "      <th>Parch</th>\n",
       "      <th>Ticket</th>\n",
       "      <th>Fare</th>\n",
       "      <th>Cabin</th>\n",
       "      <th>Embarked</th>\n",
       "    </tr>\n",
       "  </thead>\n",
       "  <tbody>\n",
       "    <tr>\n",
       "      <th>0</th>\n",
       "      <td>1</td>\n",
       "      <td>0</td>\n",
       "      <td>3</td>\n",
       "      <td>Braund, Mr. Owen Harris</td>\n",
       "      <td>male</td>\n",
       "      <td>22.0</td>\n",
       "      <td>1</td>\n",
       "      <td>0</td>\n",
       "      <td>A/5 21171</td>\n",
       "      <td>7.2500</td>\n",
       "      <td>NaN</td>\n",
       "      <td>S</td>\n",
       "    </tr>\n",
       "    <tr>\n",
       "      <th>1</th>\n",
       "      <td>2</td>\n",
       "      <td>1</td>\n",
       "      <td>1</td>\n",
       "      <td>Cumings, Mrs. John Bradley (Florence Briggs Th...</td>\n",
       "      <td>female</td>\n",
       "      <td>38.0</td>\n",
       "      <td>1</td>\n",
       "      <td>0</td>\n",
       "      <td>PC 17599</td>\n",
       "      <td>71.2833</td>\n",
       "      <td>C85</td>\n",
       "      <td>C</td>\n",
       "    </tr>\n",
       "    <tr>\n",
       "      <th>2</th>\n",
       "      <td>3</td>\n",
       "      <td>1</td>\n",
       "      <td>3</td>\n",
       "      <td>Heikkinen, Miss. Laina</td>\n",
       "      <td>female</td>\n",
       "      <td>26.0</td>\n",
       "      <td>0</td>\n",
       "      <td>0</td>\n",
       "      <td>STON/O2. 3101282</td>\n",
       "      <td>7.9250</td>\n",
       "      <td>NaN</td>\n",
       "      <td>S</td>\n",
       "    </tr>\n",
       "    <tr>\n",
       "      <th>3</th>\n",
       "      <td>4</td>\n",
       "      <td>1</td>\n",
       "      <td>1</td>\n",
       "      <td>Futrelle, Mrs. Jacques Heath (Lily May Peel)</td>\n",
       "      <td>female</td>\n",
       "      <td>35.0</td>\n",
       "      <td>1</td>\n",
       "      <td>0</td>\n",
       "      <td>113803</td>\n",
       "      <td>53.1000</td>\n",
       "      <td>C123</td>\n",
       "      <td>S</td>\n",
       "    </tr>\n",
       "    <tr>\n",
       "      <th>4</th>\n",
       "      <td>5</td>\n",
       "      <td>0</td>\n",
       "      <td>3</td>\n",
       "      <td>Allen, Mr. William Henry</td>\n",
       "      <td>male</td>\n",
       "      <td>35.0</td>\n",
       "      <td>0</td>\n",
       "      <td>0</td>\n",
       "      <td>373450</td>\n",
       "      <td>8.0500</td>\n",
       "      <td>NaN</td>\n",
       "      <td>S</td>\n",
       "    </tr>\n",
       "  </tbody>\n",
       "</table>\n",
       "</div>"
      ],
      "text/plain": [
       "   PassengerId  Survived  Pclass  \\\n",
       "0            1         0       3   \n",
       "1            2         1       1   \n",
       "2            3         1       3   \n",
       "3            4         1       1   \n",
       "4            5         0       3   \n",
       "\n",
       "                                                Name     Sex   Age  SibSp  \\\n",
       "0                            Braund, Mr. Owen Harris    male  22.0      1   \n",
       "1  Cumings, Mrs. John Bradley (Florence Briggs Th...  female  38.0      1   \n",
       "2                             Heikkinen, Miss. Laina  female  26.0      0   \n",
       "3       Futrelle, Mrs. Jacques Heath (Lily May Peel)  female  35.0      1   \n",
       "4                           Allen, Mr. William Henry    male  35.0      0   \n",
       "\n",
       "   Parch            Ticket     Fare Cabin Embarked  \n",
       "0      0         A/5 21171   7.2500   NaN        S  \n",
       "1      0          PC 17599  71.2833   C85        C  \n",
       "2      0  STON/O2. 3101282   7.9250   NaN        S  \n",
       "3      0            113803  53.1000  C123        S  \n",
       "4      0            373450   8.0500   NaN        S  "
      ]
     },
     "execution_count": 43,
     "metadata": {},
     "output_type": "execute_result"
    }
   ],
   "source": [
    "df_titanic.head()"
   ]
  },
  {
   "cell_type": "code",
   "execution_count": 48,
   "id": "3aa299b8",
   "metadata": {
    "scrolled": true
   },
   "outputs": [],
   "source": [
    "df_supervivientes = df.loc[df_titanic[\"Survived\"] == 1]"
   ]
  },
  {
   "cell_type": "code",
   "execution_count": 50,
   "id": "cf006b4e",
   "metadata": {},
   "outputs": [
    {
     "data": {
      "text/plain": [
       "(150, 11)"
      ]
     },
     "execution_count": 50,
     "metadata": {},
     "output_type": "execute_result"
    }
   ],
   "source": [
    "df_supervivientes.shape"
   ]
  },
  {
   "cell_type": "code",
   "execution_count": 52,
   "id": "b8fd1511",
   "metadata": {},
   "outputs": [],
   "source": [
    "df_tarifa_barata = df_titanic[df_titanic[\"Fare\"] < 25]"
   ]
  },
  {
   "cell_type": "code",
   "execution_count": 54,
   "id": "10ab4bf0",
   "metadata": {},
   "outputs": [
    {
     "data": {
      "text/plain": [
       "(557, 12)"
      ]
     },
     "execution_count": 54,
     "metadata": {},
     "output_type": "execute_result"
    }
   ],
   "source": [
    "df_tarifa_barata.shape"
   ]
  },
  {
   "cell_type": "code",
   "execution_count": 55,
   "id": "12f5ae4f",
   "metadata": {},
   "outputs": [
    {
     "data": {
      "text/plain": [
       "8.0500     43\n",
       "13.0000    42\n",
       "7.8958     38\n",
       "7.7500     34\n",
       "26.0000    31\n",
       "           ..\n",
       "35.0000     1\n",
       "28.5000     1\n",
       "6.2375      1\n",
       "14.0000     1\n",
       "10.5167     1\n",
       "Name: Fare, Length: 248, dtype: int64"
      ]
     },
     "execution_count": 55,
     "metadata": {},
     "output_type": "execute_result"
    }
   ],
   "source": [
    "df_titanic[\"Fare\"].value_counts()"
   ]
  },
  {
   "cell_type": "markdown",
   "id": "b62d56fc",
   "metadata": {},
   "source": [
    "## Boolean Mask con muichas condiciones"
   ]
  },
  {
   "cell_type": "markdown",
   "id": "c1faf2bd",
   "metadata": {},
   "source": [
    "### XOR\n",
    "O se cobra aguinaldo o el salario es mayor a 240, no ambas"
   ]
  },
  {
   "cell_type": "code",
   "execution_count": 9,
   "id": "5c3b4c6c",
   "metadata": {},
   "outputs": [
    {
     "data": {
      "text/html": [
       "<div>\n",
       "<style scoped>\n",
       "    .dataframe tbody tr th:only-of-type {\n",
       "        vertical-align: middle;\n",
       "    }\n",
       "\n",
       "    .dataframe tbody tr th {\n",
       "        vertical-align: top;\n",
       "    }\n",
       "\n",
       "    .dataframe thead th {\n",
       "        text-align: right;\n",
       "    }\n",
       "</style>\n",
       "<table border=\"1\" class=\"dataframe\">\n",
       "  <thead>\n",
       "    <tr style=\"text-align: right;\">\n",
       "      <th></th>\n",
       "      <th>cuil</th>\n",
       "      <th>anio</th>\n",
       "      <th>mes</th>\n",
       "      <th>funcionario_apellido</th>\n",
       "      <th>funcionario_nombre</th>\n",
       "      <th>reparticion</th>\n",
       "      <th>asignacion_por_cargo_i</th>\n",
       "      <th>aguinaldo_ii</th>\n",
       "      <th>total_salario_bruto_i_+_ii</th>\n",
       "      <th>observaciones</th>\n",
       "    </tr>\n",
       "  </thead>\n",
       "  <tbody>\n",
       "    <tr>\n",
       "      <th>55</th>\n",
       "      <td>20-26781618-3</td>\n",
       "      <td>2019</td>\n",
       "      <td>2</td>\n",
       "      <td>LARRE</td>\n",
       "      <td>PEDRO ANDRES</td>\n",
       "      <td>SECR Ciencia, Tecnologia e Innovacion</td>\n",
       "      <td>204017.27</td>\n",
       "      <td>34002.88</td>\n",
       "      <td>238020.15</td>\n",
       "      <td>baja 28/2/2019</td>\n",
       "    </tr>\n",
       "    <tr>\n",
       "      <th>97</th>\n",
       "      <td>27-24483014-0</td>\n",
       "      <td>2019</td>\n",
       "      <td>4</td>\n",
       "      <td>ACUÑA</td>\n",
       "      <td>MARIA SOLEDAD</td>\n",
       "      <td>Ministerio de Educación e Innovación</td>\n",
       "      <td>249661.60</td>\n",
       "      <td>0.00</td>\n",
       "      <td>249661.60</td>\n",
       "      <td>NaN</td>\n",
       "    </tr>\n",
       "    <tr>\n",
       "      <th>98</th>\n",
       "      <td>20-13872301-2</td>\n",
       "      <td>2019</td>\n",
       "      <td>4</td>\n",
       "      <td>ASTARLOA</td>\n",
       "      <td>GABRIEL MARIA</td>\n",
       "      <td>Procuración General de la Ciudad de Buenos Aires</td>\n",
       "      <td>249661.60</td>\n",
       "      <td>0.00</td>\n",
       "      <td>249661.60</td>\n",
       "      <td>NaN</td>\n",
       "    </tr>\n",
       "    <tr>\n",
       "      <th>99</th>\n",
       "      <td>20-25641207-2</td>\n",
       "      <td>2019</td>\n",
       "      <td>4</td>\n",
       "      <td>AVOGADRO</td>\n",
       "      <td>ENRIQUE LUIS</td>\n",
       "      <td>Ministerio de Cultura</td>\n",
       "      <td>249661.60</td>\n",
       "      <td>0.00</td>\n",
       "      <td>249661.60</td>\n",
       "      <td>NaN</td>\n",
       "    </tr>\n",
       "    <tr>\n",
       "      <th>100</th>\n",
       "      <td>27-13221055-7</td>\n",
       "      <td>2019</td>\n",
       "      <td>4</td>\n",
       "      <td>BOU PEREZ</td>\n",
       "      <td>ANA MARIA</td>\n",
       "      <td>Ministerio de Salud</td>\n",
       "      <td>249661.60</td>\n",
       "      <td>0.00</td>\n",
       "      <td>249661.60</td>\n",
       "      <td>NaN</td>\n",
       "    </tr>\n",
       "    <tr>\n",
       "      <th>...</th>\n",
       "      <td>...</td>\n",
       "      <td>...</td>\n",
       "      <td>...</td>\n",
       "      <td>...</td>\n",
       "      <td>...</td>\n",
       "      <td>...</td>\n",
       "      <td>...</td>\n",
       "      <td>...</td>\n",
       "      <td>...</td>\n",
       "      <td>...</td>\n",
       "    </tr>\n",
       "    <tr>\n",
       "      <th>360</th>\n",
       "      <td>20-28908968-4</td>\n",
       "      <td>2019</td>\n",
       "      <td>12</td>\n",
       "      <td>COELHO CHICANO</td>\n",
       "      <td>CHRISTIAN</td>\n",
       "      <td>SS Contenidos</td>\n",
       "      <td>74991.86</td>\n",
       "      <td>110404.68</td>\n",
       "      <td>185396.54</td>\n",
       "      <td>baja al 9/12</td>\n",
       "    </tr>\n",
       "    <tr>\n",
       "      <th>361</th>\n",
       "      <td>20-28908968-4</td>\n",
       "      <td>2019</td>\n",
       "      <td>12</td>\n",
       "      <td>COELHO CHICANO</td>\n",
       "      <td>CHRISTIAN</td>\n",
       "      <td>SECR de Medios</td>\n",
       "      <td>187539.45</td>\n",
       "      <td>15628.29</td>\n",
       "      <td>203167.74</td>\n",
       "      <td>alta desde el 10/12</td>\n",
       "    </tr>\n",
       "    <tr>\n",
       "      <th>362</th>\n",
       "      <td>20-24424714-9</td>\n",
       "      <td>2019</td>\n",
       "      <td>12</td>\n",
       "      <td>D'ALESSANDRO</td>\n",
       "      <td>MARCELO SILVIO</td>\n",
       "      <td>SECR Justicia y Seguridad</td>\n",
       "      <td>74991.86</td>\n",
       "      <td>110404.68</td>\n",
       "      <td>185396.54</td>\n",
       "      <td>baja al 9/12</td>\n",
       "    </tr>\n",
       "    <tr>\n",
       "      <th>363</th>\n",
       "      <td>20-24424714-9</td>\n",
       "      <td>2019</td>\n",
       "      <td>12</td>\n",
       "      <td>D'ALESSANDRO</td>\n",
       "      <td>MARCELO SILVIO</td>\n",
       "      <td>SECR Justicia y Seguridad</td>\n",
       "      <td>187539.45</td>\n",
       "      <td>15628.29</td>\n",
       "      <td>203167.74</td>\n",
       "      <td>alta desde el 10/12</td>\n",
       "    </tr>\n",
       "    <tr>\n",
       "      <th>384</th>\n",
       "      <td>27-27011181-0</td>\n",
       "      <td>2019</td>\n",
       "      <td>12</td>\n",
       "      <td>FERNANDEZ</td>\n",
       "      <td>KARINA BEATRIZ</td>\n",
       "      <td>SECR Asuntos Estratégicos</td>\n",
       "      <td>187539.45</td>\n",
       "      <td>15628.29</td>\n",
       "      <td>203167.74</td>\n",
       "      <td>alta desde el 10/12</td>\n",
       "    </tr>\n",
       "  </tbody>\n",
       "</table>\n",
       "<p>170 rows × 10 columns</p>\n",
       "</div>"
      ],
      "text/plain": [
       "              cuil  anio  mes funcionario_apellido funcionario_nombre  \\\n",
       "55   20-26781618-3  2019    2                LARRE       PEDRO ANDRES   \n",
       "97   27-24483014-0  2019    4                ACUÑA      MARIA SOLEDAD   \n",
       "98   20-13872301-2  2019    4             ASTARLOA      GABRIEL MARIA   \n",
       "99   20-25641207-2  2019    4             AVOGADRO       ENRIQUE LUIS   \n",
       "100  27-13221055-7  2019    4            BOU PEREZ          ANA MARIA   \n",
       "..             ...   ...  ...                  ...                ...   \n",
       "360  20-28908968-4  2019   12       COELHO CHICANO          CHRISTIAN   \n",
       "361  20-28908968-4  2019   12       COELHO CHICANO          CHRISTIAN   \n",
       "362  20-24424714-9  2019   12         D'ALESSANDRO     MARCELO SILVIO   \n",
       "363  20-24424714-9  2019   12         D'ALESSANDRO     MARCELO SILVIO   \n",
       "384  27-27011181-0  2019   12            FERNANDEZ     KARINA BEATRIZ   \n",
       "\n",
       "                                          reparticion  asignacion_por_cargo_i  \\\n",
       "55              SECR Ciencia, Tecnologia e Innovacion               204017.27   \n",
       "97               Ministerio de Educación e Innovación               249661.60   \n",
       "98   Procuración General de la Ciudad de Buenos Aires               249661.60   \n",
       "99                              Ministerio de Cultura               249661.60   \n",
       "100                               Ministerio de Salud               249661.60   \n",
       "..                                                ...                     ...   \n",
       "360                                     SS Contenidos                74991.86   \n",
       "361                                    SECR de Medios               187539.45   \n",
       "362                         SECR Justicia y Seguridad                74991.86   \n",
       "363                         SECR Justicia y Seguridad               187539.45   \n",
       "384                         SECR Asuntos Estratégicos               187539.45   \n",
       "\n",
       "     aguinaldo_ii  total_salario_bruto_i_+_ii        observaciones  \n",
       "55       34002.88                   238020.15       baja 28/2/2019  \n",
       "97           0.00                   249661.60                  NaN  \n",
       "98           0.00                   249661.60                  NaN  \n",
       "99           0.00                   249661.60                  NaN  \n",
       "100          0.00                   249661.60                  NaN  \n",
       "..            ...                         ...                  ...  \n",
       "360     110404.68                   185396.54         baja al 9/12  \n",
       "361      15628.29                   203167.74  alta desde el 10/12  \n",
       "362     110404.68                   185396.54         baja al 9/12  \n",
       "363      15628.29                   203167.74  alta desde el 10/12  \n",
       "384      15628.29                   203167.74  alta desde el 10/12  \n",
       "\n",
       "[170 rows x 10 columns]"
      ]
     },
     "execution_count": 9,
     "metadata": {},
     "output_type": "execute_result"
    }
   ],
   "source": [
    "df[(df[\"aguinaldo_ii\"] > 0) ^ (df[\"total_salario_bruto_i_+_ii\"] > 240000)]"
   ]
  },
  {
   "cell_type": "markdown",
   "id": "aa33785d",
   "metadata": {},
   "source": [
    "Sueldos de febrero de SECR Ciencia, Tecnología e Innovación"
   ]
  },
  {
   "cell_type": "code",
   "execution_count": 11,
   "id": "64e98b9f",
   "metadata": {},
   "outputs": [
    {
     "data": {
      "text/html": [
       "<div>\n",
       "<style scoped>\n",
       "    .dataframe tbody tr th:only-of-type {\n",
       "        vertical-align: middle;\n",
       "    }\n",
       "\n",
       "    .dataframe tbody tr th {\n",
       "        vertical-align: top;\n",
       "    }\n",
       "\n",
       "    .dataframe thead th {\n",
       "        text-align: right;\n",
       "    }\n",
       "</style>\n",
       "<table border=\"1\" class=\"dataframe\">\n",
       "  <thead>\n",
       "    <tr style=\"text-align: right;\">\n",
       "      <th></th>\n",
       "      <th>cuil</th>\n",
       "      <th>anio</th>\n",
       "      <th>mes</th>\n",
       "      <th>funcionario_apellido</th>\n",
       "      <th>funcionario_nombre</th>\n",
       "      <th>reparticion</th>\n",
       "      <th>asignacion_por_cargo_i</th>\n",
       "      <th>aguinaldo_ii</th>\n",
       "      <th>total_salario_bruto_i_+_ii</th>\n",
       "      <th>observaciones</th>\n",
       "    </tr>\n",
       "  </thead>\n",
       "  <tbody>\n",
       "    <tr>\n",
       "      <th>55</th>\n",
       "      <td>20-26781618-3</td>\n",
       "      <td>2019</td>\n",
       "      <td>2</td>\n",
       "      <td>LARRE</td>\n",
       "      <td>PEDRO ANDRES</td>\n",
       "      <td>SECR Ciencia, Tecnologia e Innovacion</td>\n",
       "      <td>204017.27</td>\n",
       "      <td>34002.88</td>\n",
       "      <td>238020.15</td>\n",
       "      <td>baja 28/2/2019</td>\n",
       "    </tr>\n",
       "  </tbody>\n",
       "</table>\n",
       "</div>"
      ],
      "text/plain": [
       "             cuil  anio  mes funcionario_apellido funcionario_nombre  \\\n",
       "55  20-26781618-3  2019    2                LARRE       PEDRO ANDRES   \n",
       "\n",
       "                              reparticion  asignacion_por_cargo_i  \\\n",
       "55  SECR Ciencia, Tecnologia e Innovacion               204017.27   \n",
       "\n",
       "    aguinaldo_ii  total_salario_bruto_i_+_ii   observaciones  \n",
       "55      34002.88                   238020.15  baja 28/2/2019  "
      ]
     },
     "execution_count": 11,
     "metadata": {},
     "output_type": "execute_result"
    }
   ],
   "source": [
    "df[(df[\"mes\"] == 2) & (df[\"reparticion\"] == \"SECR Ciencia, Tecnologia e Innovacion\")]"
   ]
  },
  {
   "cell_type": "markdown",
   "id": "c4942504",
   "metadata": {},
   "source": [
    "## Boolean Indexinf con query()"
   ]
  },
  {
   "cell_type": "code",
   "execution_count": 16,
   "id": "24fcc74c",
   "metadata": {
    "scrolled": true
   },
   "outputs": [
    {
     "data": {
      "text/html": [
       "<div>\n",
       "<style scoped>\n",
       "    .dataframe tbody tr th:only-of-type {\n",
       "        vertical-align: middle;\n",
       "    }\n",
       "\n",
       "    .dataframe tbody tr th {\n",
       "        vertical-align: top;\n",
       "    }\n",
       "\n",
       "    .dataframe thead th {\n",
       "        text-align: right;\n",
       "    }\n",
       "</style>\n",
       "<table border=\"1\" class=\"dataframe\">\n",
       "  <thead>\n",
       "    <tr style=\"text-align: right;\">\n",
       "      <th></th>\n",
       "      <th>cuil</th>\n",
       "      <th>anio</th>\n",
       "      <th>mes</th>\n",
       "      <th>funcionario_apellido</th>\n",
       "      <th>funcionario_nombre</th>\n",
       "      <th>reparticion</th>\n",
       "      <th>asignacion_por_cargo_i</th>\n",
       "      <th>aguinaldo_ii</th>\n",
       "      <th>total_salario_bruto_i_+_ii</th>\n",
       "      <th>observaciones</th>\n",
       "    </tr>\n",
       "  </thead>\n",
       "  <tbody>\n",
       "    <tr>\n",
       "      <th>4</th>\n",
       "      <td>20-25641207-2</td>\n",
       "      <td>2019</td>\n",
       "      <td>1</td>\n",
       "      <td>AVOGADRO</td>\n",
       "      <td>ENRIQUE LUIS</td>\n",
       "      <td>Ministerio de Cultura</td>\n",
       "      <td>224516.62</td>\n",
       "      <td>0.0</td>\n",
       "      <td>224516.62</td>\n",
       "      <td>NaN</td>\n",
       "    </tr>\n",
       "    <tr>\n",
       "      <th>36</th>\n",
       "      <td>20-25641207-2</td>\n",
       "      <td>2019</td>\n",
       "      <td>2</td>\n",
       "      <td>AVOGADRO</td>\n",
       "      <td>ENRIQUE LUIS</td>\n",
       "      <td>Ministerio de Cultura</td>\n",
       "      <td>224516.62</td>\n",
       "      <td>0.0</td>\n",
       "      <td>224516.62</td>\n",
       "      <td>NaN</td>\n",
       "    </tr>\n",
       "    <tr>\n",
       "      <th>68</th>\n",
       "      <td>20-25641207-2</td>\n",
       "      <td>2019</td>\n",
       "      <td>3</td>\n",
       "      <td>AVOGADRO</td>\n",
       "      <td>ENRIQUE LUIS</td>\n",
       "      <td>Ministerio de Cultura</td>\n",
       "      <td>231167.76</td>\n",
       "      <td>0.0</td>\n",
       "      <td>231167.76</td>\n",
       "      <td>NaN</td>\n",
       "    </tr>\n",
       "    <tr>\n",
       "      <th>99</th>\n",
       "      <td>20-25641207-2</td>\n",
       "      <td>2019</td>\n",
       "      <td>4</td>\n",
       "      <td>AVOGADRO</td>\n",
       "      <td>ENRIQUE LUIS</td>\n",
       "      <td>Ministerio de Cultura</td>\n",
       "      <td>249661.60</td>\n",
       "      <td>0.0</td>\n",
       "      <td>249661.60</td>\n",
       "      <td>NaN</td>\n",
       "    </tr>\n",
       "    <tr>\n",
       "      <th>130</th>\n",
       "      <td>20-25641207-2</td>\n",
       "      <td>2019</td>\n",
       "      <td>5</td>\n",
       "      <td>AVOGADRO</td>\n",
       "      <td>ENRIQUE LUIS</td>\n",
       "      <td>Ministerio de Cultura</td>\n",
       "      <td>249661.60</td>\n",
       "      <td>0.0</td>\n",
       "      <td>249661.60</td>\n",
       "      <td>NaN</td>\n",
       "    </tr>\n",
       "  </tbody>\n",
       "</table>\n",
       "</div>"
      ],
      "text/plain": [
       "              cuil  anio  mes funcionario_apellido funcionario_nombre  \\\n",
       "4    20-25641207-2  2019    1             AVOGADRO       ENRIQUE LUIS   \n",
       "36   20-25641207-2  2019    2             AVOGADRO       ENRIQUE LUIS   \n",
       "68   20-25641207-2  2019    3             AVOGADRO       ENRIQUE LUIS   \n",
       "99   20-25641207-2  2019    4             AVOGADRO       ENRIQUE LUIS   \n",
       "130  20-25641207-2  2019    5             AVOGADRO       ENRIQUE LUIS   \n",
       "\n",
       "               reparticion  asignacion_por_cargo_i  aguinaldo_ii  \\\n",
       "4    Ministerio de Cultura               224516.62           0.0   \n",
       "36   Ministerio de Cultura               224516.62           0.0   \n",
       "68   Ministerio de Cultura               231167.76           0.0   \n",
       "99   Ministerio de Cultura               249661.60           0.0   \n",
       "130  Ministerio de Cultura               249661.60           0.0   \n",
       "\n",
       "     total_salario_bruto_i_+_ii observaciones  \n",
       "4                     224516.62           NaN  \n",
       "36                    224516.62           NaN  \n",
       "68                    231167.76           NaN  \n",
       "99                    249661.60           NaN  \n",
       "130                   249661.60           NaN  "
      ]
     },
     "execution_count": 16,
     "metadata": {},
     "output_type": "execute_result"
    }
   ],
   "source": [
    "df_cult = df.query('reparticion == \"Ministerio de Cultura\"')\n",
    "df_cult.head()"
   ]
  },
  {
   "cell_type": "code",
   "execution_count": 24,
   "id": "a86ec5e0",
   "metadata": {
    "scrolled": true
   },
   "outputs": [
    {
     "data": {
      "text/html": [
       "<div>\n",
       "<style scoped>\n",
       "    .dataframe tbody tr th:only-of-type {\n",
       "        vertical-align: middle;\n",
       "    }\n",
       "\n",
       "    .dataframe tbody tr th {\n",
       "        vertical-align: top;\n",
       "    }\n",
       "\n",
       "    .dataframe thead th {\n",
       "        text-align: right;\n",
       "    }\n",
       "</style>\n",
       "<table border=\"1\" class=\"dataframe\">\n",
       "  <thead>\n",
       "    <tr style=\"text-align: right;\">\n",
       "      <th></th>\n",
       "      <th>cuil</th>\n",
       "      <th>anio</th>\n",
       "      <th>mes</th>\n",
       "      <th>funcionario_apellido</th>\n",
       "      <th>funcionario_nombre</th>\n",
       "      <th>reparticion</th>\n",
       "      <th>asignacion_por_cargo_i</th>\n",
       "      <th>aguinaldo_ii</th>\n",
       "      <th>total_salario_bruto_i_+_ii</th>\n",
       "      <th>observaciones</th>\n",
       "    </tr>\n",
       "  </thead>\n",
       "  <tbody>\n",
       "    <tr>\n",
       "      <th>159</th>\n",
       "      <td>27-24483014-0</td>\n",
       "      <td>2019</td>\n",
       "      <td>6</td>\n",
       "      <td>ACUÑA</td>\n",
       "      <td>MARIA SOLEDAD</td>\n",
       "      <td>Ministerio de Educación e Innovación</td>\n",
       "      <td>249661.6</td>\n",
       "      <td>124830.80</td>\n",
       "      <td>374492.40</td>\n",
       "      <td>NaN</td>\n",
       "    </tr>\n",
       "    <tr>\n",
       "      <th>160</th>\n",
       "      <td>20-13872301-2</td>\n",
       "      <td>2019</td>\n",
       "      <td>6</td>\n",
       "      <td>ASTARLOA</td>\n",
       "      <td>GABRIEL MARIA</td>\n",
       "      <td>Procuración General de la Ciudad de Buenos Aires</td>\n",
       "      <td>249661.6</td>\n",
       "      <td>165196.76</td>\n",
       "      <td>414858.36</td>\n",
       "      <td>NaN</td>\n",
       "    </tr>\n",
       "    <tr>\n",
       "      <th>161</th>\n",
       "      <td>20-25641207-2</td>\n",
       "      <td>2019</td>\n",
       "      <td>6</td>\n",
       "      <td>AVOGADRO</td>\n",
       "      <td>ENRIQUE LUIS</td>\n",
       "      <td>Ministerio de Cultura</td>\n",
       "      <td>249661.6</td>\n",
       "      <td>124830.80</td>\n",
       "      <td>374492.40</td>\n",
       "      <td>NaN</td>\n",
       "    </tr>\n",
       "    <tr>\n",
       "      <th>162</th>\n",
       "      <td>27-13221055-7</td>\n",
       "      <td>2019</td>\n",
       "      <td>6</td>\n",
       "      <td>BOU PEREZ</td>\n",
       "      <td>ANA MARIA</td>\n",
       "      <td>Ministerio de Salud</td>\n",
       "      <td>249661.6</td>\n",
       "      <td>124830.80</td>\n",
       "      <td>374492.40</td>\n",
       "      <td>NaN</td>\n",
       "    </tr>\n",
       "    <tr>\n",
       "      <th>163</th>\n",
       "      <td>27-13092400-5</td>\n",
       "      <td>2019</td>\n",
       "      <td>6</td>\n",
       "      <td>FREDA</td>\n",
       "      <td>MONICA BEATRIZ</td>\n",
       "      <td>Sindicatura General de la Ciudad de Buenos Aires</td>\n",
       "      <td>249661.6</td>\n",
       "      <td>124830.80</td>\n",
       "      <td>374492.40</td>\n",
       "      <td>NaN</td>\n",
       "    </tr>\n",
       "  </tbody>\n",
       "</table>\n",
       "</div>"
      ],
      "text/plain": [
       "              cuil  anio  mes funcionario_apellido funcionario_nombre  \\\n",
       "159  27-24483014-0  2019    6                ACUÑA      MARIA SOLEDAD   \n",
       "160  20-13872301-2  2019    6             ASTARLOA      GABRIEL MARIA   \n",
       "161  20-25641207-2  2019    6             AVOGADRO       ENRIQUE LUIS   \n",
       "162  27-13221055-7  2019    6            BOU PEREZ          ANA MARIA   \n",
       "163  27-13092400-5  2019    6                FREDA     MONICA BEATRIZ   \n",
       "\n",
       "                                          reparticion  asignacion_por_cargo_i  \\\n",
       "159              Ministerio de Educación e Innovación                249661.6   \n",
       "160  Procuración General de la Ciudad de Buenos Aires                249661.6   \n",
       "161                             Ministerio de Cultura                249661.6   \n",
       "162                               Ministerio de Salud                249661.6   \n",
       "163  Sindicatura General de la Ciudad de Buenos Aires                249661.6   \n",
       "\n",
       "     aguinaldo_ii  total_salario_bruto_i_+_ii observaciones  \n",
       "159     124830.80                   374492.40           NaN  \n",
       "160     165196.76                   414858.36           NaN  \n",
       "161     124830.80                   374492.40           NaN  \n",
       "162     124830.80                   374492.40           NaN  \n",
       "163     124830.80                   374492.40           NaN  "
      ]
     },
     "execution_count": 24,
     "metadata": {},
     "output_type": "execute_result"
    }
   ],
   "source": [
    "df2 = df.query('aguinaldo_ii > 0 & asignacion_por_cargo_i > 240000')\n",
    "df2.head()"
   ]
  },
  {
   "cell_type": "code",
   "execution_count": 25,
   "id": "8cfd57db",
   "metadata": {},
   "outputs": [
    {
     "data": {
      "text/plain": [
       "(34, 10)"
      ]
     },
     "execution_count": 25,
     "metadata": {},
     "output_type": "execute_result"
    }
   ],
   "source": [
    "df2.shape"
   ]
  },
  {
   "cell_type": "markdown",
   "id": "cb27538d",
   "metadata": {},
   "source": [
    "## Ejercicios query"
   ]
  },
  {
   "cell_type": "code",
   "execution_count": 26,
   "id": "c851e248",
   "metadata": {
    "scrolled": true
   },
   "outputs": [
    {
     "data": {
      "text/html": [
       "<div>\n",
       "<style scoped>\n",
       "    .dataframe tbody tr th:only-of-type {\n",
       "        vertical-align: middle;\n",
       "    }\n",
       "\n",
       "    .dataframe tbody tr th {\n",
       "        vertical-align: top;\n",
       "    }\n",
       "\n",
       "    .dataframe thead th {\n",
       "        text-align: right;\n",
       "    }\n",
       "</style>\n",
       "<table border=\"1\" class=\"dataframe\">\n",
       "  <thead>\n",
       "    <tr style=\"text-align: right;\">\n",
       "      <th></th>\n",
       "      <th>cuil</th>\n",
       "      <th>anio</th>\n",
       "      <th>mes</th>\n",
       "      <th>funcionario_apellido</th>\n",
       "      <th>funcionario_nombre</th>\n",
       "      <th>reparticion</th>\n",
       "      <th>asignacion_por_cargo_i</th>\n",
       "      <th>aguinaldo_ii</th>\n",
       "      <th>total_salario_bruto_i_+_ii</th>\n",
       "      <th>observaciones</th>\n",
       "    </tr>\n",
       "  </thead>\n",
       "  <tbody>\n",
       "    <tr>\n",
       "      <th>188</th>\n",
       "      <td>20-17692128-6</td>\n",
       "      <td>2019</td>\n",
       "      <td>7</td>\n",
       "      <td>RODRIGUEZ LARRETA</td>\n",
       "      <td>HORACIO ANTONIO</td>\n",
       "      <td>Jefe de Gobierno</td>\n",
       "      <td>228396.40</td>\n",
       "      <td>0.0</td>\n",
       "      <td>228396.40</td>\n",
       "      <td>NaN</td>\n",
       "    </tr>\n",
       "    <tr>\n",
       "      <th>189</th>\n",
       "      <td>20-17735449-0</td>\n",
       "      <td>2019</td>\n",
       "      <td>7</td>\n",
       "      <td>SANTILLI</td>\n",
       "      <td>DIEGO CESAR</td>\n",
       "      <td>Vicejefatura de Gobierno</td>\n",
       "      <td>228396.40</td>\n",
       "      <td>0.0</td>\n",
       "      <td>228396.40</td>\n",
       "      <td>NaN</td>\n",
       "    </tr>\n",
       "    <tr>\n",
       "      <th>190</th>\n",
       "      <td>27-24483014-0</td>\n",
       "      <td>2019</td>\n",
       "      <td>7</td>\n",
       "      <td>ACUÑA</td>\n",
       "      <td>MARIA SOLEDAD</td>\n",
       "      <td>Ministerio de Educación e Innovación</td>\n",
       "      <td>263531.98</td>\n",
       "      <td>0.0</td>\n",
       "      <td>263531.98</td>\n",
       "      <td>NaN</td>\n",
       "    </tr>\n",
       "    <tr>\n",
       "      <th>191</th>\n",
       "      <td>20-13872301-2</td>\n",
       "      <td>2019</td>\n",
       "      <td>7</td>\n",
       "      <td>ASTARLOA</td>\n",
       "      <td>GABRIEL MARIA</td>\n",
       "      <td>Procuración General de la Ciudad de Buenos Aires</td>\n",
       "      <td>263531.98</td>\n",
       "      <td>0.0</td>\n",
       "      <td>263531.98</td>\n",
       "      <td>NaN</td>\n",
       "    </tr>\n",
       "    <tr>\n",
       "      <th>192</th>\n",
       "      <td>20-25641207-2</td>\n",
       "      <td>2019</td>\n",
       "      <td>7</td>\n",
       "      <td>AVOGADRO</td>\n",
       "      <td>ENRIQUE LUIS</td>\n",
       "      <td>Ministerio de Cultura</td>\n",
       "      <td>263531.98</td>\n",
       "      <td>0.0</td>\n",
       "      <td>263531.98</td>\n",
       "      <td>NaN</td>\n",
       "    </tr>\n",
       "  </tbody>\n",
       "</table>\n",
       "</div>"
      ],
      "text/plain": [
       "              cuil  anio  mes funcionario_apellido funcionario_nombre  \\\n",
       "188  20-17692128-6  2019    7    RODRIGUEZ LARRETA    HORACIO ANTONIO   \n",
       "189  20-17735449-0  2019    7             SANTILLI        DIEGO CESAR   \n",
       "190  27-24483014-0  2019    7                ACUÑA      MARIA SOLEDAD   \n",
       "191  20-13872301-2  2019    7             ASTARLOA      GABRIEL MARIA   \n",
       "192  20-25641207-2  2019    7             AVOGADRO       ENRIQUE LUIS   \n",
       "\n",
       "                                          reparticion  asignacion_por_cargo_i  \\\n",
       "188                                  Jefe de Gobierno               228396.40   \n",
       "189                          Vicejefatura de Gobierno               228396.40   \n",
       "190              Ministerio de Educación e Innovación               263531.98   \n",
       "191  Procuración General de la Ciudad de Buenos Aires               263531.98   \n",
       "192                             Ministerio de Cultura               263531.98   \n",
       "\n",
       "     aguinaldo_ii  total_salario_bruto_i_+_ii observaciones  \n",
       "188           0.0                   228396.40           NaN  \n",
       "189           0.0                   228396.40           NaN  \n",
       "190           0.0                   263531.98           NaN  \n",
       "191           0.0                   263531.98           NaN  \n",
       "192           0.0                   263531.98           NaN  "
      ]
     },
     "execution_count": 26,
     "metadata": {},
     "output_type": "execute_result"
    }
   ],
   "source": [
    "# df_segunda_mitad = df[df[\"mes\"] > 6]\n",
    "df_segunda_mitad2 = df.query('mes > 6')\n",
    "df_segunda_mitad2.head()"
   ]
  },
  {
   "cell_type": "code",
   "execution_count": 27,
   "id": "0a89962a",
   "metadata": {
    "scrolled": true
   },
   "outputs": [
    {
     "data": {
      "text/html": [
       "<div>\n",
       "<style scoped>\n",
       "    .dataframe tbody tr th:only-of-type {\n",
       "        vertical-align: middle;\n",
       "    }\n",
       "\n",
       "    .dataframe tbody tr th {\n",
       "        vertical-align: top;\n",
       "    }\n",
       "\n",
       "    .dataframe thead th {\n",
       "        text-align: right;\n",
       "    }\n",
       "</style>\n",
       "<table border=\"1\" class=\"dataframe\">\n",
       "  <thead>\n",
       "    <tr style=\"text-align: right;\">\n",
       "      <th></th>\n",
       "      <th>cuil</th>\n",
       "      <th>anio</th>\n",
       "      <th>mes</th>\n",
       "      <th>funcionario_apellido</th>\n",
       "      <th>funcionario_nombre</th>\n",
       "      <th>reparticion</th>\n",
       "      <th>asignacion_por_cargo_i</th>\n",
       "      <th>aguinaldo_ii</th>\n",
       "      <th>total_salario_bruto_i_+_ii</th>\n",
       "      <th>observaciones</th>\n",
       "    </tr>\n",
       "  </thead>\n",
       "  <tbody>\n",
       "    <tr>\n",
       "      <th>55</th>\n",
       "      <td>20-26781618-3</td>\n",
       "      <td>2019</td>\n",
       "      <td>2</td>\n",
       "      <td>LARRE</td>\n",
       "      <td>PEDRO ANDRES</td>\n",
       "      <td>SECR Ciencia, Tecnologia e Innovacion</td>\n",
       "      <td>204017.27</td>\n",
       "      <td>34002.88</td>\n",
       "      <td>238020.15</td>\n",
       "      <td>baja 28/2/2019</td>\n",
       "    </tr>\n",
       "  </tbody>\n",
       "</table>\n",
       "</div>"
      ],
      "text/plain": [
       "             cuil  anio  mes funcionario_apellido funcionario_nombre  \\\n",
       "55  20-26781618-3  2019    2                LARRE       PEDRO ANDRES   \n",
       "\n",
       "                              reparticion  asignacion_por_cargo_i  \\\n",
       "55  SECR Ciencia, Tecnologia e Innovacion               204017.27   \n",
       "\n",
       "    aguinaldo_ii  total_salario_bruto_i_+_ii   observaciones  \n",
       "55      34002.88                   238020.15  baja 28/2/2019  "
      ]
     },
     "execution_count": 27,
     "metadata": {},
     "output_type": "execute_result"
    }
   ],
   "source": [
    "df_mes_rep = df.query('mes == 2 & reparticion == \"SECR Ciencia, Tecnologia e Innovacion\"')\n",
    "df_mes_rep.head()"
   ]
  },
  {
   "cell_type": "markdown",
   "id": "d827bf29",
   "metadata": {},
   "source": [
    "## Fancy Indexing"
   ]
  },
  {
   "cell_type": "code",
   "execution_count": 28,
   "id": "b2ffb8a9",
   "metadata": {},
   "outputs": [],
   "source": [
    "df_view = df[[\"anio\", \"mes\"]] # como un loc con nombre de columnas"
   ]
  },
  {
   "cell_type": "code",
   "execution_count": 29,
   "id": "a0055313",
   "metadata": {},
   "outputs": [
    {
     "data": {
      "text/plain": [
       "(385, 2)"
      ]
     },
     "execution_count": 29,
     "metadata": {},
     "output_type": "execute_result"
    }
   ],
   "source": [
    "df_view.shape"
   ]
  },
  {
   "cell_type": "code",
   "execution_count": 30,
   "id": "5dbf473d",
   "metadata": {},
   "outputs": [],
   "source": [
    "df_view = df.loc[[3, 8],:] # tomo filas 3 y 8"
   ]
  },
  {
   "cell_type": "code",
   "execution_count": 32,
   "id": "23be5f22",
   "metadata": {
    "scrolled": true
   },
   "outputs": [
    {
     "data": {
      "text/html": [
       "<div>\n",
       "<style scoped>\n",
       "    .dataframe tbody tr th:only-of-type {\n",
       "        vertical-align: middle;\n",
       "    }\n",
       "\n",
       "    .dataframe tbody tr th {\n",
       "        vertical-align: top;\n",
       "    }\n",
       "\n",
       "    .dataframe thead th {\n",
       "        text-align: right;\n",
       "    }\n",
       "</style>\n",
       "<table border=\"1\" class=\"dataframe\">\n",
       "  <thead>\n",
       "    <tr style=\"text-align: right;\">\n",
       "      <th></th>\n",
       "      <th>cuil</th>\n",
       "      <th>anio</th>\n",
       "      <th>mes</th>\n",
       "      <th>funcionario_apellido</th>\n",
       "      <th>funcionario_nombre</th>\n",
       "      <th>reparticion</th>\n",
       "      <th>asignacion_por_cargo_i</th>\n",
       "      <th>aguinaldo_ii</th>\n",
       "      <th>total_salario_bruto_i_+_ii</th>\n",
       "      <th>observaciones</th>\n",
       "    </tr>\n",
       "  </thead>\n",
       "  <tbody>\n",
       "    <tr>\n",
       "      <th>3</th>\n",
       "      <td>20-13872301-2</td>\n",
       "      <td>2019</td>\n",
       "      <td>1</td>\n",
       "      <td>ASTARLOA</td>\n",
       "      <td>GABRIEL MARIA</td>\n",
       "      <td>Procuración General de la Ciudad de Buenos Aires</td>\n",
       "      <td>224516.62</td>\n",
       "      <td>0.0</td>\n",
       "      <td>224516.62</td>\n",
       "      <td>NaN</td>\n",
       "    </tr>\n",
       "    <tr>\n",
       "      <th>8</th>\n",
       "      <td>20-22293873-3</td>\n",
       "      <td>2019</td>\n",
       "      <td>1</td>\n",
       "      <td>MIGUEL</td>\n",
       "      <td>FELIPE OSCAR</td>\n",
       "      <td>Jefatura de Gabinete de Ministros</td>\n",
       "      <td>224516.62</td>\n",
       "      <td>0.0</td>\n",
       "      <td>224516.62</td>\n",
       "      <td>NaN</td>\n",
       "    </tr>\n",
       "  </tbody>\n",
       "</table>\n",
       "</div>"
      ],
      "text/plain": [
       "            cuil  anio  mes funcionario_apellido funcionario_nombre  \\\n",
       "3  20-13872301-2  2019    1             ASTARLOA      GABRIEL MARIA   \n",
       "8  20-22293873-3  2019    1               MIGUEL       FELIPE OSCAR   \n",
       "\n",
       "                                        reparticion  asignacion_por_cargo_i  \\\n",
       "3  Procuración General de la Ciudad de Buenos Aires               224516.62   \n",
       "8                 Jefatura de Gabinete de Ministros               224516.62   \n",
       "\n",
       "   aguinaldo_ii  total_salario_bruto_i_+_ii observaciones  \n",
       "3           0.0                   224516.62           NaN  \n",
       "8           0.0                   224516.62           NaN  "
      ]
     },
     "execution_count": 32,
     "metadata": {},
     "output_type": "execute_result"
    }
   ],
   "source": [
    "df_view"
   ]
  },
  {
   "cell_type": "markdown",
   "id": "b44a47c4",
   "metadata": {},
   "source": [
    "## Ejercicios"
   ]
  },
  {
   "cell_type": "markdown",
   "id": "079fe75a",
   "metadata": {},
   "source": [
    "1) ¿Cuántos hombres y mujeres sobrevivieron?\n",
    "\n",
    "2) ¿Cuántos menores de 18 años había? ¿Cuántos sobrevivieron?\n",
    "\n",
    "3) Seleccionen únicamente las columnas Sex y Survived y almacenenlas en un nuevo DataFrame que se llame df_titanic_subset."
   ]
  },
  {
   "cell_type": "code",
   "execution_count": 37,
   "id": "714d55c2",
   "metadata": {
    "scrolled": true
   },
   "outputs": [
    {
     "data": {
      "text/html": [
       "<div>\n",
       "<style scoped>\n",
       "    .dataframe tbody tr th:only-of-type {\n",
       "        vertical-align: middle;\n",
       "    }\n",
       "\n",
       "    .dataframe tbody tr th {\n",
       "        vertical-align: top;\n",
       "    }\n",
       "\n",
       "    .dataframe thead th {\n",
       "        text-align: right;\n",
       "    }\n",
       "</style>\n",
       "<table border=\"1\" class=\"dataframe\">\n",
       "  <thead>\n",
       "    <tr style=\"text-align: right;\">\n",
       "      <th></th>\n",
       "      <th>PassengerId</th>\n",
       "      <th>Survived</th>\n",
       "      <th>Pclass</th>\n",
       "      <th>Name</th>\n",
       "      <th>Sex</th>\n",
       "      <th>Age</th>\n",
       "      <th>SibSp</th>\n",
       "      <th>Parch</th>\n",
       "      <th>Ticket</th>\n",
       "      <th>Fare</th>\n",
       "      <th>Cabin</th>\n",
       "      <th>Embarked</th>\n",
       "    </tr>\n",
       "  </thead>\n",
       "  <tbody>\n",
       "    <tr>\n",
       "      <th>1</th>\n",
       "      <td>2</td>\n",
       "      <td>1</td>\n",
       "      <td>1</td>\n",
       "      <td>Cumings, Mrs. John Bradley (Florence Briggs Th...</td>\n",
       "      <td>female</td>\n",
       "      <td>38.0</td>\n",
       "      <td>1</td>\n",
       "      <td>0</td>\n",
       "      <td>PC 17599</td>\n",
       "      <td>71.2833</td>\n",
       "      <td>C85</td>\n",
       "      <td>C</td>\n",
       "    </tr>\n",
       "    <tr>\n",
       "      <th>2</th>\n",
       "      <td>3</td>\n",
       "      <td>1</td>\n",
       "      <td>3</td>\n",
       "      <td>Heikkinen, Miss. Laina</td>\n",
       "      <td>female</td>\n",
       "      <td>26.0</td>\n",
       "      <td>0</td>\n",
       "      <td>0</td>\n",
       "      <td>STON/O2. 3101282</td>\n",
       "      <td>7.9250</td>\n",
       "      <td>NaN</td>\n",
       "      <td>S</td>\n",
       "    </tr>\n",
       "    <tr>\n",
       "      <th>3</th>\n",
       "      <td>4</td>\n",
       "      <td>1</td>\n",
       "      <td>1</td>\n",
       "      <td>Futrelle, Mrs. Jacques Heath (Lily May Peel)</td>\n",
       "      <td>female</td>\n",
       "      <td>35.0</td>\n",
       "      <td>1</td>\n",
       "      <td>0</td>\n",
       "      <td>113803</td>\n",
       "      <td>53.1000</td>\n",
       "      <td>C123</td>\n",
       "      <td>S</td>\n",
       "    </tr>\n",
       "    <tr>\n",
       "      <th>8</th>\n",
       "      <td>9</td>\n",
       "      <td>1</td>\n",
       "      <td>3</td>\n",
       "      <td>Johnson, Mrs. Oscar W (Elisabeth Vilhelmina Berg)</td>\n",
       "      <td>female</td>\n",
       "      <td>27.0</td>\n",
       "      <td>0</td>\n",
       "      <td>2</td>\n",
       "      <td>347742</td>\n",
       "      <td>11.1333</td>\n",
       "      <td>NaN</td>\n",
       "      <td>S</td>\n",
       "    </tr>\n",
       "    <tr>\n",
       "      <th>9</th>\n",
       "      <td>10</td>\n",
       "      <td>1</td>\n",
       "      <td>2</td>\n",
       "      <td>Nasser, Mrs. Nicholas (Adele Achem)</td>\n",
       "      <td>female</td>\n",
       "      <td>14.0</td>\n",
       "      <td>1</td>\n",
       "      <td>0</td>\n",
       "      <td>237736</td>\n",
       "      <td>30.0708</td>\n",
       "      <td>NaN</td>\n",
       "      <td>C</td>\n",
       "    </tr>\n",
       "    <tr>\n",
       "      <th>...</th>\n",
       "      <td>...</td>\n",
       "      <td>...</td>\n",
       "      <td>...</td>\n",
       "      <td>...</td>\n",
       "      <td>...</td>\n",
       "      <td>...</td>\n",
       "      <td>...</td>\n",
       "      <td>...</td>\n",
       "      <td>...</td>\n",
       "      <td>...</td>\n",
       "      <td>...</td>\n",
       "      <td>...</td>\n",
       "    </tr>\n",
       "    <tr>\n",
       "      <th>874</th>\n",
       "      <td>875</td>\n",
       "      <td>1</td>\n",
       "      <td>2</td>\n",
       "      <td>Abelson, Mrs. Samuel (Hannah Wizosky)</td>\n",
       "      <td>female</td>\n",
       "      <td>28.0</td>\n",
       "      <td>1</td>\n",
       "      <td>0</td>\n",
       "      <td>P/PP 3381</td>\n",
       "      <td>24.0000</td>\n",
       "      <td>NaN</td>\n",
       "      <td>C</td>\n",
       "    </tr>\n",
       "    <tr>\n",
       "      <th>875</th>\n",
       "      <td>876</td>\n",
       "      <td>1</td>\n",
       "      <td>3</td>\n",
       "      <td>Najib, Miss. Adele Kiamie \"Jane\"</td>\n",
       "      <td>female</td>\n",
       "      <td>15.0</td>\n",
       "      <td>0</td>\n",
       "      <td>0</td>\n",
       "      <td>2667</td>\n",
       "      <td>7.2250</td>\n",
       "      <td>NaN</td>\n",
       "      <td>C</td>\n",
       "    </tr>\n",
       "    <tr>\n",
       "      <th>879</th>\n",
       "      <td>880</td>\n",
       "      <td>1</td>\n",
       "      <td>1</td>\n",
       "      <td>Potter, Mrs. Thomas Jr (Lily Alexenia Wilson)</td>\n",
       "      <td>female</td>\n",
       "      <td>56.0</td>\n",
       "      <td>0</td>\n",
       "      <td>1</td>\n",
       "      <td>11767</td>\n",
       "      <td>83.1583</td>\n",
       "      <td>C50</td>\n",
       "      <td>C</td>\n",
       "    </tr>\n",
       "    <tr>\n",
       "      <th>880</th>\n",
       "      <td>881</td>\n",
       "      <td>1</td>\n",
       "      <td>2</td>\n",
       "      <td>Shelley, Mrs. William (Imanita Parrish Hall)</td>\n",
       "      <td>female</td>\n",
       "      <td>25.0</td>\n",
       "      <td>0</td>\n",
       "      <td>1</td>\n",
       "      <td>230433</td>\n",
       "      <td>26.0000</td>\n",
       "      <td>NaN</td>\n",
       "      <td>S</td>\n",
       "    </tr>\n",
       "    <tr>\n",
       "      <th>887</th>\n",
       "      <td>888</td>\n",
       "      <td>1</td>\n",
       "      <td>1</td>\n",
       "      <td>Graham, Miss. Margaret Edith</td>\n",
       "      <td>female</td>\n",
       "      <td>19.0</td>\n",
       "      <td>0</td>\n",
       "      <td>0</td>\n",
       "      <td>112053</td>\n",
       "      <td>30.0000</td>\n",
       "      <td>B42</td>\n",
       "      <td>S</td>\n",
       "    </tr>\n",
       "  </tbody>\n",
       "</table>\n",
       "<p>233 rows × 12 columns</p>\n",
       "</div>"
      ],
      "text/plain": [
       "     PassengerId  Survived  Pclass  \\\n",
       "1              2         1       1   \n",
       "2              3         1       3   \n",
       "3              4         1       1   \n",
       "8              9         1       3   \n",
       "9             10         1       2   \n",
       "..           ...       ...     ...   \n",
       "874          875         1       2   \n",
       "875          876         1       3   \n",
       "879          880         1       1   \n",
       "880          881         1       2   \n",
       "887          888         1       1   \n",
       "\n",
       "                                                  Name     Sex   Age  SibSp  \\\n",
       "1    Cumings, Mrs. John Bradley (Florence Briggs Th...  female  38.0      1   \n",
       "2                               Heikkinen, Miss. Laina  female  26.0      0   \n",
       "3         Futrelle, Mrs. Jacques Heath (Lily May Peel)  female  35.0      1   \n",
       "8    Johnson, Mrs. Oscar W (Elisabeth Vilhelmina Berg)  female  27.0      0   \n",
       "9                  Nasser, Mrs. Nicholas (Adele Achem)  female  14.0      1   \n",
       "..                                                 ...     ...   ...    ...   \n",
       "874              Abelson, Mrs. Samuel (Hannah Wizosky)  female  28.0      1   \n",
       "875                   Najib, Miss. Adele Kiamie \"Jane\"  female  15.0      0   \n",
       "879      Potter, Mrs. Thomas Jr (Lily Alexenia Wilson)  female  56.0      0   \n",
       "880       Shelley, Mrs. William (Imanita Parrish Hall)  female  25.0      0   \n",
       "887                       Graham, Miss. Margaret Edith  female  19.0      0   \n",
       "\n",
       "     Parch            Ticket     Fare Cabin Embarked  \n",
       "1        0          PC 17599  71.2833   C85        C  \n",
       "2        0  STON/O2. 3101282   7.9250   NaN        S  \n",
       "3        0            113803  53.1000  C123        S  \n",
       "8        2            347742  11.1333   NaN        S  \n",
       "9        0            237736  30.0708   NaN        C  \n",
       "..     ...               ...      ...   ...      ...  \n",
       "874      0         P/PP 3381  24.0000   NaN        C  \n",
       "875      0              2667   7.2250   NaN        C  \n",
       "879      1             11767  83.1583   C50        C  \n",
       "880      1            230433  26.0000   NaN        S  \n",
       "887      0            112053  30.0000   B42        S  \n",
       "\n",
       "[233 rows x 12 columns]"
      ]
     },
     "execution_count": 37,
     "metadata": {},
     "output_type": "execute_result"
    }
   ],
   "source": [
    "df_titanic.query('Survived == 1 & Sex == \"female\"')"
   ]
  },
  {
   "cell_type": "code",
   "execution_count": 38,
   "id": "6e7ce9eb",
   "metadata": {
    "scrolled": true
   },
   "outputs": [
    {
     "data": {
      "text/html": [
       "<div>\n",
       "<style scoped>\n",
       "    .dataframe tbody tr th:only-of-type {\n",
       "        vertical-align: middle;\n",
       "    }\n",
       "\n",
       "    .dataframe tbody tr th {\n",
       "        vertical-align: top;\n",
       "    }\n",
       "\n",
       "    .dataframe thead th {\n",
       "        text-align: right;\n",
       "    }\n",
       "</style>\n",
       "<table border=\"1\" class=\"dataframe\">\n",
       "  <thead>\n",
       "    <tr style=\"text-align: right;\">\n",
       "      <th></th>\n",
       "      <th>PassengerId</th>\n",
       "      <th>Survived</th>\n",
       "      <th>Pclass</th>\n",
       "      <th>Name</th>\n",
       "      <th>Sex</th>\n",
       "      <th>Age</th>\n",
       "      <th>SibSp</th>\n",
       "      <th>Parch</th>\n",
       "      <th>Ticket</th>\n",
       "      <th>Fare</th>\n",
       "      <th>Cabin</th>\n",
       "      <th>Embarked</th>\n",
       "    </tr>\n",
       "  </thead>\n",
       "  <tbody>\n",
       "    <tr>\n",
       "      <th>17</th>\n",
       "      <td>18</td>\n",
       "      <td>1</td>\n",
       "      <td>2</td>\n",
       "      <td>Williams, Mr. Charles Eugene</td>\n",
       "      <td>male</td>\n",
       "      <td>NaN</td>\n",
       "      <td>0</td>\n",
       "      <td>0</td>\n",
       "      <td>244373</td>\n",
       "      <td>13.0000</td>\n",
       "      <td>NaN</td>\n",
       "      <td>S</td>\n",
       "    </tr>\n",
       "    <tr>\n",
       "      <th>21</th>\n",
       "      <td>22</td>\n",
       "      <td>1</td>\n",
       "      <td>2</td>\n",
       "      <td>Beesley, Mr. Lawrence</td>\n",
       "      <td>male</td>\n",
       "      <td>34.0</td>\n",
       "      <td>0</td>\n",
       "      <td>0</td>\n",
       "      <td>248698</td>\n",
       "      <td>13.0000</td>\n",
       "      <td>D56</td>\n",
       "      <td>S</td>\n",
       "    </tr>\n",
       "    <tr>\n",
       "      <th>23</th>\n",
       "      <td>24</td>\n",
       "      <td>1</td>\n",
       "      <td>1</td>\n",
       "      <td>Sloper, Mr. William Thompson</td>\n",
       "      <td>male</td>\n",
       "      <td>28.0</td>\n",
       "      <td>0</td>\n",
       "      <td>0</td>\n",
       "      <td>113788</td>\n",
       "      <td>35.5000</td>\n",
       "      <td>A6</td>\n",
       "      <td>S</td>\n",
       "    </tr>\n",
       "    <tr>\n",
       "      <th>36</th>\n",
       "      <td>37</td>\n",
       "      <td>1</td>\n",
       "      <td>3</td>\n",
       "      <td>Mamee, Mr. Hanna</td>\n",
       "      <td>male</td>\n",
       "      <td>NaN</td>\n",
       "      <td>0</td>\n",
       "      <td>0</td>\n",
       "      <td>2677</td>\n",
       "      <td>7.2292</td>\n",
       "      <td>NaN</td>\n",
       "      <td>C</td>\n",
       "    </tr>\n",
       "    <tr>\n",
       "      <th>55</th>\n",
       "      <td>56</td>\n",
       "      <td>1</td>\n",
       "      <td>1</td>\n",
       "      <td>Woolner, Mr. Hugh</td>\n",
       "      <td>male</td>\n",
       "      <td>NaN</td>\n",
       "      <td>0</td>\n",
       "      <td>0</td>\n",
       "      <td>19947</td>\n",
       "      <td>35.5000</td>\n",
       "      <td>C52</td>\n",
       "      <td>S</td>\n",
       "    </tr>\n",
       "    <tr>\n",
       "      <th>...</th>\n",
       "      <td>...</td>\n",
       "      <td>...</td>\n",
       "      <td>...</td>\n",
       "      <td>...</td>\n",
       "      <td>...</td>\n",
       "      <td>...</td>\n",
       "      <td>...</td>\n",
       "      <td>...</td>\n",
       "      <td>...</td>\n",
       "      <td>...</td>\n",
       "      <td>...</td>\n",
       "      <td>...</td>\n",
       "    </tr>\n",
       "    <tr>\n",
       "      <th>838</th>\n",
       "      <td>839</td>\n",
       "      <td>1</td>\n",
       "      <td>3</td>\n",
       "      <td>Chip, Mr. Chang</td>\n",
       "      <td>male</td>\n",
       "      <td>32.0</td>\n",
       "      <td>0</td>\n",
       "      <td>0</td>\n",
       "      <td>1601</td>\n",
       "      <td>56.4958</td>\n",
       "      <td>NaN</td>\n",
       "      <td>S</td>\n",
       "    </tr>\n",
       "    <tr>\n",
       "      <th>839</th>\n",
       "      <td>840</td>\n",
       "      <td>1</td>\n",
       "      <td>1</td>\n",
       "      <td>Marechal, Mr. Pierre</td>\n",
       "      <td>male</td>\n",
       "      <td>NaN</td>\n",
       "      <td>0</td>\n",
       "      <td>0</td>\n",
       "      <td>11774</td>\n",
       "      <td>29.7000</td>\n",
       "      <td>C47</td>\n",
       "      <td>C</td>\n",
       "    </tr>\n",
       "    <tr>\n",
       "      <th>857</th>\n",
       "      <td>858</td>\n",
       "      <td>1</td>\n",
       "      <td>1</td>\n",
       "      <td>Daly, Mr. Peter Denis</td>\n",
       "      <td>male</td>\n",
       "      <td>51.0</td>\n",
       "      <td>0</td>\n",
       "      <td>0</td>\n",
       "      <td>113055</td>\n",
       "      <td>26.5500</td>\n",
       "      <td>E17</td>\n",
       "      <td>S</td>\n",
       "    </tr>\n",
       "    <tr>\n",
       "      <th>869</th>\n",
       "      <td>870</td>\n",
       "      <td>1</td>\n",
       "      <td>3</td>\n",
       "      <td>Johnson, Master. Harold Theodor</td>\n",
       "      <td>male</td>\n",
       "      <td>4.0</td>\n",
       "      <td>1</td>\n",
       "      <td>1</td>\n",
       "      <td>347742</td>\n",
       "      <td>11.1333</td>\n",
       "      <td>NaN</td>\n",
       "      <td>S</td>\n",
       "    </tr>\n",
       "    <tr>\n",
       "      <th>889</th>\n",
       "      <td>890</td>\n",
       "      <td>1</td>\n",
       "      <td>1</td>\n",
       "      <td>Behr, Mr. Karl Howell</td>\n",
       "      <td>male</td>\n",
       "      <td>26.0</td>\n",
       "      <td>0</td>\n",
       "      <td>0</td>\n",
       "      <td>111369</td>\n",
       "      <td>30.0000</td>\n",
       "      <td>C148</td>\n",
       "      <td>C</td>\n",
       "    </tr>\n",
       "  </tbody>\n",
       "</table>\n",
       "<p>109 rows × 12 columns</p>\n",
       "</div>"
      ],
      "text/plain": [
       "     PassengerId  Survived  Pclass                             Name   Sex  \\\n",
       "17            18         1       2     Williams, Mr. Charles Eugene  male   \n",
       "21            22         1       2            Beesley, Mr. Lawrence  male   \n",
       "23            24         1       1     Sloper, Mr. William Thompson  male   \n",
       "36            37         1       3                 Mamee, Mr. Hanna  male   \n",
       "55            56         1       1                Woolner, Mr. Hugh  male   \n",
       "..           ...       ...     ...                              ...   ...   \n",
       "838          839         1       3                  Chip, Mr. Chang  male   \n",
       "839          840         1       1             Marechal, Mr. Pierre  male   \n",
       "857          858         1       1           Daly, Mr. Peter Denis   male   \n",
       "869          870         1       3  Johnson, Master. Harold Theodor  male   \n",
       "889          890         1       1            Behr, Mr. Karl Howell  male   \n",
       "\n",
       "      Age  SibSp  Parch  Ticket     Fare Cabin Embarked  \n",
       "17    NaN      0      0  244373  13.0000   NaN        S  \n",
       "21   34.0      0      0  248698  13.0000   D56        S  \n",
       "23   28.0      0      0  113788  35.5000    A6        S  \n",
       "36    NaN      0      0    2677   7.2292   NaN        C  \n",
       "55    NaN      0      0   19947  35.5000   C52        S  \n",
       "..    ...    ...    ...     ...      ...   ...      ...  \n",
       "838  32.0      0      0    1601  56.4958   NaN        S  \n",
       "839   NaN      0      0   11774  29.7000   C47        C  \n",
       "857  51.0      0      0  113055  26.5500   E17        S  \n",
       "869   4.0      1      1  347742  11.1333   NaN        S  \n",
       "889  26.0      0      0  111369  30.0000  C148        C  \n",
       "\n",
       "[109 rows x 12 columns]"
      ]
     },
     "execution_count": 38,
     "metadata": {},
     "output_type": "execute_result"
    }
   ],
   "source": [
    "df_titanic.query('Survived == 1 & Sex == \"male\"')"
   ]
  },
  {
   "cell_type": "code",
   "execution_count": 40,
   "id": "12d4c007",
   "metadata": {
    "scrolled": true
   },
   "outputs": [
    {
     "data": {
      "text/html": [
       "<div>\n",
       "<style scoped>\n",
       "    .dataframe tbody tr th:only-of-type {\n",
       "        vertical-align: middle;\n",
       "    }\n",
       "\n",
       "    .dataframe tbody tr th {\n",
       "        vertical-align: top;\n",
       "    }\n",
       "\n",
       "    .dataframe thead th {\n",
       "        text-align: right;\n",
       "    }\n",
       "</style>\n",
       "<table border=\"1\" class=\"dataframe\">\n",
       "  <thead>\n",
       "    <tr style=\"text-align: right;\">\n",
       "      <th></th>\n",
       "      <th>PassengerId</th>\n",
       "      <th>Survived</th>\n",
       "      <th>Pclass</th>\n",
       "      <th>Name</th>\n",
       "      <th>Sex</th>\n",
       "      <th>Age</th>\n",
       "      <th>SibSp</th>\n",
       "      <th>Parch</th>\n",
       "      <th>Ticket</th>\n",
       "      <th>Fare</th>\n",
       "      <th>Cabin</th>\n",
       "      <th>Embarked</th>\n",
       "    </tr>\n",
       "  </thead>\n",
       "  <tbody>\n",
       "    <tr>\n",
       "      <th>9</th>\n",
       "      <td>10</td>\n",
       "      <td>1</td>\n",
       "      <td>2</td>\n",
       "      <td>Nasser, Mrs. Nicholas (Adele Achem)</td>\n",
       "      <td>female</td>\n",
       "      <td>14.00</td>\n",
       "      <td>1</td>\n",
       "      <td>0</td>\n",
       "      <td>237736</td>\n",
       "      <td>30.0708</td>\n",
       "      <td>NaN</td>\n",
       "      <td>C</td>\n",
       "    </tr>\n",
       "    <tr>\n",
       "      <th>10</th>\n",
       "      <td>11</td>\n",
       "      <td>1</td>\n",
       "      <td>3</td>\n",
       "      <td>Sandstrom, Miss. Marguerite Rut</td>\n",
       "      <td>female</td>\n",
       "      <td>4.00</td>\n",
       "      <td>1</td>\n",
       "      <td>1</td>\n",
       "      <td>PP 9549</td>\n",
       "      <td>16.7000</td>\n",
       "      <td>G6</td>\n",
       "      <td>S</td>\n",
       "    </tr>\n",
       "    <tr>\n",
       "      <th>22</th>\n",
       "      <td>23</td>\n",
       "      <td>1</td>\n",
       "      <td>3</td>\n",
       "      <td>McGowan, Miss. Anna \"Annie\"</td>\n",
       "      <td>female</td>\n",
       "      <td>15.00</td>\n",
       "      <td>0</td>\n",
       "      <td>0</td>\n",
       "      <td>330923</td>\n",
       "      <td>8.0292</td>\n",
       "      <td>NaN</td>\n",
       "      <td>Q</td>\n",
       "    </tr>\n",
       "    <tr>\n",
       "      <th>39</th>\n",
       "      <td>40</td>\n",
       "      <td>1</td>\n",
       "      <td>3</td>\n",
       "      <td>Nicola-Yarred, Miss. Jamila</td>\n",
       "      <td>female</td>\n",
       "      <td>14.00</td>\n",
       "      <td>1</td>\n",
       "      <td>0</td>\n",
       "      <td>2651</td>\n",
       "      <td>11.2417</td>\n",
       "      <td>NaN</td>\n",
       "      <td>C</td>\n",
       "    </tr>\n",
       "    <tr>\n",
       "      <th>43</th>\n",
       "      <td>44</td>\n",
       "      <td>1</td>\n",
       "      <td>2</td>\n",
       "      <td>Laroche, Miss. Simonne Marie Anne Andree</td>\n",
       "      <td>female</td>\n",
       "      <td>3.00</td>\n",
       "      <td>1</td>\n",
       "      <td>2</td>\n",
       "      <td>SC/Paris 2123</td>\n",
       "      <td>41.5792</td>\n",
       "      <td>NaN</td>\n",
       "      <td>C</td>\n",
       "    </tr>\n",
       "    <tr>\n",
       "      <th>...</th>\n",
       "      <td>...</td>\n",
       "      <td>...</td>\n",
       "      <td>...</td>\n",
       "      <td>...</td>\n",
       "      <td>...</td>\n",
       "      <td>...</td>\n",
       "      <td>...</td>\n",
       "      <td>...</td>\n",
       "      <td>...</td>\n",
       "      <td>...</td>\n",
       "      <td>...</td>\n",
       "      <td>...</td>\n",
       "    </tr>\n",
       "    <tr>\n",
       "      <th>830</th>\n",
       "      <td>831</td>\n",
       "      <td>1</td>\n",
       "      <td>3</td>\n",
       "      <td>Yasbeck, Mrs. Antoni (Selini Alexander)</td>\n",
       "      <td>female</td>\n",
       "      <td>15.00</td>\n",
       "      <td>1</td>\n",
       "      <td>0</td>\n",
       "      <td>2659</td>\n",
       "      <td>14.4542</td>\n",
       "      <td>NaN</td>\n",
       "      <td>C</td>\n",
       "    </tr>\n",
       "    <tr>\n",
       "      <th>831</th>\n",
       "      <td>832</td>\n",
       "      <td>1</td>\n",
       "      <td>2</td>\n",
       "      <td>Richards, Master. George Sibley</td>\n",
       "      <td>male</td>\n",
       "      <td>0.83</td>\n",
       "      <td>1</td>\n",
       "      <td>1</td>\n",
       "      <td>29106</td>\n",
       "      <td>18.7500</td>\n",
       "      <td>NaN</td>\n",
       "      <td>S</td>\n",
       "    </tr>\n",
       "    <tr>\n",
       "      <th>853</th>\n",
       "      <td>854</td>\n",
       "      <td>1</td>\n",
       "      <td>1</td>\n",
       "      <td>Lines, Miss. Mary Conover</td>\n",
       "      <td>female</td>\n",
       "      <td>16.00</td>\n",
       "      <td>0</td>\n",
       "      <td>1</td>\n",
       "      <td>PC 17592</td>\n",
       "      <td>39.4000</td>\n",
       "      <td>D28</td>\n",
       "      <td>S</td>\n",
       "    </tr>\n",
       "    <tr>\n",
       "      <th>869</th>\n",
       "      <td>870</td>\n",
       "      <td>1</td>\n",
       "      <td>3</td>\n",
       "      <td>Johnson, Master. Harold Theodor</td>\n",
       "      <td>male</td>\n",
       "      <td>4.00</td>\n",
       "      <td>1</td>\n",
       "      <td>1</td>\n",
       "      <td>347742</td>\n",
       "      <td>11.1333</td>\n",
       "      <td>NaN</td>\n",
       "      <td>S</td>\n",
       "    </tr>\n",
       "    <tr>\n",
       "      <th>875</th>\n",
       "      <td>876</td>\n",
       "      <td>1</td>\n",
       "      <td>3</td>\n",
       "      <td>Najib, Miss. Adele Kiamie \"Jane\"</td>\n",
       "      <td>female</td>\n",
       "      <td>15.00</td>\n",
       "      <td>0</td>\n",
       "      <td>0</td>\n",
       "      <td>2667</td>\n",
       "      <td>7.2250</td>\n",
       "      <td>NaN</td>\n",
       "      <td>C</td>\n",
       "    </tr>\n",
       "  </tbody>\n",
       "</table>\n",
       "<p>61 rows × 12 columns</p>\n",
       "</div>"
      ],
      "text/plain": [
       "     PassengerId  Survived  Pclass                                      Name  \\\n",
       "9             10         1       2       Nasser, Mrs. Nicholas (Adele Achem)   \n",
       "10            11         1       3           Sandstrom, Miss. Marguerite Rut   \n",
       "22            23         1       3               McGowan, Miss. Anna \"Annie\"   \n",
       "39            40         1       3               Nicola-Yarred, Miss. Jamila   \n",
       "43            44         1       2  Laroche, Miss. Simonne Marie Anne Andree   \n",
       "..           ...       ...     ...                                       ...   \n",
       "830          831         1       3   Yasbeck, Mrs. Antoni (Selini Alexander)   \n",
       "831          832         1       2           Richards, Master. George Sibley   \n",
       "853          854         1       1                 Lines, Miss. Mary Conover   \n",
       "869          870         1       3           Johnson, Master. Harold Theodor   \n",
       "875          876         1       3          Najib, Miss. Adele Kiamie \"Jane\"   \n",
       "\n",
       "        Sex    Age  SibSp  Parch         Ticket     Fare Cabin Embarked  \n",
       "9    female  14.00      1      0         237736  30.0708   NaN        C  \n",
       "10   female   4.00      1      1        PP 9549  16.7000    G6        S  \n",
       "22   female  15.00      0      0         330923   8.0292   NaN        Q  \n",
       "39   female  14.00      1      0           2651  11.2417   NaN        C  \n",
       "43   female   3.00      1      2  SC/Paris 2123  41.5792   NaN        C  \n",
       "..      ...    ...    ...    ...            ...      ...   ...      ...  \n",
       "830  female  15.00      1      0           2659  14.4542   NaN        C  \n",
       "831    male   0.83      1      1          29106  18.7500   NaN        S  \n",
       "853  female  16.00      0      1       PC 17592  39.4000   D28        S  \n",
       "869    male   4.00      1      1         347742  11.1333   NaN        S  \n",
       "875  female  15.00      0      0           2667   7.2250   NaN        C  \n",
       "\n",
       "[61 rows x 12 columns]"
      ]
     },
     "execution_count": 40,
     "metadata": {},
     "output_type": "execute_result"
    }
   ],
   "source": [
    "df_titanic.query('Survived == 1 & Age < 18')"
   ]
  },
  {
   "cell_type": "code",
   "execution_count": 42,
   "id": "8e0f99b6",
   "metadata": {},
   "outputs": [],
   "source": [
    "df_titanic_subset = df_titanic[[\"Sex\", \"Survived\"]]"
   ]
  },
  {
   "cell_type": "code",
   "execution_count": 43,
   "id": "db1af43a",
   "metadata": {
    "scrolled": true
   },
   "outputs": [
    {
     "data": {
      "text/html": [
       "<div>\n",
       "<style scoped>\n",
       "    .dataframe tbody tr th:only-of-type {\n",
       "        vertical-align: middle;\n",
       "    }\n",
       "\n",
       "    .dataframe tbody tr th {\n",
       "        vertical-align: top;\n",
       "    }\n",
       "\n",
       "    .dataframe thead th {\n",
       "        text-align: right;\n",
       "    }\n",
       "</style>\n",
       "<table border=\"1\" class=\"dataframe\">\n",
       "  <thead>\n",
       "    <tr style=\"text-align: right;\">\n",
       "      <th></th>\n",
       "      <th>Sex</th>\n",
       "      <th>Survived</th>\n",
       "    </tr>\n",
       "  </thead>\n",
       "  <tbody>\n",
       "    <tr>\n",
       "      <th>0</th>\n",
       "      <td>male</td>\n",
       "      <td>0</td>\n",
       "    </tr>\n",
       "    <tr>\n",
       "      <th>1</th>\n",
       "      <td>female</td>\n",
       "      <td>1</td>\n",
       "    </tr>\n",
       "    <tr>\n",
       "      <th>2</th>\n",
       "      <td>female</td>\n",
       "      <td>1</td>\n",
       "    </tr>\n",
       "    <tr>\n",
       "      <th>3</th>\n",
       "      <td>female</td>\n",
       "      <td>1</td>\n",
       "    </tr>\n",
       "    <tr>\n",
       "      <th>4</th>\n",
       "      <td>male</td>\n",
       "      <td>0</td>\n",
       "    </tr>\n",
       "  </tbody>\n",
       "</table>\n",
       "</div>"
      ],
      "text/plain": [
       "      Sex  Survived\n",
       "0    male         0\n",
       "1  female         1\n",
       "2  female         1\n",
       "3  female         1\n",
       "4    male         0"
      ]
     },
     "execution_count": 43,
     "metadata": {},
     "output_type": "execute_result"
    }
   ],
   "source": [
    "df_titanic_subset.head()"
   ]
  },
  {
   "cell_type": "markdown",
   "id": "df07d810",
   "metadata": {},
   "source": [
    "## Funciones de Agregación"
   ]
  },
  {
   "cell_type": "markdown",
   "id": "9379f2bb",
   "metadata": {},
   "source": [
    "Utilizando Pandas podemos aplicar funciones a nivel de columna. Algunas funciones predefinidas son la media, el desvío estándar y la sumatoria, el valor máximo y el mínimo.\n",
    "\n",
    "Algunas de las funciones de agregación más comunes son:\n",
    "\n",
    "<ul>\n",
    "    <li>min</li>\n",
    "    <li>max</li>\n",
    "    <li>count</li>\n",
    "    <li>sum</li>\n",
    "    <li>prod</li>\n",
    "    <li>mean</li>\n",
    "    <li>median</li>\n",
    "    <li>mode</li>\n",
    "    <li>std</li>\n",
    "    <li>var</li>\n",
    "</ul>"
   ]
  },
  {
   "cell_type": "code",
   "execution_count": 44,
   "id": "aac61072",
   "metadata": {
    "scrolled": true
   },
   "outputs": [
    {
     "data": {
      "text/plain": [
       "12"
      ]
     },
     "execution_count": 44,
     "metadata": {},
     "output_type": "execute_result"
    }
   ],
   "source": [
    "df[\"mes\"].max()"
   ]
  },
  {
   "cell_type": "code",
   "execution_count": 45,
   "id": "3a10e6c1",
   "metadata": {},
   "outputs": [
    {
     "data": {
      "text/plain": [
       "234234.3679999999"
      ]
     },
     "execution_count": 45,
     "metadata": {},
     "output_type": "execute_result"
    }
   ],
   "source": [
    "df[\"asignacion_por_cargo_i\"].mean() # promedio de salarios"
   ]
  },
  {
   "cell_type": "code",
   "execution_count": 46,
   "id": "f501130b",
   "metadata": {
    "scrolled": true
   },
   "outputs": [
    {
     "data": {
      "text/plain": [
       "35043.16008466176"
      ]
     },
     "execution_count": 46,
     "metadata": {},
     "output_type": "execute_result"
    }
   ],
   "source": [
    "df[\"asignacion_por_cargo_i\"].std() #desvio estandar"
   ]
  },
  {
   "cell_type": "code",
   "execution_count": 47,
   "id": "fd786d04",
   "metadata": {},
   "outputs": [
    {
     "data": {
      "text/plain": [
       "97988834.36000001"
      ]
     },
     "execution_count": 47,
     "metadata": {},
     "output_type": "execute_result"
    }
   ],
   "source": [
    "df[\"total_salario_bruto_i_+_ii\"].sum() #presupuesto en salarios"
   ]
  },
  {
   "cell_type": "markdown",
   "id": "3dc27a14",
   "metadata": {},
   "source": [
    "Podemos combinar los filtros que vimos antes con las funciones de agregación para responder preguntas cómo ¿Cuál fue en gasto en asignaciones de funcionarios para la Secretaría de Medios 2019? ¿Y para la de Justicia y Seguridad?"
   ]
  },
  {
   "cell_type": "code",
   "execution_count": 48,
   "id": "4c6b0700",
   "metadata": {},
   "outputs": [
    {
     "data": {
      "text/plain": [
       "3232402.25"
      ]
     },
     "execution_count": 48,
     "metadata": {},
     "output_type": "execute_result"
    }
   ],
   "source": [
    "df[df['reparticion'] == 'SECR de Medios']['total_salario_bruto_i_+_ii'].sum()"
   ]
  },
  {
   "cell_type": "code",
   "execution_count": 49,
   "id": "b5e7ee36",
   "metadata": {},
   "outputs": [
    {
     "data": {
      "text/plain": [
       "3029551.7300000004"
      ]
     },
     "execution_count": 49,
     "metadata": {},
     "output_type": "execute_result"
    }
   ],
   "source": [
    "df[df['reparticion'] == 'SECR Justicia y Seguridad']['total_salario_bruto_i_+_ii'].sum()"
   ]
  },
  {
   "cell_type": "markdown",
   "id": "cbd7b433",
   "metadata": {},
   "source": [
    "Ahora respondamos algunas preguntas: ¿Quién o quiénes del dataset cobran el salario más alto? ¿Y el más bajo?"
   ]
  },
  {
   "cell_type": "code",
   "execution_count": 50,
   "id": "24cd6106",
   "metadata": {
    "scrolled": true
   },
   "outputs": [
    {
     "data": {
      "text/html": [
       "<div>\n",
       "<style scoped>\n",
       "    .dataframe tbody tr th:only-of-type {\n",
       "        vertical-align: middle;\n",
       "    }\n",
       "\n",
       "    .dataframe tbody tr th {\n",
       "        vertical-align: top;\n",
       "    }\n",
       "\n",
       "    .dataframe thead th {\n",
       "        text-align: right;\n",
       "    }\n",
       "</style>\n",
       "<table border=\"1\" class=\"dataframe\">\n",
       "  <thead>\n",
       "    <tr style=\"text-align: right;\">\n",
       "      <th></th>\n",
       "      <th>cuil</th>\n",
       "      <th>anio</th>\n",
       "      <th>mes</th>\n",
       "      <th>funcionario_apellido</th>\n",
       "      <th>funcionario_nombre</th>\n",
       "      <th>reparticion</th>\n",
       "      <th>asignacion_por_cargo_i</th>\n",
       "      <th>aguinaldo_ii</th>\n",
       "      <th>total_salario_bruto_i_+_ii</th>\n",
       "      <th>observaciones</th>\n",
       "    </tr>\n",
       "  </thead>\n",
       "  <tbody>\n",
       "    <tr>\n",
       "      <th>374</th>\n",
       "      <td>20-13872301-2</td>\n",
       "      <td>2019</td>\n",
       "      <td>12</td>\n",
       "      <td>ASTARLOA</td>\n",
       "      <td>GABRIEL MARIA</td>\n",
       "      <td>Procuración General de la Ciudad de Buenos Aires</td>\n",
       "      <td>275089.75</td>\n",
       "      <td>170855.56</td>\n",
       "      <td>445945.31</td>\n",
       "      <td>NaN</td>\n",
       "    </tr>\n",
       "  </tbody>\n",
       "</table>\n",
       "</div>"
      ],
      "text/plain": [
       "              cuil  anio  mes funcionario_apellido funcionario_nombre  \\\n",
       "374  20-13872301-2  2019   12             ASTARLOA      GABRIEL MARIA   \n",
       "\n",
       "                                          reparticion  asignacion_por_cargo_i  \\\n",
       "374  Procuración General de la Ciudad de Buenos Aires               275089.75   \n",
       "\n",
       "     aguinaldo_ii  total_salario_bruto_i_+_ii observaciones  \n",
       "374     170855.56                   445945.31           NaN  "
      ]
     },
     "execution_count": 50,
     "metadata": {},
     "output_type": "execute_result"
    }
   ],
   "source": [
    "df[df['total_salario_bruto_i_+_ii'] == df['total_salario_bruto_i_+_ii'].max()]"
   ]
  },
  {
   "cell_type": "code",
   "execution_count": 51,
   "id": "61184478",
   "metadata": {
    "scrolled": true
   },
   "outputs": [
    {
     "data": {
      "text/html": [
       "<div>\n",
       "<style scoped>\n",
       "    .dataframe tbody tr th:only-of-type {\n",
       "        vertical-align: middle;\n",
       "    }\n",
       "\n",
       "    .dataframe tbody tr th {\n",
       "        vertical-align: top;\n",
       "    }\n",
       "\n",
       "    .dataframe thead th {\n",
       "        text-align: right;\n",
       "    }\n",
       "</style>\n",
       "<table border=\"1\" class=\"dataframe\">\n",
       "  <thead>\n",
       "    <tr style=\"text-align: right;\">\n",
       "      <th></th>\n",
       "      <th>cuil</th>\n",
       "      <th>anio</th>\n",
       "      <th>mes</th>\n",
       "      <th>funcionario_apellido</th>\n",
       "      <th>funcionario_nombre</th>\n",
       "      <th>reparticion</th>\n",
       "      <th>asignacion_por_cargo_i</th>\n",
       "      <th>aguinaldo_ii</th>\n",
       "      <th>total_salario_bruto_i_+_ii</th>\n",
       "      <th>observaciones</th>\n",
       "    </tr>\n",
       "  </thead>\n",
       "  <tbody>\n",
       "    <tr>\n",
       "      <th>344</th>\n",
       "      <td>27-30744939-6</td>\n",
       "      <td>2019</td>\n",
       "      <td>12</td>\n",
       "      <td>FERRERO</td>\n",
       "      <td>GENOVEVA</td>\n",
       "      <td>SECR Administración de Seguridad y Emergencias</td>\n",
       "      <td>74991.86</td>\n",
       "      <td>110404.68</td>\n",
       "      <td>185396.54</td>\n",
       "      <td>baja al 9/12</td>\n",
       "    </tr>\n",
       "    <tr>\n",
       "      <th>348</th>\n",
       "      <td>20-22709722-2</td>\n",
       "      <td>2019</td>\n",
       "      <td>12</td>\n",
       "      <td>LOPEZ</td>\n",
       "      <td>MATIAS</td>\n",
       "      <td>SECR Desarrollo Ciudadano</td>\n",
       "      <td>74991.86</td>\n",
       "      <td>110404.68</td>\n",
       "      <td>185396.54</td>\n",
       "      <td>baja al 9/12</td>\n",
       "    </tr>\n",
       "    <tr>\n",
       "      <th>354</th>\n",
       "      <td>20-20008464-1</td>\n",
       "      <td>2019</td>\n",
       "      <td>12</td>\n",
       "      <td>GIUSTI</td>\n",
       "      <td>JOSE LUIS</td>\n",
       "      <td>UPE Transferencia de Funciones y Facultades en...</td>\n",
       "      <td>74991.86</td>\n",
       "      <td>110404.68</td>\n",
       "      <td>185396.54</td>\n",
       "      <td>baja al 9/12</td>\n",
       "    </tr>\n",
       "    <tr>\n",
       "      <th>358</th>\n",
       "      <td>20-31164337-2</td>\n",
       "      <td>2019</td>\n",
       "      <td>12</td>\n",
       "      <td>DI BENEDETTO</td>\n",
       "      <td>FEDERICO</td>\n",
       "      <td>SS Comunicacion</td>\n",
       "      <td>74991.86</td>\n",
       "      <td>110404.68</td>\n",
       "      <td>185396.54</td>\n",
       "      <td>baja al 9/12</td>\n",
       "    </tr>\n",
       "    <tr>\n",
       "      <th>360</th>\n",
       "      <td>20-28908968-4</td>\n",
       "      <td>2019</td>\n",
       "      <td>12</td>\n",
       "      <td>COELHO CHICANO</td>\n",
       "      <td>CHRISTIAN</td>\n",
       "      <td>SS Contenidos</td>\n",
       "      <td>74991.86</td>\n",
       "      <td>110404.68</td>\n",
       "      <td>185396.54</td>\n",
       "      <td>baja al 9/12</td>\n",
       "    </tr>\n",
       "    <tr>\n",
       "      <th>362</th>\n",
       "      <td>20-24424714-9</td>\n",
       "      <td>2019</td>\n",
       "      <td>12</td>\n",
       "      <td>D'ALESSANDRO</td>\n",
       "      <td>MARCELO SILVIO</td>\n",
       "      <td>SECR Justicia y Seguridad</td>\n",
       "      <td>74991.86</td>\n",
       "      <td>110404.68</td>\n",
       "      <td>185396.54</td>\n",
       "      <td>baja al 9/12</td>\n",
       "    </tr>\n",
       "  </tbody>\n",
       "</table>\n",
       "</div>"
      ],
      "text/plain": [
       "              cuil  anio  mes funcionario_apellido funcionario_nombre  \\\n",
       "344  27-30744939-6  2019   12              FERRERO           GENOVEVA   \n",
       "348  20-22709722-2  2019   12                LOPEZ             MATIAS   \n",
       "354  20-20008464-1  2019   12               GIUSTI          JOSE LUIS   \n",
       "358  20-31164337-2  2019   12         DI BENEDETTO           FEDERICO   \n",
       "360  20-28908968-4  2019   12       COELHO CHICANO          CHRISTIAN   \n",
       "362  20-24424714-9  2019   12         D'ALESSANDRO     MARCELO SILVIO   \n",
       "\n",
       "                                           reparticion  \\\n",
       "344     SECR Administración de Seguridad y Emergencias   \n",
       "348                          SECR Desarrollo Ciudadano   \n",
       "354  UPE Transferencia de Funciones y Facultades en...   \n",
       "358                                    SS Comunicacion   \n",
       "360                                      SS Contenidos   \n",
       "362                          SECR Justicia y Seguridad   \n",
       "\n",
       "     asignacion_por_cargo_i  aguinaldo_ii  total_salario_bruto_i_+_ii  \\\n",
       "344                74991.86     110404.68                   185396.54   \n",
       "348                74991.86     110404.68                   185396.54   \n",
       "354                74991.86     110404.68                   185396.54   \n",
       "358                74991.86     110404.68                   185396.54   \n",
       "360                74991.86     110404.68                   185396.54   \n",
       "362                74991.86     110404.68                   185396.54   \n",
       "\n",
       "    observaciones  \n",
       "344  baja al 9/12  \n",
       "348  baja al 9/12  \n",
       "354  baja al 9/12  \n",
       "358  baja al 9/12  \n",
       "360  baja al 9/12  \n",
       "362  baja al 9/12  "
      ]
     },
     "execution_count": 51,
     "metadata": {},
     "output_type": "execute_result"
    }
   ],
   "source": [
    "df[df['total_salario_bruto_i_+_ii'] == df['total_salario_bruto_i_+_ii'].min()]"
   ]
  },
  {
   "cell_type": "markdown",
   "id": "fd3628e3",
   "metadata": {},
   "source": [
    "## Otros analisis descriptivos"
   ]
  },
  {
   "cell_type": "markdown",
   "id": "16934398",
   "metadata": {},
   "source": [
    "### Para variables numericas"
   ]
  },
  {
   "cell_type": "code",
   "execution_count": 52,
   "id": "92d0023b",
   "metadata": {},
   "outputs": [
    {
     "data": {
      "text/html": [
       "<div>\n",
       "<style scoped>\n",
       "    .dataframe tbody tr th:only-of-type {\n",
       "        vertical-align: middle;\n",
       "    }\n",
       "\n",
       "    .dataframe tbody tr th {\n",
       "        vertical-align: top;\n",
       "    }\n",
       "\n",
       "    .dataframe thead th {\n",
       "        text-align: right;\n",
       "    }\n",
       "</style>\n",
       "<table border=\"1\" class=\"dataframe\">\n",
       "  <thead>\n",
       "    <tr style=\"text-align: right;\">\n",
       "      <th></th>\n",
       "      <th>anio</th>\n",
       "      <th>mes</th>\n",
       "      <th>asignacion_por_cargo_i</th>\n",
       "      <th>aguinaldo_ii</th>\n",
       "      <th>total_salario_bruto_i_+_ii</th>\n",
       "    </tr>\n",
       "  </thead>\n",
       "  <tbody>\n",
       "    <tr>\n",
       "      <th>count</th>\n",
       "      <td>385.0</td>\n",
       "      <td>385.000000</td>\n",
       "      <td>385.000000</td>\n",
       "      <td>385.000000</td>\n",
       "      <td>385.000000</td>\n",
       "    </tr>\n",
       "    <tr>\n",
       "      <th>mean</th>\n",
       "      <td>2019.0</td>\n",
       "      <td>6.631169</td>\n",
       "      <td>234234.368000</td>\n",
       "      <td>20282.084883</td>\n",
       "      <td>254516.452883</td>\n",
       "    </tr>\n",
       "    <tr>\n",
       "      <th>std</th>\n",
       "      <td>0.0</td>\n",
       "      <td>3.539077</td>\n",
       "      <td>35043.160085</td>\n",
       "      <td>45248.840725</td>\n",
       "      <td>51434.987870</td>\n",
       "    </tr>\n",
       "    <tr>\n",
       "      <th>min</th>\n",
       "      <td>2019.0</td>\n",
       "      <td>1.000000</td>\n",
       "      <td>74991.860000</td>\n",
       "      <td>0.000000</td>\n",
       "      <td>185396.540000</td>\n",
       "    </tr>\n",
       "    <tr>\n",
       "      <th>25%</th>\n",
       "      <td>2019.0</td>\n",
       "      <td>4.000000</td>\n",
       "      <td>224516.620000</td>\n",
       "      <td>0.000000</td>\n",
       "      <td>224516.620000</td>\n",
       "    </tr>\n",
       "    <tr>\n",
       "      <th>50%</th>\n",
       "      <td>2019.0</td>\n",
       "      <td>7.000000</td>\n",
       "      <td>239470.360000</td>\n",
       "      <td>0.000000</td>\n",
       "      <td>245811.620000</td>\n",
       "    </tr>\n",
       "    <tr>\n",
       "      <th>75%</th>\n",
       "      <td>2019.0</td>\n",
       "      <td>10.000000</td>\n",
       "      <td>249972.870000</td>\n",
       "      <td>0.000000</td>\n",
       "      <td>263531.980000</td>\n",
       "    </tr>\n",
       "    <tr>\n",
       "      <th>max</th>\n",
       "      <td>2019.0</td>\n",
       "      <td>12.000000</td>\n",
       "      <td>275089.750000</td>\n",
       "      <td>170855.560000</td>\n",
       "      <td>445945.310000</td>\n",
       "    </tr>\n",
       "  </tbody>\n",
       "</table>\n",
       "</div>"
      ],
      "text/plain": [
       "         anio         mes  asignacion_por_cargo_i   aguinaldo_ii  \\\n",
       "count   385.0  385.000000              385.000000     385.000000   \n",
       "mean   2019.0    6.631169           234234.368000   20282.084883   \n",
       "std       0.0    3.539077            35043.160085   45248.840725   \n",
       "min    2019.0    1.000000            74991.860000       0.000000   \n",
       "25%    2019.0    4.000000           224516.620000       0.000000   \n",
       "50%    2019.0    7.000000           239470.360000       0.000000   \n",
       "75%    2019.0   10.000000           249972.870000       0.000000   \n",
       "max    2019.0   12.000000           275089.750000  170855.560000   \n",
       "\n",
       "       total_salario_bruto_i_+_ii  \n",
       "count                  385.000000  \n",
       "mean                254516.452883  \n",
       "std                  51434.987870  \n",
       "min                 185396.540000  \n",
       "25%                 224516.620000  \n",
       "50%                 245811.620000  \n",
       "75%                 263531.980000  \n",
       "max                 445945.310000  "
      ]
     },
     "execution_count": 52,
     "metadata": {},
     "output_type": "execute_result"
    }
   ],
   "source": [
    "df.describe()"
   ]
  },
  {
   "cell_type": "markdown",
   "id": "ea0bac31",
   "metadata": {},
   "source": [
    "### Para variables categoricas"
   ]
  },
  {
   "cell_type": "code",
   "execution_count": 53,
   "id": "47ae4792",
   "metadata": {
    "scrolled": true
   },
   "outputs": [
    {
     "data": {
      "text/plain": [
       "SECR Desarrollo Ciudadano                                         13\n",
       "Ministerio de Salud                                               13\n",
       "SECR Justicia y Seguridad                                         13\n",
       "SECR de Medios                                                    13\n",
       "Jefe de Gobierno                                                  12\n",
       "SECR Legal y Técnica                                              12\n",
       "SS Contenidos                                                     12\n",
       "Ente de Turismo Ley Nº 2627                                       12\n",
       "Consejo de los Derechos de Niñas, Niños y Adoles - Presidencia    12\n",
       "Vicejefatura de Gobierno                                          12\n",
       "UPE Transferencia de Funciones y Facultades en Materia de Seg.    12\n",
       "SECR Administración de Seguridad y Emergencias                    12\n",
       "SECR Integración Social y Urbana                                  12\n",
       "SECR Integración Social Para Personas Mayores                     12\n",
       "SECR Planificación, Evaluación y Coordinación de Gestión          12\n",
       "SS Comunicacion                                                   12\n",
       "Ministerio de Gobierno                                            12\n",
       "Ministerio de Desarrollo Urbano y Transporte                      12\n",
       "Jefatura de Gabinete de Ministros                                 12\n",
       "Procuración General de la Ciudad de Buenos Aires                  12\n",
       "Sindicatura General de la Ciudad de Buenos Aires                  12\n",
       "Ministerio de Cultura                                             12\n",
       "SECR Transporte                                                   11\n",
       "Ministerio de Educación e Innovación                              11\n",
       "SECR Coordinación General                                         11\n",
       "SECR Cultura Ciudadana y Función Pública                          11\n",
       "SECR General y de Relaciones Internacionales                      11\n",
       "Ministerio de Economía y Finanzas                                 11\n",
       "Ministerio de Hábitat y Desarrollo Humano                         11\n",
       "SECR Atención y Gestión Ciudadana                                 11\n",
       "Ministerio de Ambiente y Espacio Público                          11\n",
       "Ministerio de Espacio Público e Higiene Urbana                     2\n",
       "SECR Ciencia, Tecnologia e Innovacion                              2\n",
       "Ministerio de Desarrollo Humano y Hábitat                          2\n",
       "SECR Desarrollo Urbano                                             1\n",
       "Ministerio de Desarrollo Económico y Producción                    1\n",
       "SECR Ambiente                                                      1\n",
       "SECR Comunicación, Contenidos y Participación Ciudadana            1\n",
       "SECR Atención Ciudadana y Gestión Comunal                          1\n",
       "Ministerio de Educación                                            1\n",
       "Ministerio de Hacienda y Finanzas                                  1\n",
       "SECR Innovación y Transformación Digital                           1\n",
       "SECR Transformación Cultural                                       1\n",
       "SECR Transporte y Obras Públicas                                   1\n",
       "SECR General y Relaciones Internacionales                          1\n",
       "SECR Asuntos Estratégicos                                          1\n",
       "Name: reparticion, dtype: int64"
      ]
     },
     "execution_count": 53,
     "metadata": {},
     "output_type": "execute_result"
    }
   ],
   "source": [
    "df[\"reparticion\"].value_counts()"
   ]
  },
  {
   "cell_type": "markdown",
   "id": "8b93643f",
   "metadata": {},
   "source": [
    "## Ejercicios"
   ]
  },
  {
   "cell_type": "markdown",
   "id": "50bca573",
   "metadata": {},
   "source": [
    "1) ¿Cuál era la edad promedio de los pasajeros de cada clase (Pclass)?\n",
    "\n",
    "2) ¿Cuál fue la tarifa que pagaron en promedio los hombres? ¿Y las mujeres?\n",
    "\n",
    "3) ¿Cuánto pagaron en total los pasajeros de primera clase para subir al Titanic? ¿Y los de tercera?\n",
    "\n",
    "4) ¿Cuántos pasajeros había en cada tipo de clase?"
   ]
  },
  {
   "cell_type": "code",
   "execution_count": 55,
   "id": "2b5fde16",
   "metadata": {},
   "outputs": [
    {
     "data": {
      "text/plain": [
       "Pclass\n",
       "1    38.233441\n",
       "2    29.877630\n",
       "3    25.140620\n",
       "Name: Age, dtype: float64"
      ]
     },
     "execution_count": 55,
     "metadata": {},
     "output_type": "execute_result"
    }
   ],
   "source": [
    "df_titanic.groupby(\"Pclass\")[\"Age\"].mean()"
   ]
  },
  {
   "cell_type": "code",
   "execution_count": 56,
   "id": "88d8373f",
   "metadata": {},
   "outputs": [
    {
     "data": {
      "text/plain": [
       "Sex\n",
       "female    44.479818\n",
       "male      25.523893\n",
       "Name: Fare, dtype: float64"
      ]
     },
     "execution_count": 56,
     "metadata": {},
     "output_type": "execute_result"
    }
   ],
   "source": [
    "df_titanic.groupby(\"Sex\")[\"Fare\"].mean()"
   ]
  },
  {
   "cell_type": "code",
   "execution_count": 57,
   "id": "eaa0ab30",
   "metadata": {},
   "outputs": [
    {
     "data": {
      "text/plain": [
       "Pclass\n",
       "1    18177.4125\n",
       "2     3801.8417\n",
       "3     6714.6951\n",
       "Name: Fare, dtype: float64"
      ]
     },
     "execution_count": 57,
     "metadata": {},
     "output_type": "execute_result"
    }
   ],
   "source": [
    "df_titanic.groupby(\"Pclass\")[\"Fare\"].sum()"
   ]
  },
  {
   "cell_type": "code",
   "execution_count": 61,
   "id": "4e5cd5af",
   "metadata": {
    "scrolled": true
   },
   "outputs": [
    {
     "data": {
      "text/plain": [
       "Pclass\n",
       "1    216\n",
       "2    184\n",
       "3    491\n",
       "Name: PassengerId, dtype: int64"
      ]
     },
     "execution_count": 61,
     "metadata": {},
     "output_type": "execute_result"
    }
   ],
   "source": [
    "df_titanic.groupby(\"Pclass\")[\"PassengerId\"].count()"
   ]
  },
  {
   "cell_type": "markdown",
   "id": "fddb3f60",
   "metadata": {},
   "source": [
    "### Ordenar por columnas y limitar la cantidad de resultados"
   ]
  },
  {
   "cell_type": "markdown",
   "id": "8b8003af",
   "metadata": {},
   "source": [
    "Otra forma de resolver el problema de encontrar el mayor y el menos es con el método sort_values. Este método puede recibir un valor único (nombre de columna) o una lista (con varias columnas) y un orden asc o desc. Por default el orden es asc.\n",
    "\n",
    "Si combinamos el ordenamiento con el método head() para limitar la cantidad de resultados, podemos encontrar los N primeros."
   ]
  },
  {
   "cell_type": "code",
   "execution_count": 63,
   "id": "ce81b14f",
   "metadata": {},
   "outputs": [],
   "source": [
    "df.sort_values?"
   ]
  },
  {
   "cell_type": "code",
   "execution_count": 64,
   "id": "93aa65ee",
   "metadata": {},
   "outputs": [
    {
     "data": {
      "text/html": [
       "<div>\n",
       "<style scoped>\n",
       "    .dataframe tbody tr th:only-of-type {\n",
       "        vertical-align: middle;\n",
       "    }\n",
       "\n",
       "    .dataframe tbody tr th {\n",
       "        vertical-align: top;\n",
       "    }\n",
       "\n",
       "    .dataframe thead th {\n",
       "        text-align: right;\n",
       "    }\n",
       "</style>\n",
       "<table border=\"1\" class=\"dataframe\">\n",
       "  <thead>\n",
       "    <tr style=\"text-align: right;\">\n",
       "      <th></th>\n",
       "      <th>cuil</th>\n",
       "      <th>anio</th>\n",
       "      <th>mes</th>\n",
       "      <th>funcionario_apellido</th>\n",
       "      <th>funcionario_nombre</th>\n",
       "      <th>reparticion</th>\n",
       "      <th>asignacion_por_cargo_i</th>\n",
       "      <th>aguinaldo_ii</th>\n",
       "      <th>total_salario_bruto_i_+_ii</th>\n",
       "      <th>observaciones</th>\n",
       "    </tr>\n",
       "  </thead>\n",
       "  <tbody>\n",
       "    <tr>\n",
       "      <th>374</th>\n",
       "      <td>20-13872301-2</td>\n",
       "      <td>2019</td>\n",
       "      <td>12</td>\n",
       "      <td>ASTARLOA</td>\n",
       "      <td>GABRIEL MARIA</td>\n",
       "      <td>Procuración General de la Ciudad de Buenos Aires</td>\n",
       "      <td>275089.75</td>\n",
       "      <td>170855.56</td>\n",
       "      <td>445945.31</td>\n",
       "      <td>NaN</td>\n",
       "    </tr>\n",
       "  </tbody>\n",
       "</table>\n",
       "</div>"
      ],
      "text/plain": [
       "              cuil  anio  mes funcionario_apellido funcionario_nombre  \\\n",
       "374  20-13872301-2  2019   12             ASTARLOA      GABRIEL MARIA   \n",
       "\n",
       "                                          reparticion  asignacion_por_cargo_i  \\\n",
       "374  Procuración General de la Ciudad de Buenos Aires               275089.75   \n",
       "\n",
       "     aguinaldo_ii  total_salario_bruto_i_+_ii observaciones  \n",
       "374     170855.56                   445945.31           NaN  "
      ]
     },
     "execution_count": 64,
     "metadata": {},
     "output_type": "execute_result"
    }
   ],
   "source": [
    "# calcular max (order by limit 1)\n",
    "df.sort_values('total_salario_bruto_i_+_ii', ascending=False).head(1)"
   ]
  },
  {
   "cell_type": "code",
   "execution_count": 65,
   "id": "1e808dc7",
   "metadata": {
    "scrolled": true
   },
   "outputs": [
    {
     "data": {
      "text/html": [
       "<div>\n",
       "<style scoped>\n",
       "    .dataframe tbody tr th:only-of-type {\n",
       "        vertical-align: middle;\n",
       "    }\n",
       "\n",
       "    .dataframe tbody tr th {\n",
       "        vertical-align: top;\n",
       "    }\n",
       "\n",
       "    .dataframe thead th {\n",
       "        text-align: right;\n",
       "    }\n",
       "</style>\n",
       "<table border=\"1\" class=\"dataframe\">\n",
       "  <thead>\n",
       "    <tr style=\"text-align: right;\">\n",
       "      <th></th>\n",
       "      <th>cuil</th>\n",
       "      <th>anio</th>\n",
       "      <th>mes</th>\n",
       "      <th>funcionario_apellido</th>\n",
       "      <th>funcionario_nombre</th>\n",
       "      <th>reparticion</th>\n",
       "      <th>asignacion_por_cargo_i</th>\n",
       "      <th>aguinaldo_ii</th>\n",
       "      <th>total_salario_bruto_i_+_ii</th>\n",
       "      <th>observaciones</th>\n",
       "    </tr>\n",
       "  </thead>\n",
       "  <tbody>\n",
       "    <tr>\n",
       "      <th>344</th>\n",
       "      <td>27-30744939-6</td>\n",
       "      <td>2019</td>\n",
       "      <td>12</td>\n",
       "      <td>FERRERO</td>\n",
       "      <td>GENOVEVA</td>\n",
       "      <td>SECR Administración de Seguridad y Emergencias</td>\n",
       "      <td>74991.86</td>\n",
       "      <td>110404.68</td>\n",
       "      <td>185396.54</td>\n",
       "      <td>baja al 9/12</td>\n",
       "    </tr>\n",
       "  </tbody>\n",
       "</table>\n",
       "</div>"
      ],
      "text/plain": [
       "              cuil  anio  mes funcionario_apellido funcionario_nombre  \\\n",
       "344  27-30744939-6  2019   12              FERRERO           GENOVEVA   \n",
       "\n",
       "                                        reparticion  asignacion_por_cargo_i  \\\n",
       "344  SECR Administración de Seguridad y Emergencias                74991.86   \n",
       "\n",
       "     aguinaldo_ii  total_salario_bruto_i_+_ii observaciones  \n",
       "344     110404.68                   185396.54  baja al 9/12  "
      ]
     },
     "execution_count": 65,
     "metadata": {},
     "output_type": "execute_result"
    }
   ],
   "source": [
    "#calcular min\n",
    "df.sort_values('total_salario_bruto_i_+_ii').head(1)"
   ]
  },
  {
   "cell_type": "markdown",
   "id": "e2029a4e",
   "metadata": {},
   "source": [
    "## Anexo: volviendo al tema de la vectorización\n",
    "¿Por qué es tan importante trabajar con Pandas y no con funciones escritas por nosotros en Python nativo y que procesen los datos dentro de un for loop?\n",
    "\n",
    "Por un lado está la comodidad. Hay mucha funcionalidad que ya está desarrollada en Pandas. Existen funciones que resuelven muchos de los problemas clásicos de manipular datos: agrupar, sumarizar, sacar estadísticas, filtrar, etc. Pero además hay una razón de performance.\n",
    "\n",
    "Veamos una demostración de que vectorizar es más eficiente. Vamos a crear dos listas de 1.000.000 de números aleatorios cada una y vamos a tratar de multiplicar elemento por elemento con pandas y sin pandas:"
   ]
  },
  {
   "cell_type": "code",
   "execution_count": 66,
   "id": "ba9dd881",
   "metadata": {},
   "outputs": [],
   "source": [
    "lista1 = list(np.random.randint(1, 100, 1000000))\n",
    "lista2 = list(np.random.randint(1, 100, 1000000))"
   ]
  },
  {
   "cell_type": "code",
   "execution_count": 67,
   "id": "7c310fff",
   "metadata": {},
   "outputs": [
    {
     "name": "stdout",
     "output_type": "stream",
     "text": [
      "72.1 ms ± 579 µs per loop (mean ± std. dev. of 7 runs, 10 loops each)\n"
     ]
    }
   ],
   "source": [
    "%%timeit \n",
    "for x,y in zip(lista1,lista2):\n",
    "    x * y"
   ]
  },
  {
   "cell_type": "markdown",
   "id": "5100e85f",
   "metadata": {},
   "source": [
    "Ahora probemos hacer lo mismo con dos series de Pandas"
   ]
  },
  {
   "cell_type": "code",
   "execution_count": 68,
   "id": "1d0973f9",
   "metadata": {},
   "outputs": [],
   "source": [
    "serie1 = pd.Series(lista1)\n",
    "serie2 = pd.Series(lista2)"
   ]
  },
  {
   "cell_type": "code",
   "execution_count": 69,
   "id": "da80ab2e",
   "metadata": {},
   "outputs": [
    {
     "name": "stdout",
     "output_type": "stream",
     "text": [
      "1.47 ms ± 40.7 µs per loop (mean ± std. dev. of 7 runs, 1000 loops each)\n"
     ]
    }
   ],
   "source": [
    "%%timeit \n",
    "resultado = serie1 * serie2"
   ]
  },
  {
   "cell_type": "markdown",
   "id": "3b6e9b1e",
   "metadata": {},
   "source": [
    "Conclusión: la operación vectorizada es más de 70 veces más rápida."
   ]
  }
 ],
 "metadata": {
  "kernelspec": {
   "display_name": "Python 3 (ipykernel)",
   "language": "python",
   "name": "python3"
  },
  "language_info": {
   "codemirror_mode": {
    "name": "ipython",
    "version": 3
   },
   "file_extension": ".py",
   "mimetype": "text/x-python",
   "name": "python",
   "nbconvert_exporter": "python",
   "pygments_lexer": "ipython3",
   "version": "3.9.13"
  }
 },
 "nbformat": 4,
 "nbformat_minor": 5
}
